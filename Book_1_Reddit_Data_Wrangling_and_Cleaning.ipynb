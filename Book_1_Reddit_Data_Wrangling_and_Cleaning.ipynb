{
  "cells": [
    {
      "cell_type": "markdown",
      "id": "2f345ea3",
      "metadata": {
        "id": "2f345ea3"
      },
      "source": [
        "# **Can Social Media Sentiment Drive Stock Prices?**"
      ]
    },
    {
      "cell_type": "markdown",
      "id": "7e2262c6-ad91-4a0b-b619-26261f215002",
      "metadata": {
        "id": "7e2262c6-ad91-4a0b-b619-26261f215002"
      },
      "source": [
        "# _Book 1: Reddit Data - Data Wrangling and Cleaning_\n"
      ]
    },
    {
      "cell_type": "markdown",
      "id": "7062e70f",
      "metadata": {
        "id": "7062e70f"
      },
      "source": [
        "## Table of Contents\n",
        "[Introduction and Problem Statement](#Introduction-and-Problem-Statement)\\\n",
        "[Reddit Data Set](#Reddit-Data-Set)\n",
        "- [Basic EDA](#Basic-EDA)\n",
        "- [Check for Null/NaN values and Duplicates](#Check-for-Null/NaN-values-and-Duplicates)\n",
        "- [Remove Features that are not needed](#Remove-Features-that-are-not-needed)\n",
        "\n",
        "[Preprocess for VADER](#Preprocess-for-VADER)\n",
        "- [Cleaning the text data in `cleaned_posts`](#Cleaning-the-text-data-in-`cleaned_posts`)\n",
        "- [Remove Stop Words](#Remove-Stop-Words)\n",
        "\n",
        "[Sentiment Scoring using VADER](#Sentiment-Scoring-using-VADER)\n",
        "- [Weighted Sentiment](#Weighted-Sentiment)"
      ]
    },
    {
      "cell_type": "markdown",
      "id": "dbd9dde2-cd04-4ebd-9664-f35ad55af425",
      "metadata": {
        "id": "dbd9dde2-cd04-4ebd-9664-f35ad55af425"
      },
      "source": [
        "## Introduction and Problem Statement\n",
        "Predicting stock market movement and trends is of great interest to both individuals and companies. In order to make informed and secure decisions, traders need to forecast stock trends - determine buy/sell opportunities. The stock market is notoriously difficult to predict, stocks are inherently volatile. Besides the traditional historical analysis of the stock data there are several socio-economic external factors, such as social media and financial news.\n",
        "\n",
        "We are living in the day and age of fast media and information. News, thoughts, emotions are constantly shared instantly. Social media has millions of users posting hundreds of millions of posts daily - there are many outlets for millions of users to share information.\n",
        "\n",
        "Traditionally stock market analysis solely took an interest in the historical movement of the stock pricing. This is not enough anymore, not with the growing social media presence of companies and how quickly that information is shared worldwide.\n",
        "\n",
        "Social media sentiment analysis provides insights into positive or negative views on stocks, trends and the company itself. Sentiment about companies, about stock movements are shared on a regular basis. To analyze this sentiment is crucial to navigate the complex field of stock market analysis."
      ]
    },
    {
      "cell_type": "markdown",
      "id": "755dd716",
      "metadata": {
        "id": "755dd716"
      },
      "source": [
        "### Approach"
      ]
    },
    {
      "cell_type": "markdown",
      "id": "f35886b1",
      "metadata": {
        "id": "f35886b1"
      },
      "source": [
        "For this analysis we will be interested in only analyzing TSLA (Tesla Inc.) stock and utilizing Reddit as our social media posts. Reddit is a great form of social media because there are several subreddits that are devoted solely for stocks and stock analysis, which means there is abundant information that can be collected for stock sentiment."
      ]
    },
    {
      "cell_type": "markdown",
      "id": "aCbSSEfghJIq",
      "metadata": {
        "id": "aCbSSEfghJIq"
      },
      "source": [
        "Book 1 will focus on the EDA, text cleaning and preparation of the text data to run sentiment analysis. Once the preprocessing steps are completed we can perform our sentiment scoring.The sentiment score that will be modeled here will then be used collectively with our stock data/information to predict the stock outcome.\n",
        "\n",
        "We will be utilizing ***VADER*** (Valance Aware Dictionary and sEntiment Reasoner) a strong sentiment model that uses the bag of words approach to calculating the sentiment scores. VADER is a great module because it reads informal language, sentence structure and even emojiis. That is why VADER is perfect for predicting the sentiment of social media texts."
      ]
    },
    {
      "cell_type": "markdown",
      "id": "dfc4d745",
      "metadata": {
        "id": "dfc4d745"
      },
      "source": [
        "### Import Python Packages"
      ]
    },
    {
      "cell_type": "code",
      "execution_count": null,
      "id": "09680310-a413-4050-a332-0f282a3080ac",
      "metadata": {
        "id": "09680310-a413-4050-a332-0f282a3080ac"
      },
      "outputs": [],
      "source": [
        "# import the basic packages\n",
        "import pandas as pd\n",
        "import numpy as np\n",
        "import matplotlib.pyplot as plt\n",
        "import seaborn as sns\n",
        "import scipy as stats\n",
        "\n",
        "# financial package\n",
        "import yfinance as yf\n",
        "\n",
        "# NLP packages\n",
        "import nltk\n",
        "from nltk.sentiment import SentimentIntensityAnalyzer\n",
        "from nltk.corpus import stopwords\n",
        "from nltk.tokenize import word_tokenize\n",
        "from nltk.stem import PorterStemmer, WordNetLemmatizer\n",
        "from string import punctuation\n",
        "\n",
        "# import sklearn packages\n",
        "from sklearn.feature_extraction.text import CountVectorizer, TfidfVectorizer\n",
        "from sklearn.model_selection import train_test_split\n",
        "from sklearn.preprocessing import OneHotEncoder\n",
        "\n",
        "# ignore warnings\n",
        "import warnings\n",
        "warnings.filterwarnings('ignore')"
      ]
    },
    {
      "cell_type": "markdown",
      "id": "5c74220b-1e62-4bf8-97df-90ef5ffe4494",
      "metadata": {
        "id": "5c74220b-1e62-4bf8-97df-90ef5ffe4494"
      },
      "source": [
        "## Reddit Data Set"
      ]
    },
    {
      "cell_type": "markdown",
      "id": "7e3cf51b",
      "metadata": {
        "id": "7e3cf51b"
      },
      "source": [
        "The data was sourced from [Kaggle](https://www.kaggle.com/datasets/pavellexyr/one-year-of-tsla-on-reddit)."
      ]
    },
    {
      "cell_type": "code",
      "execution_count": null,
      "id": "4fe23a15-9415-455d-b789-3bf21ba476a0",
      "metadata": {
        "id": "4fe23a15-9415-455d-b789-3bf21ba476a0"
      },
      "outputs": [],
      "source": [
        "reddit_comment_df = pd.read_csv('data/one-year-of-tsla-on-reddit-comments.csv')\n",
        "reddit_posts_df = pd.read_csv('data/one-year-of-tsla-on-reddit-posts.csv')"
      ]
    },
    {
      "cell_type": "code",
      "execution_count": null,
      "id": "DrzYRFaVP_c-",
      "metadata": {
        "id": "DrzYRFaVP_c-"
      },
      "outputs": [],
      "source": [
        "# to see all the columns in the data sets.\n",
        "pd.options.display.max_columns=None"
      ]
    },
    {
      "cell_type": "markdown",
      "id": "D7baRqap97T_",
      "metadata": {
        "id": "D7baRqap97T_"
      },
      "source": [
        "We have 2 separate data frames for comments and posts. We will check if they can be joined on a specific column.\n",
        "\n",
        "The reason the 2 separate data frames will be useful as a combined data frame is because the associated `score` column -- this will be used as a multiplier to our sentiment score. This will be discussed in detail below."
      ]
    },
    {
      "cell_type": "code",
      "execution_count": null,
      "id": "fbf8dc41",
      "metadata": {
        "colab": {
          "base_uri": "https://localhost:8080/",
          "height": 206
        },
        "id": "fbf8dc41",
        "outputId": "73444ad0-df14-47f1-964c-d4807258479d"
      },
      "outputs": [
        {
          "data": {
            "text/html": [
              "<div>\n",
              "<style scoped>\n",
              "    .dataframe tbody tr th:only-of-type {\n",
              "        vertical-align: middle;\n",
              "    }\n",
              "\n",
              "    .dataframe tbody tr th {\n",
              "        vertical-align: top;\n",
              "    }\n",
              "\n",
              "    .dataframe thead th {\n",
              "        text-align: right;\n",
              "    }\n",
              "</style>\n",
              "<table border=\"1\" class=\"dataframe\">\n",
              "  <thead>\n",
              "    <tr style=\"text-align: right;\">\n",
              "      <th></th>\n",
              "      <th>type</th>\n",
              "      <th>id</th>\n",
              "      <th>subreddit.id</th>\n",
              "      <th>subreddit.name</th>\n",
              "      <th>subreddit.nsfw</th>\n",
              "      <th>created_utc</th>\n",
              "      <th>permalink</th>\n",
              "      <th>body</th>\n",
              "      <th>sentiment</th>\n",
              "      <th>score</th>\n",
              "    </tr>\n",
              "  </thead>\n",
              "  <tbody>\n",
              "    <tr>\n",
              "      <th>0</th>\n",
              "      <td>comment</td>\n",
              "      <td>ievql0n</td>\n",
              "      <td>2rndg</td>\n",
              "      <td>valueinvesting</td>\n",
              "      <td>False</td>\n",
              "      <td>1656978625</td>\n",
              "      <td>https://old.reddit.com/r/ValueInvesting/commen...</td>\n",
              "      <td>When TSLA was at 1K share price :\\n\\n8B sales/...</td>\n",
              "      <td>0.2960</td>\n",
              "      <td>1</td>\n",
              "    </tr>\n",
              "    <tr>\n",
              "      <th>1</th>\n",
              "      <td>comment</td>\n",
              "      <td>ievpqay</td>\n",
              "      <td>2qjfk</td>\n",
              "      <td>stocks</td>\n",
              "      <td>False</td>\n",
              "      <td>1656978201</td>\n",
              "      <td>https://old.reddit.com/r/stocks/comments/vrje7...</td>\n",
              "      <td>$TSLA will go down because you own the stock… ...</td>\n",
              "      <td>0.2136</td>\n",
              "      <td>1</td>\n",
              "    </tr>\n",
              "    <tr>\n",
              "      <th>2</th>\n",
              "      <td>comment</td>\n",
              "      <td>ievo646</td>\n",
              "      <td>2th52</td>\n",
              "      <td>wallstreetbets</td>\n",
              "      <td>False</td>\n",
              "      <td>1656977438</td>\n",
              "      <td>https://old.reddit.com/r/wallstreetbets/commen...</td>\n",
              "      <td>TSLA 🚀🚀🚀🚀🚀🚀🚀</td>\n",
              "      <td>NaN</td>\n",
              "      <td>4</td>\n",
              "    </tr>\n",
              "    <tr>\n",
              "      <th>3</th>\n",
              "      <td>comment</td>\n",
              "      <td>ievn2mn</td>\n",
              "      <td>2qstm</td>\n",
              "      <td>personalfinance</td>\n",
              "      <td>False</td>\n",
              "      <td>1656976905</td>\n",
              "      <td>https://old.reddit.com/r/personalfinance/comme...</td>\n",
              "      <td>&amp;gt;What I mean is when I started investing, t...</td>\n",
              "      <td>0.7748</td>\n",
              "      <td>8</td>\n",
              "    </tr>\n",
              "    <tr>\n",
              "      <th>4</th>\n",
              "      <td>comment</td>\n",
              "      <td>ievn0i7</td>\n",
              "      <td>2qstm</td>\n",
              "      <td>personalfinance</td>\n",
              "      <td>False</td>\n",
              "      <td>1656976877</td>\n",
              "      <td>https://old.reddit.com/r/personalfinance/comme...</td>\n",
              "      <td>I do trade in some ETFs.. DIV, SDIV ; USOI (it...</td>\n",
              "      <td>-0.5062</td>\n",
              "      <td>-2</td>\n",
              "    </tr>\n",
              "  </tbody>\n",
              "</table>\n",
              "</div>"
            ],
            "text/plain": [
              "      type       id subreddit.id   subreddit.name  subreddit.nsfw  \\\n",
              "0  comment  ievql0n        2rndg   valueinvesting           False   \n",
              "1  comment  ievpqay        2qjfk           stocks           False   \n",
              "2  comment  ievo646        2th52   wallstreetbets           False   \n",
              "3  comment  ievn2mn        2qstm  personalfinance           False   \n",
              "4  comment  ievn0i7        2qstm  personalfinance           False   \n",
              "\n",
              "   created_utc                                          permalink  \\\n",
              "0   1656978625  https://old.reddit.com/r/ValueInvesting/commen...   \n",
              "1   1656978201  https://old.reddit.com/r/stocks/comments/vrje7...   \n",
              "2   1656977438  https://old.reddit.com/r/wallstreetbets/commen...   \n",
              "3   1656976905  https://old.reddit.com/r/personalfinance/comme...   \n",
              "4   1656976877  https://old.reddit.com/r/personalfinance/comme...   \n",
              "\n",
              "                                                body  sentiment  score  \n",
              "0  When TSLA was at 1K share price :\\n\\n8B sales/...     0.2960      1  \n",
              "1  $TSLA will go down because you own the stock… ...     0.2136      1  \n",
              "2                                       TSLA 🚀🚀🚀🚀🚀🚀🚀        NaN      4  \n",
              "3  &gt;What I mean is when I started investing, t...     0.7748      8  \n",
              "4  I do trade in some ETFs.. DIV, SDIV ; USOI (it...    -0.5062     -2  "
            ]
          },
          "execution_count": 4,
          "metadata": {},
          "output_type": "execute_result"
        }
      ],
      "source": [
        "reddit_comment_df.head()"
      ]
    },
    {
      "cell_type": "code",
      "execution_count": null,
      "id": "3sjFzwmkPuXW",
      "metadata": {
        "colab": {
          "base_uri": "https://localhost:8080/",
          "height": 539
        },
        "id": "3sjFzwmkPuXW",
        "outputId": "2fabf035-eeb3-4016-cd6f-d8e107272d96"
      },
      "outputs": [
        {
          "data": {
            "text/html": [
              "<div>\n",
              "<style scoped>\n",
              "    .dataframe tbody tr th:only-of-type {\n",
              "        vertical-align: middle;\n",
              "    }\n",
              "\n",
              "    .dataframe tbody tr th {\n",
              "        vertical-align: top;\n",
              "    }\n",
              "\n",
              "    .dataframe thead th {\n",
              "        text-align: right;\n",
              "    }\n",
              "</style>\n",
              "<table border=\"1\" class=\"dataframe\">\n",
              "  <thead>\n",
              "    <tr style=\"text-align: right;\">\n",
              "      <th></th>\n",
              "      <th>type</th>\n",
              "      <th>id</th>\n",
              "      <th>subreddit.id</th>\n",
              "      <th>subreddit.name</th>\n",
              "      <th>subreddit.nsfw</th>\n",
              "      <th>created_utc</th>\n",
              "      <th>permalink</th>\n",
              "      <th>domain</th>\n",
              "      <th>url</th>\n",
              "      <th>selftext</th>\n",
              "      <th>title</th>\n",
              "      <th>score</th>\n",
              "    </tr>\n",
              "  </thead>\n",
              "  <tbody>\n",
              "    <tr>\n",
              "      <th>0</th>\n",
              "      <td>post</td>\n",
              "      <td>vrkdvj</td>\n",
              "      <td>4430vb</td>\n",
              "      <td>ultraalgo</td>\n",
              "      <td>False</td>\n",
              "      <td>1656977609</td>\n",
              "      <td>https://old.reddit.com/r/UltraAlgo/comments/vr...</td>\n",
              "      <td>pbs.twimg.com</td>\n",
              "      <td>http://pbs.twimg.com/media/FW2_yU1WQAEiRgC.jpg</td>\n",
              "      <td>NaN</td>\n",
              "      <td>$TSLA $1038 net profit across 11 trades. 90% A...</td>\n",
              "      <td>2</td>\n",
              "    </tr>\n",
              "    <tr>\n",
              "      <th>1</th>\n",
              "      <td>post</td>\n",
              "      <td>vrjowr</td>\n",
              "      <td>2th52</td>\n",
              "      <td>wallstreetbets</td>\n",
              "      <td>False</td>\n",
              "      <td>1656975472</td>\n",
              "      <td>https://old.reddit.com/r/wallstreetbets/commen...</td>\n",
              "      <td>i.redd.it</td>\n",
              "      <td>https://i.redd.it/cgnm1ptsao991.jpg</td>\n",
              "      <td>NaN</td>\n",
              "      <td>TSLA 800.85 INCOMING</td>\n",
              "      <td>1</td>\n",
              "    </tr>\n",
              "    <tr>\n",
              "      <th>2</th>\n",
              "      <td>post</td>\n",
              "      <td>vrjb37</td>\n",
              "      <td>2th52</td>\n",
              "      <td>wallstreetbets</td>\n",
              "      <td>False</td>\n",
              "      <td>1656974317</td>\n",
              "      <td>https://old.reddit.com/r/wallstreetbets/commen...</td>\n",
              "      <td>i.redd.it</td>\n",
              "      <td>https://i.redd.it/0vyq8v2d7o991.jpg</td>\n",
              "      <td>NaN</td>\n",
              "      <td>TSLA 800.85 this week</td>\n",
              "      <td>1</td>\n",
              "    </tr>\n",
              "    <tr>\n",
              "      <th>3</th>\n",
              "      <td>post</td>\n",
              "      <td>vriek0</td>\n",
              "      <td>n9evv</td>\n",
              "      <td>teslainvestorsclub</td>\n",
              "      <td>False</td>\n",
              "      <td>1656971708</td>\n",
              "      <td>https://old.reddit.com/r/teslainvestorsclub/co...</td>\n",
              "      <td>twitter.com</td>\n",
              "      <td>https://twitter.com/garyblack00/status/1544000...</td>\n",
              "      <td>NaN</td>\n",
              "      <td>Gary Black on Twitter: $TSLA delivered 157.9K ...</td>\n",
              "      <td>53</td>\n",
              "    </tr>\n",
              "    <tr>\n",
              "      <th>4</th>\n",
              "      <td>post</td>\n",
              "      <td>vrea7h</td>\n",
              "      <td>32a4fr</td>\n",
              "      <td>ai_trading</td>\n",
              "      <td>False</td>\n",
              "      <td>1656960267</td>\n",
              "      <td>https://old.reddit.com/r/ai_trading/comments/v...</td>\n",
              "      <td>tickeron.com</td>\n",
              "      <td>https://tickeron.com/blogs/tesla-tsla-681-79-m...</td>\n",
              "      <td>NaN</td>\n",
              "      <td>Tesla (TSLA, $681.79) missed Q2 deliveries est...</td>\n",
              "      <td>1</td>\n",
              "    </tr>\n",
              "  </tbody>\n",
              "</table>\n",
              "</div>"
            ],
            "text/plain": [
              "   type      id subreddit.id      subreddit.name  subreddit.nsfw  created_utc  \\\n",
              "0  post  vrkdvj       4430vb           ultraalgo           False   1656977609   \n",
              "1  post  vrjowr        2th52      wallstreetbets           False   1656975472   \n",
              "2  post  vrjb37        2th52      wallstreetbets           False   1656974317   \n",
              "3  post  vriek0        n9evv  teslainvestorsclub           False   1656971708   \n",
              "4  post  vrea7h       32a4fr          ai_trading           False   1656960267   \n",
              "\n",
              "                                           permalink         domain  \\\n",
              "0  https://old.reddit.com/r/UltraAlgo/comments/vr...  pbs.twimg.com   \n",
              "1  https://old.reddit.com/r/wallstreetbets/commen...      i.redd.it   \n",
              "2  https://old.reddit.com/r/wallstreetbets/commen...      i.redd.it   \n",
              "3  https://old.reddit.com/r/teslainvestorsclub/co...    twitter.com   \n",
              "4  https://old.reddit.com/r/ai_trading/comments/v...   tickeron.com   \n",
              "\n",
              "                                                 url selftext  \\\n",
              "0     http://pbs.twimg.com/media/FW2_yU1WQAEiRgC.jpg      NaN   \n",
              "1                https://i.redd.it/cgnm1ptsao991.jpg      NaN   \n",
              "2                https://i.redd.it/0vyq8v2d7o991.jpg      NaN   \n",
              "3  https://twitter.com/garyblack00/status/1544000...      NaN   \n",
              "4  https://tickeron.com/blogs/tesla-tsla-681-79-m...      NaN   \n",
              "\n",
              "                                               title  score  \n",
              "0  $TSLA $1038 net profit across 11 trades. 90% A...      2  \n",
              "1                               TSLA 800.85 INCOMING      1  \n",
              "2                              TSLA 800.85 this week      1  \n",
              "3  Gary Black on Twitter: $TSLA delivered 157.9K ...     53  \n",
              "4  Tesla (TSLA, $681.79) missed Q2 deliveries est...      1  "
            ]
          },
          "execution_count": 5,
          "metadata": {},
          "output_type": "execute_result"
        }
      ],
      "source": [
        "reddit_posts_df.head()"
      ]
    },
    {
      "cell_type": "markdown",
      "id": "7694eb09-cc87-445b-889c-0d01fe53d2cc",
      "metadata": {
        "id": "7694eb09-cc87-445b-889c-0d01fe53d2cc"
      },
      "source": [
        "## Basic EDA"
      ]
    },
    {
      "cell_type": "markdown",
      "id": "f1b5341c",
      "metadata": {
        "id": "f1b5341c"
      },
      "source": [
        "We will perform some simple EDA on the 2 data frames of interest."
      ]
    },
    {
      "cell_type": "code",
      "execution_count": null,
      "id": "d620d649-28a4-4d30-a455-d6246af8f7c4",
      "metadata": {
        "colab": {
          "base_uri": "https://localhost:8080/"
        },
        "id": "d620d649-28a4-4d30-a455-d6246af8f7c4",
        "outputId": "77ce5644-6bbe-42d1-ebfe-907037f068a2"
      },
      "outputs": [
        {
          "name": "stdout",
          "output_type": "stream",
          "text": [
            "Shape of Reddit Comment data frame: (218745, 10)\n",
            "Shape of Reddit Posts data frame: (10868, 12)\n"
          ]
        }
      ],
      "source": [
        "# how many rows and columns\n",
        "print(f\"Shape of Reddit Comment data frame: {reddit_comment_df.shape}\")\n",
        "\n",
        "print(f\"Shape of Reddit Posts data frame: {reddit_posts_df.shape}\")\n"
      ]
    },
    {
      "cell_type": "markdown",
      "id": "2ec742b7-0d5c-4982-8ece-09441b42125b",
      "metadata": {
        "id": "2ec742b7-0d5c-4982-8ece-09441b42125b"
      },
      "source": [
        "The Reddit Comment data set contains 218,745 records, and 10 features.\n",
        "\n",
        "The Reddit Posts data set contains 10,868 records, and 12 features."
      ]
    },
    {
      "cell_type": "code",
      "execution_count": null,
      "id": "1af109e5-f9ad-4894-a157-37f111aee197",
      "metadata": {
        "colab": {
          "base_uri": "https://localhost:8080/",
          "height": 781
        },
        "id": "1af109e5-f9ad-4894-a157-37f111aee197",
        "outputId": "e63761ab-e547-474e-b41b-68a39aa97e9a"
      },
      "outputs": [
        {
          "name": "stdout",
          "output_type": "stream",
          "text": [
            "COMMENTS df:\n",
            "\n",
            "<class 'pandas.core.frame.DataFrame'>\n",
            "RangeIndex: 218745 entries, 0 to 218744\n",
            "Data columns (total 10 columns):\n",
            " #   Column          Non-Null Count   Dtype  \n",
            "---  ------          --------------   -----  \n",
            " 0   type            218745 non-null  object \n",
            " 1   id              218745 non-null  object \n",
            " 2   subreddit.id    218745 non-null  object \n",
            " 3   subreddit.name  218745 non-null  object \n",
            " 4   subreddit.nsfw  218745 non-null  bool   \n",
            " 5   created_utc     218745 non-null  int64  \n",
            " 6   permalink       218745 non-null  object \n",
            " 7   body            218745 non-null  object \n",
            " 8   sentiment       197413 non-null  float64\n",
            " 9   score           218745 non-null  int64  \n",
            "dtypes: bool(1), float64(1), int64(2), object(6)\n",
            "memory usage: 15.2+ MB\n"
          ]
        },
        {
          "data": {
            "text/plain": [
              "None"
            ]
          },
          "metadata": {},
          "output_type": "display_data"
        },
        {
          "name": "stdout",
          "output_type": "stream",
          "text": [
            "\n",
            "----------------------------------------------\n",
            "POSTS df:\n",
            "\n",
            "<class 'pandas.core.frame.DataFrame'>\n",
            "RangeIndex: 10868 entries, 0 to 10867\n",
            "Data columns (total 12 columns):\n",
            " #   Column          Non-Null Count  Dtype \n",
            "---  ------          --------------  ----- \n",
            " 0   type            10868 non-null  object\n",
            " 1   id              10868 non-null  object\n",
            " 2   subreddit.id    10868 non-null  object\n",
            " 3   subreddit.name  10868 non-null  object\n",
            " 4   subreddit.nsfw  10868 non-null  bool  \n",
            " 5   created_utc     10868 non-null  int64 \n",
            " 6   permalink       10868 non-null  object\n",
            " 7   domain          10868 non-null  object\n",
            " 8   url             6690 non-null   object\n",
            " 9   selftext        4178 non-null   object\n",
            " 10  title           10868 non-null  object\n",
            " 11  score           10868 non-null  int64 \n",
            "dtypes: bool(1), int64(2), object(9)\n",
            "memory usage: 944.7+ KB\n"
          ]
        },
        {
          "data": {
            "text/plain": [
              "None"
            ]
          },
          "metadata": {},
          "output_type": "display_data"
        }
      ],
      "source": [
        "print('COMMENTS df:\\n')\n",
        "display(reddit_comment_df.info())\n",
        "\n",
        "print('\\n----------------------------------------------\\nPOSTS df:\\n')\n",
        "\n",
        "display(reddit_posts_df.info())"
      ]
    },
    {
      "cell_type": "code",
      "execution_count": null,
      "id": "f85e70f1-f143-41e6-b552-0b483f71e882",
      "metadata": {
        "colab": {
          "base_uri": "https://localhost:8080/"
        },
        "id": "f85e70f1-f143-41e6-b552-0b483f71e882",
        "outputId": "ea077817-15e7-4413-e770-399a7e6df31b"
      },
      "outputs": [
        {
          "name": "stdout",
          "output_type": "stream",
          "text": [
            "COMMENT df:\n",
            "The dataset contains 6 object columns.\n",
            "The dataset contains 3 numeric colmns.\n",
            "\n",
            "POSTS df:\n",
            "The dataset contains 9 object columns.\n",
            "The dataset contains 2 numeric colmns.\n"
          ]
        }
      ],
      "source": [
        "# check how many numerical and object data types are included in the raw data\n",
        "print('COMMENT df:')\n",
        "print(f\"The dataset contains {len(list(reddit_comment_df.select_dtypes('object').columns))} object columns.\\nThe dataset contains {len(list(reddit_comment_df.select_dtypes('number').columns))} numeric colmns.\")\n",
        "\n",
        "print('\\nPOSTS df:')\n",
        "print(f\"The dataset contains {len(list(reddit_posts_df.select_dtypes('object').columns))} object columns.\\nThe dataset contains {len(list(reddit_posts_df.select_dtypes('number').columns))} numeric colmns.\")"
      ]
    },
    {
      "cell_type": "markdown",
      "id": "6cbc2a3b",
      "metadata": {
        "id": "6cbc2a3b"
      },
      "source": [
        "`created_utc` will need to be converted to the correct formate (datetime)."
      ]
    },
    {
      "cell_type": "code",
      "execution_count": null,
      "id": "1d6cb493-f4d4-4ff7-bb39-fc97b4a08a11",
      "metadata": {
        "colab": {
          "base_uri": "https://localhost:8080/",
          "height": 636
        },
        "id": "1d6cb493-f4d4-4ff7-bb39-fc97b4a08a11",
        "outputId": "a5c7e77c-de31-40ec-bda0-ac3f35343967"
      },
      "outputs": [
        {
          "name": "stdout",
          "output_type": "stream",
          "text": [
            "COMMENT df:\n"
          ]
        },
        {
          "data": {
            "text/html": [
              "<div>\n",
              "<style scoped>\n",
              "    .dataframe tbody tr th:only-of-type {\n",
              "        vertical-align: middle;\n",
              "    }\n",
              "\n",
              "    .dataframe tbody tr th {\n",
              "        vertical-align: top;\n",
              "    }\n",
              "\n",
              "    .dataframe thead th {\n",
              "        text-align: right;\n",
              "    }\n",
              "</style>\n",
              "<table border=\"1\" class=\"dataframe\">\n",
              "  <thead>\n",
              "    <tr style=\"text-align: right;\">\n",
              "      <th></th>\n",
              "      <th>created_utc</th>\n",
              "      <th>sentiment</th>\n",
              "      <th>score</th>\n",
              "    </tr>\n",
              "  </thead>\n",
              "  <tbody>\n",
              "    <tr>\n",
              "      <th>count</th>\n",
              "      <td>2.187450e+05</td>\n",
              "      <td>197413.000000</td>\n",
              "      <td>218745.000000</td>\n",
              "    </tr>\n",
              "    <tr>\n",
              "      <th>mean</th>\n",
              "      <td>1.641879e+09</td>\n",
              "      <td>0.165335</td>\n",
              "      <td>5.391396</td>\n",
              "    </tr>\n",
              "    <tr>\n",
              "      <th>std</th>\n",
              "      <td>8.176283e+06</td>\n",
              "      <td>0.503514</td>\n",
              "      <td>37.627922</td>\n",
              "    </tr>\n",
              "    <tr>\n",
              "      <th>min</th>\n",
              "      <td>1.625443e+09</td>\n",
              "      <td>-0.999300</td>\n",
              "      <td>-264.000000</td>\n",
              "    </tr>\n",
              "    <tr>\n",
              "      <th>25%</th>\n",
              "      <td>1.635795e+09</td>\n",
              "      <td>-0.077200</td>\n",
              "      <td>1.000000</td>\n",
              "    </tr>\n",
              "    <tr>\n",
              "      <th>50%</th>\n",
              "      <td>1.641334e+09</td>\n",
              "      <td>0.000000</td>\n",
              "      <td>2.000000</td>\n",
              "    </tr>\n",
              "    <tr>\n",
              "      <th>75%</th>\n",
              "      <td>1.649268e+09</td>\n",
              "      <td>0.585900</td>\n",
              "      <td>5.000000</td>\n",
              "    </tr>\n",
              "    <tr>\n",
              "      <th>max</th>\n",
              "      <td>1.656979e+09</td>\n",
              "      <td>0.999900</td>\n",
              "      <td>5124.000000</td>\n",
              "    </tr>\n",
              "  </tbody>\n",
              "</table>\n",
              "</div>"
            ],
            "text/plain": [
              "        created_utc      sentiment          score\n",
              "count  2.187450e+05  197413.000000  218745.000000\n",
              "mean   1.641879e+09       0.165335       5.391396\n",
              "std    8.176283e+06       0.503514      37.627922\n",
              "min    1.625443e+09      -0.999300    -264.000000\n",
              "25%    1.635795e+09      -0.077200       1.000000\n",
              "50%    1.641334e+09       0.000000       2.000000\n",
              "75%    1.649268e+09       0.585900       5.000000\n",
              "max    1.656979e+09       0.999900    5124.000000"
            ]
          },
          "metadata": {},
          "output_type": "display_data"
        },
        {
          "name": "stdout",
          "output_type": "stream",
          "text": [
            "\n",
            "POSTS df:\n"
          ]
        },
        {
          "data": {
            "text/html": [
              "<div>\n",
              "<style scoped>\n",
              "    .dataframe tbody tr th:only-of-type {\n",
              "        vertical-align: middle;\n",
              "    }\n",
              "\n",
              "    .dataframe tbody tr th {\n",
              "        vertical-align: top;\n",
              "    }\n",
              "\n",
              "    .dataframe thead th {\n",
              "        text-align: right;\n",
              "    }\n",
              "</style>\n",
              "<table border=\"1\" class=\"dataframe\">\n",
              "  <thead>\n",
              "    <tr style=\"text-align: right;\">\n",
              "      <th></th>\n",
              "      <th>created_utc</th>\n",
              "      <th>score</th>\n",
              "    </tr>\n",
              "  </thead>\n",
              "  <tbody>\n",
              "    <tr>\n",
              "      <th>count</th>\n",
              "      <td>1.086800e+04</td>\n",
              "      <td>10868.000000</td>\n",
              "    </tr>\n",
              "    <tr>\n",
              "      <th>mean</th>\n",
              "      <td>1.640807e+09</td>\n",
              "      <td>67.634891</td>\n",
              "    </tr>\n",
              "    <tr>\n",
              "      <th>std</th>\n",
              "      <td>8.817606e+06</td>\n",
              "      <td>792.835402</td>\n",
              "    </tr>\n",
              "    <tr>\n",
              "      <th>min</th>\n",
              "      <td>1.625447e+09</td>\n",
              "      <td>0.000000</td>\n",
              "    </tr>\n",
              "    <tr>\n",
              "      <th>25%</th>\n",
              "      <td>1.634563e+09</td>\n",
              "      <td>1.000000</td>\n",
              "    </tr>\n",
              "    <tr>\n",
              "      <th>50%</th>\n",
              "      <td>1.639672e+09</td>\n",
              "      <td>1.000000</td>\n",
              "    </tr>\n",
              "    <tr>\n",
              "      <th>75%</th>\n",
              "      <td>1.648870e+09</td>\n",
              "      <td>9.000000</td>\n",
              "    </tr>\n",
              "    <tr>\n",
              "      <th>max</th>\n",
              "      <td>1.656978e+09</td>\n",
              "      <td>47173.000000</td>\n",
              "    </tr>\n",
              "  </tbody>\n",
              "</table>\n",
              "</div>"
            ],
            "text/plain": [
              "        created_utc         score\n",
              "count  1.086800e+04  10868.000000\n",
              "mean   1.640807e+09     67.634891\n",
              "std    8.817606e+06    792.835402\n",
              "min    1.625447e+09      0.000000\n",
              "25%    1.634563e+09      1.000000\n",
              "50%    1.639672e+09      1.000000\n",
              "75%    1.648870e+09      9.000000\n",
              "max    1.656978e+09  47173.000000"
            ]
          },
          "metadata": {},
          "output_type": "display_data"
        }
      ],
      "source": [
        "print('COMMENT df:')\n",
        "display(reddit_comment_df.describe())\n",
        "\n",
        "\n",
        "print('\\nPOSTS df:')\n",
        "display(reddit_posts_df.describe())\n"
      ]
    },
    {
      "cell_type": "markdown",
      "id": "3b6fb08e-1bf4-4c9c-b780-63dc6d18c06a",
      "metadata": {
        "id": "3b6fb08e-1bf4-4c9c-b780-63dc6d18c06a"
      },
      "source": [
        "***Key Insights***\n",
        "- `sentiment` ranges from -1 to 1 (-0.999 to 0.999) -- this will need to be cleaned to be binarized (as this is currently a float)\n",
        "- `score` Comment DF -264 to 5124.\n",
        "- `score` Posts DF 0 to 47173\n",
        "- `created_utc` is the date the post was posted online, this is currently in `s` or `epoch` format, will need to convert to datetime.\n"
      ]
    },
    {
      "cell_type": "code",
      "execution_count": null,
      "id": "44e8f07c-59c2-473d-bc18-692f22cf94fb",
      "metadata": {
        "colab": {
          "base_uri": "https://localhost:8080/"
        },
        "id": "44e8f07c-59c2-473d-bc18-692f22cf94fb",
        "outputId": "e401adfd-4b83-4052-ea69-fee1859f073e"
      },
      "outputs": [
        {
          "data": {
            "text/plain": [
              "wallstreetbets        104934\n",
              "tslalounge             12289\n",
              "stocks                 10294\n",
              "teslainvestorsclub      7923\n",
              "bizsmg                  7861\n",
              "                       ...  \n",
              "caspercspr                 1\n",
              "genx                       1\n",
              "functionx                  1\n",
              "leapoptions                1\n",
              "pikabu                     1\n",
              "Name: subreddit.name, Length: 2275, dtype: int64"
            ]
          },
          "execution_count": 10,
          "metadata": {},
          "output_type": "execute_result"
        }
      ],
      "source": [
        "# Where are most posts about TSLA posted\n",
        "reddit_comment_df['subreddit.name'].value_counts()"
      ]
    },
    {
      "cell_type": "code",
      "execution_count": null,
      "id": "979f37cd",
      "metadata": {
        "id": "979f37cd",
        "outputId": "a545a105-76fb-41b1-8525-d407871cd89c"
      },
      "outputs": [
        {
          "data": {
            "text/plain": [
              "wallstreetbets        0.479709\n",
              "tslalounge            0.056180\n",
              "stocks                0.047059\n",
              "teslainvestorsclub    0.036220\n",
              "bizsmg                0.035937\n",
              "                        ...   \n",
              "caspercspr            0.000005\n",
              "genx                  0.000005\n",
              "functionx             0.000005\n",
              "leapoptions           0.000005\n",
              "pikabu                0.000005\n",
              "Name: subreddit.name, Length: 2275, dtype: float64"
            ]
          },
          "execution_count": 11,
          "metadata": {},
          "output_type": "execute_result"
        }
      ],
      "source": [
        "# what is the percentage of the comment split -- where do we see the most comments.\n",
        "reddit_comment_df['subreddit.name'].value_counts(normalize=True)"
      ]
    },
    {
      "cell_type": "code",
      "execution_count": null,
      "id": "ac79cad4",
      "metadata": {
        "id": "ac79cad4",
        "outputId": "42729847-1d6e-4f62-9982-0c96192d2754"
      },
      "outputs": [
        {
          "data": {
            "image/png": "[encoded data removed]",
            "text/plain": [
              "<Figure size 640x480 with 1 Axes>"
            ]
          },
          "metadata": {},
          "output_type": "display_data"
        }
      ],
      "source": [
        "# plot the top 5 subreddit names for comments\n",
        "(reddit_comment_df['subreddit.name'].value_counts(normalize=True)*100)[:5].plot(kind='bar')\n",
        "plt.title('Top 5 Subreddits for TSLA Stock Comments')\n",
        "plt.ylabel('%')\n",
        "plt.xticks(rotation=45)\n",
        "plt.show()"
      ]
    },
    {
      "cell_type": "markdown",
      "id": "8396a802",
      "metadata": {
        "id": "8396a802"
      },
      "source": [
        "Almost 50% of the posts come from `wallstreetbets`. That is great insight for users. If you are interested in learning more and following posts about a specific company, take a look at the wallstreetbets subreddit."
      ]
    },
    {
      "cell_type": "code",
      "execution_count": null,
      "id": "f_PDfmDp_Lrv",
      "metadata": {
        "colab": {
          "base_uri": "https://localhost:8080/"
        },
        "id": "f_PDfmDp_Lrv",
        "outputId": "b3ea1735-289f-4732-d16a-630f6a249c0b"
      },
      "outputs": [
        {
          "data": {
            "text/plain": [
              "wallstreetbets           2124\n",
              "ultraalgo                 826\n",
              "teslainvestorsclub        758\n",
              "ev_trading_community      629\n",
              "optionmillionaires        488\n",
              "                         ... \n",
              "u_-afro_senpai-             1\n",
              "bscgems                     1\n",
              "personalfinancecanada       1\n",
              "u_electronic_ad8315         1\n",
              "u_near_he                   1\n",
              "Name: subreddit.name, Length: 1178, dtype: int64"
            ]
          },
          "execution_count": 13,
          "metadata": {},
          "output_type": "execute_result"
        }
      ],
      "source": [
        "# check the split for where the most posts are posted\n",
        "reddit_posts_df['subreddit.name'].value_counts()"
      ]
    },
    {
      "cell_type": "code",
      "execution_count": null,
      "id": "f9357f31",
      "metadata": {
        "id": "f9357f31",
        "outputId": "9b6f2597-b100-49d1-a9d8-f61cde97b0c0"
      },
      "outputs": [
        {
          "data": {
            "image/png": "[encoded data removed]",
            "text/plain": [
              "<Figure size 640x480 with 1 Axes>"
            ]
          },
          "metadata": {},
          "output_type": "display_data"
        }
      ],
      "source": [
        "# plot the top 5 subreddit names for posts\n",
        "\n",
        "(reddit_posts_df['subreddit.name'].value_counts(normalize=True)*100)[:5].plot(kind='bar')\n",
        "plt.title('Top 5 Subreddits for TSLA Stock Posts')\n",
        "plt.ylabel('%')\n",
        "plt.xticks(rotation=45)\n",
        "plt.show()"
      ]
    },
    {
      "cell_type": "markdown",
      "id": "342b29da",
      "metadata": {
        "id": "342b29da"
      },
      "source": [
        "Almost 20% of all posts are from the same subreddit as the above analysis of the comments -- wallstreetbets."
      ]
    },
    {
      "cell_type": "markdown",
      "id": "3c87e5a7-48ca-4038-b600-6abc2266b780",
      "metadata": {
        "id": "3c87e5a7-48ca-4038-b600-6abc2266b780"
      },
      "source": [
        "Interesting to see which subreddits are being utilized for this analysis. For both posts and comments we see the number one location to post is `wallstreetbets`. Although, there is more of a distribution for Posts."
      ]
    },
    {
      "cell_type": "markdown",
      "id": "cb37b75d-62ba-47d0-a66b-6f90a1cd24a0",
      "metadata": {
        "id": "cb37b75d-62ba-47d0-a66b-6f90a1cd24a0"
      },
      "source": [
        "Convert the date column (`created_utc`) to a format more legible to humans."
      ]
    },
    {
      "cell_type": "code",
      "execution_count": null,
      "id": "4274f8ce-de16-424d-a55d-531a4bd1f2fa",
      "metadata": {
        "colab": {
          "base_uri": "https://localhost:8080/",
          "height": 520
        },
        "id": "4274f8ce-de16-424d-a55d-531a4bd1f2fa",
        "outputId": "bc9da3cc-8826-4e10-aea6-21da46fa0cbd"
      },
      "outputs": [
        {
          "name": "stdout",
          "output_type": "stream",
          "text": [
            "Comments Dataframe\n"
          ]
        },
        {
          "data": {
            "text/plain": [
              "0         1656978625\n",
              "1         1656978201\n",
              "2         1656977438\n",
              "3         1656976905\n",
              "4         1656976877\n",
              "             ...    \n",
              "218740    1625445862\n",
              "218741    1625445628\n",
              "218742    1625443918\n",
              "218743    1625443792\n",
              "218744    1625443401\n",
              "Name: created_utc, Length: 218745, dtype: int64"
            ]
          },
          "metadata": {},
          "output_type": "display_data"
        },
        {
          "name": "stdout",
          "output_type": "stream",
          "text": [
            "\n",
            "\n",
            "\n",
            "Posts Data\n"
          ]
        },
        {
          "data": {
            "text/plain": [
              "0        1656977609\n",
              "1        1656975472\n",
              "2        1656974317\n",
              "3        1656971708\n",
              "4        1656960267\n",
              "            ...    \n",
              "10863    1625486416\n",
              "10864    1625464873\n",
              "10865    1625461219\n",
              "10866    1625449615\n",
              "10867    1625446595\n",
              "Name: created_utc, Length: 10868, dtype: int64"
            ]
          },
          "metadata": {},
          "output_type": "display_data"
        }
      ],
      "source": [
        "# what format is the date in? The date, created_utc is in Seconds\n",
        "print(\"Comments Dataframe\")\n",
        "display(reddit_comment_df['created_utc'].sort_values(ascending=False))\n",
        "\n",
        "print(\"\\n\\n\\nPosts Data\")\n",
        "display(reddit_posts_df['created_utc'].sort_values(ascending=False))"
      ]
    },
    {
      "cell_type": "markdown",
      "id": "cf2a66ef-b324-42d9-a11a-72c90400cd0a",
      "metadata": {
        "id": "cf2a66ef-b324-42d9-a11a-72c90400cd0a"
      },
      "source": [
        "Convert the date to a more readable format for humans, use the `to_datetime` function. Additionally, we are not interested in the hour:minute:second the thread was posted. Therefore, we will truncate the date to only include the 'date' portion.\\\n",
        "Rename the column to something more understandable."
      ]
    },
    {
      "cell_type": "code",
      "execution_count": null,
      "id": "3a0af70b-72ec-4b69-acf6-7b29663a2b87",
      "metadata": {
        "colab": {
          "base_uri": "https://localhost:8080/",
          "height": 520
        },
        "id": "3a0af70b-72ec-4b69-acf6-7b29663a2b87",
        "outputId": "95da1a85-fd8f-4fa5-e3fb-f5a05518635e"
      },
      "outputs": [
        {
          "name": "stdout",
          "output_type": "stream",
          "text": [
            "Comments Dataframe:\n"
          ]
        },
        {
          "data": {
            "text/plain": [
              "218744    2021-07-05\n",
              "218743    2021-07-05\n",
              "218742    2021-07-05\n",
              "218741    2021-07-05\n",
              "218740    2021-07-05\n",
              "             ...    \n",
              "4         2022-07-04\n",
              "3         2022-07-04\n",
              "2         2022-07-04\n",
              "1         2022-07-04\n",
              "0         2022-07-04\n",
              "Name: date_posted, Length: 218745, dtype: object"
            ]
          },
          "metadata": {},
          "output_type": "display_data"
        },
        {
          "name": "stdout",
          "output_type": "stream",
          "text": [
            "\n",
            "\n",
            "\n",
            "Posts Dataframe:\n"
          ]
        },
        {
          "data": {
            "text/plain": [
              "10867    2022-06-08\n",
              "10866    2022-06-08\n",
              "10865    2022-06-08\n",
              "10864    2022-06-08\n",
              "10863    2022-06-08\n",
              "            ...    \n",
              "4        2022-07-04\n",
              "3        2022-07-04\n",
              "2        2022-07-04\n",
              "1        2022-07-04\n",
              "0        2022-07-04\n",
              "Name: date_posted, Length: 10868, dtype: object"
            ]
          },
          "metadata": {},
          "output_type": "display_data"
        }
      ],
      "source": [
        "# as the created_utc is in format seconds, we will conver to_datetime using the unit set to 's', truncate the date\n",
        "reddit_comment_df['date_posted'] = pd.to_datetime(reddit_comment_df['created_utc'], unit='s').dt.date\n",
        "\n",
        "print(\"Comments Dataframe:\")\n",
        "display(reddit_comment_df['date_posted'].sort_index(ascending=False))\n",
        "\n",
        "\n",
        "print(\"\\n\\n\\nPosts Dataframe:\")\n",
        "reddit_posts_df['date_posted'] = pd.to_datetime(reddit_comment_df['created_utc'], unit='s').dt.date\n",
        "display(reddit_posts_df['date_posted'].sort_index(ascending=False))\n"
      ]
    },
    {
      "cell_type": "markdown",
      "id": "xFTY2AqSAm-C",
      "metadata": {
        "id": "xFTY2AqSAm-C"
      },
      "source": [
        "We see that there are some differences in the datasets based on the dates they are created. Due to this we will truncate the Posts Data frame to be the same date frame as the Comments data frame."
      ]
    },
    {
      "cell_type": "code",
      "execution_count": null,
      "id": "j2O7VLnBAz6O",
      "metadata": {
        "colab": {
          "base_uri": "https://localhost:8080/"
        },
        "id": "j2O7VLnBAz6O",
        "outputId": "d9c9d773-1af1-43e2-f624-1c74398daebc"
      },
      "outputs": [
        {
          "name": "stdout",
          "output_type": "stream",
          "text": [
            "Date range is from 2021-07-05 to 2022-07-04.\n"
          ]
        }
      ],
      "source": [
        "# What is the date range of interest\n",
        "min_date = reddit_comment_df['date_posted'].min()\n",
        "max_date = reddit_comment_df['date_posted'].max()\n",
        "\n",
        "print(f\"Date range is from {min_date} to {max_date}.\")"
      ]
    },
    {
      "cell_type": "code",
      "execution_count": null,
      "id": "lOZ2M3r7EFJ3",
      "metadata": {
        "colab": {
          "base_uri": "https://localhost:8080/"
        },
        "id": "lOZ2M3r7EFJ3",
        "outputId": "c5b3a52a-400f-4c46-ac5a-17d73c021382"
      },
      "outputs": [
        {
          "data": {
            "text/plain": [
              "datetime.date(2022, 6, 8)"
            ]
          },
          "execution_count": 18,
          "metadata": {},
          "output_type": "execute_result"
        }
      ],
      "source": [
        "reddit_posts_df['date_posted'].min()"
      ]
    },
    {
      "cell_type": "markdown",
      "id": "vtFCuj-AESfj",
      "metadata": {
        "id": "vtFCuj-AESfj"
      },
      "source": [
        "The date range falls outside of the 1 year data collected for the Comments data frame. This will skew data post June 2022. We will drop this data frame from our analysis and only keep the `Comments` data frame."
      ]
    },
    {
      "cell_type": "markdown",
      "id": "095c0dbb-ea78-4b9a-8521-df51722e449b",
      "metadata": {
        "id": "095c0dbb-ea78-4b9a-8521-df51722e449b"
      },
      "source": [
        "From the range of dates provided, we can see that the dataset includes posts from 2021-July-5 to 2022-July-4. One full year collected."
      ]
    },
    {
      "cell_type": "code",
      "execution_count": null,
      "id": "40e8dd0d-95e3-4432-98ad-4284a84f4bf3",
      "metadata": {
        "id": "40e8dd0d-95e3-4432-98ad-4284a84f4bf3"
      },
      "outputs": [],
      "source": [
        "# only interested in the comments dataframe\n",
        "reddit_df = reddit_comment_df"
      ]
    },
    {
      "cell_type": "markdown",
      "id": "c36d6c24-dcd0-42a1-923f-dbb1f28d95d2",
      "metadata": {
        "id": "c36d6c24-dcd0-42a1-923f-dbb1f28d95d2"
      },
      "source": [
        "Can drop the `created_utc` column as this is not needed anymore, the date is captured under `date_posted` column."
      ]
    },
    {
      "cell_type": "code",
      "execution_count": null,
      "id": "14d81cc4-58c7-493b-b925-d7f949811cdd",
      "metadata": {
        "id": "14d81cc4-58c7-493b-b925-d7f949811cdd"
      },
      "outputs": [],
      "source": [
        "reddit_df.drop(columns='created_utc', inplace=True)"
      ]
    },
    {
      "cell_type": "code",
      "execution_count": null,
      "id": "38aefda2-ba16-461e-b34f-d6e6e8c971a7",
      "metadata": {
        "colab": {
          "base_uri": "https://localhost:8080/",
          "height": 206
        },
        "id": "38aefda2-ba16-461e-b34f-d6e6e8c971a7",
        "outputId": "459200c9-f296-4ec5-9515-d8b089f494c2"
      },
      "outputs": [
        {
          "data": {
            "text/html": [
              "<div>\n",
              "<style scoped>\n",
              "    .dataframe tbody tr th:only-of-type {\n",
              "        vertical-align: middle;\n",
              "    }\n",
              "\n",
              "    .dataframe tbody tr th {\n",
              "        vertical-align: top;\n",
              "    }\n",
              "\n",
              "    .dataframe thead th {\n",
              "        text-align: right;\n",
              "    }\n",
              "</style>\n",
              "<table border=\"1\" class=\"dataframe\">\n",
              "  <thead>\n",
              "    <tr style=\"text-align: right;\">\n",
              "      <th></th>\n",
              "      <th>type</th>\n",
              "      <th>id</th>\n",
              "      <th>subreddit.id</th>\n",
              "      <th>subreddit.name</th>\n",
              "      <th>subreddit.nsfw</th>\n",
              "      <th>permalink</th>\n",
              "      <th>body</th>\n",
              "      <th>sentiment</th>\n",
              "      <th>score</th>\n",
              "      <th>date_posted</th>\n",
              "    </tr>\n",
              "  </thead>\n",
              "  <tbody>\n",
              "    <tr>\n",
              "      <th>0</th>\n",
              "      <td>comment</td>\n",
              "      <td>ievql0n</td>\n",
              "      <td>2rndg</td>\n",
              "      <td>valueinvesting</td>\n",
              "      <td>False</td>\n",
              "      <td>https://old.reddit.com/r/ValueInvesting/commen...</td>\n",
              "      <td>When TSLA was at 1K share price :\\n\\n8B sales/...</td>\n",
              "      <td>0.2960</td>\n",
              "      <td>1</td>\n",
              "      <td>2022-07-04</td>\n",
              "    </tr>\n",
              "    <tr>\n",
              "      <th>1</th>\n",
              "      <td>comment</td>\n",
              "      <td>ievpqay</td>\n",
              "      <td>2qjfk</td>\n",
              "      <td>stocks</td>\n",
              "      <td>False</td>\n",
              "      <td>https://old.reddit.com/r/stocks/comments/vrje7...</td>\n",
              "      <td>$TSLA will go down because you own the stock… ...</td>\n",
              "      <td>0.2136</td>\n",
              "      <td>1</td>\n",
              "      <td>2022-07-04</td>\n",
              "    </tr>\n",
              "    <tr>\n",
              "      <th>2</th>\n",
              "      <td>comment</td>\n",
              "      <td>ievo646</td>\n",
              "      <td>2th52</td>\n",
              "      <td>wallstreetbets</td>\n",
              "      <td>False</td>\n",
              "      <td>https://old.reddit.com/r/wallstreetbets/commen...</td>\n",
              "      <td>TSLA 🚀🚀🚀🚀🚀🚀🚀</td>\n",
              "      <td>NaN</td>\n",
              "      <td>4</td>\n",
              "      <td>2022-07-04</td>\n",
              "    </tr>\n",
              "    <tr>\n",
              "      <th>3</th>\n",
              "      <td>comment</td>\n",
              "      <td>ievn2mn</td>\n",
              "      <td>2qstm</td>\n",
              "      <td>personalfinance</td>\n",
              "      <td>False</td>\n",
              "      <td>https://old.reddit.com/r/personalfinance/comme...</td>\n",
              "      <td>&amp;gt;What I mean is when I started investing, t...</td>\n",
              "      <td>0.7748</td>\n",
              "      <td>8</td>\n",
              "      <td>2022-07-04</td>\n",
              "    </tr>\n",
              "    <tr>\n",
              "      <th>4</th>\n",
              "      <td>comment</td>\n",
              "      <td>ievn0i7</td>\n",
              "      <td>2qstm</td>\n",
              "      <td>personalfinance</td>\n",
              "      <td>False</td>\n",
              "      <td>https://old.reddit.com/r/personalfinance/comme...</td>\n",
              "      <td>I do trade in some ETFs.. DIV, SDIV ; USOI (it...</td>\n",
              "      <td>-0.5062</td>\n",
              "      <td>-2</td>\n",
              "      <td>2022-07-04</td>\n",
              "    </tr>\n",
              "  </tbody>\n",
              "</table>\n",
              "</div>"
            ],
            "text/plain": [
              "      type       id subreddit.id   subreddit.name  subreddit.nsfw  \\\n",
              "0  comment  ievql0n        2rndg   valueinvesting           False   \n",
              "1  comment  ievpqay        2qjfk           stocks           False   \n",
              "2  comment  ievo646        2th52   wallstreetbets           False   \n",
              "3  comment  ievn2mn        2qstm  personalfinance           False   \n",
              "4  comment  ievn0i7        2qstm  personalfinance           False   \n",
              "\n",
              "                                           permalink  \\\n",
              "0  https://old.reddit.com/r/ValueInvesting/commen...   \n",
              "1  https://old.reddit.com/r/stocks/comments/vrje7...   \n",
              "2  https://old.reddit.com/r/wallstreetbets/commen...   \n",
              "3  https://old.reddit.com/r/personalfinance/comme...   \n",
              "4  https://old.reddit.com/r/personalfinance/comme...   \n",
              "\n",
              "                                                body  sentiment  score  \\\n",
              "0  When TSLA was at 1K share price :\\n\\n8B sales/...     0.2960      1   \n",
              "1  $TSLA will go down because you own the stock… ...     0.2136      1   \n",
              "2                                       TSLA 🚀🚀🚀🚀🚀🚀🚀        NaN      4   \n",
              "3  &gt;What I mean is when I started investing, t...     0.7748      8   \n",
              "4  I do trade in some ETFs.. DIV, SDIV ; USOI (it...    -0.5062     -2   \n",
              "\n",
              "  date_posted  \n",
              "0  2022-07-04  \n",
              "1  2022-07-04  \n",
              "2  2022-07-04  \n",
              "3  2022-07-04  \n",
              "4  2022-07-04  "
            ]
          },
          "execution_count": 21,
          "metadata": {},
          "output_type": "execute_result"
        }
      ],
      "source": [
        "reddit_df.head()"
      ]
    },
    {
      "cell_type": "markdown",
      "id": "aa870b88-92c7-4bb9-82d5-3e51a90dd651",
      "metadata": {
        "id": "aa870b88-92c7-4bb9-82d5-3e51a90dd651"
      },
      "source": [
        "### Check for Null/NaN values and Duplicates"
      ]
    },
    {
      "cell_type": "markdown",
      "id": "db8d3343-e894-44fd-9a48-d14a6004f0b7",
      "metadata": {
        "id": "db8d3343-e894-44fd-9a48-d14a6004f0b7"
      },
      "source": [
        "***Note:*** For this analysis `Null` and `NaN` will be used interchangeably."
      ]
    },
    {
      "cell_type": "code",
      "execution_count": null,
      "id": "47db062c-1b61-4cc7-bb4f-ca202c1204fa",
      "metadata": {
        "colab": {
          "base_uri": "https://localhost:8080/"
        },
        "id": "47db062c-1b61-4cc7-bb4f-ca202c1204fa",
        "outputId": "0e65a450-cf85-4a35-aaad-24d5e3dd2692"
      },
      "outputs": [
        {
          "data": {
            "text/plain": [
              "21332"
            ]
          },
          "execution_count": 22,
          "metadata": {},
          "output_type": "execute_result"
        }
      ],
      "source": [
        "# check how many null values are in the data set\n",
        "reddit_df.isnull().sum().sum()"
      ]
    },
    {
      "cell_type": "markdown",
      "id": "8b50a927-1bbe-44a1-be79-2fd4b775ac9f",
      "metadata": {
        "id": "8b50a927-1bbe-44a1-be79-2fd4b775ac9f"
      },
      "source": [
        "There are 21,332 null values in the entire dataset, we will dig deeper to see where these null values are located."
      ]
    },
    {
      "cell_type": "code",
      "execution_count": null,
      "id": "2faa499b-8775-4bac-baa4-7470a143352b",
      "metadata": {
        "colab": {
          "base_uri": "https://localhost:8080/"
        },
        "id": "2faa499b-8775-4bac-baa4-7470a143352b",
        "outputId": "110efbd8-b686-42ed-e408-b8ffb9c9b401"
      },
      "outputs": [
        {
          "data": {
            "text/plain": [
              "type                  0\n",
              "id                    0\n",
              "subreddit.id          0\n",
              "subreddit.name        0\n",
              "subreddit.nsfw        0\n",
              "permalink             0\n",
              "body                  0\n",
              "sentiment         21332\n",
              "score                 0\n",
              "date_posted           0\n",
              "dtype: int64"
            ]
          },
          "execution_count": 23,
          "metadata": {},
          "output_type": "execute_result"
        }
      ],
      "source": [
        "reddit_df.isnull().sum()"
      ]
    },
    {
      "cell_type": "markdown",
      "id": "18284044-4d52-439b-9bbb-b3a47cc54c8c",
      "metadata": {
        "id": "18284044-4d52-439b-9bbb-b3a47cc54c8c"
      },
      "source": [
        "All the null values are found within the `sentiment` column. As this is the target feature we need to determine what is the best approach to correct these null values.\n",
        "\n",
        "There are several options:\n",
        "- Remove all null values and corresponding rows\n",
        "- Pre-fill the Null values with the mean value of sentiment\n",
        "- Pre-fill the Null values with the median value of sentiment"
      ]
    },
    {
      "cell_type": "code",
      "execution_count": null,
      "id": "59cd9b7e-29e0-4710-ae75-fc0dc91ea3f3",
      "metadata": {
        "colab": {
          "base_uri": "https://localhost:8080/",
          "height": 424
        },
        "id": "59cd9b7e-29e0-4710-ae75-fc0dc91ea3f3",
        "outputId": "86afdae0-7ad5-4958-ab64-deb14006ecf2"
      },
      "outputs": [
        {
          "data": {
            "text/html": [
              "<div>\n",
              "<style scoped>\n",
              "    .dataframe tbody tr th:only-of-type {\n",
              "        vertical-align: middle;\n",
              "    }\n",
              "\n",
              "    .dataframe tbody tr th {\n",
              "        vertical-align: top;\n",
              "    }\n",
              "\n",
              "    .dataframe thead th {\n",
              "        text-align: right;\n",
              "    }\n",
              "</style>\n",
              "<table border=\"1\" class=\"dataframe\">\n",
              "  <thead>\n",
              "    <tr style=\"text-align: right;\">\n",
              "      <th></th>\n",
              "      <th>type</th>\n",
              "      <th>id</th>\n",
              "      <th>subreddit.id</th>\n",
              "      <th>subreddit.name</th>\n",
              "      <th>subreddit.nsfw</th>\n",
              "      <th>permalink</th>\n",
              "      <th>body</th>\n",
              "      <th>sentiment</th>\n",
              "      <th>score</th>\n",
              "      <th>date_posted</th>\n",
              "    </tr>\n",
              "  </thead>\n",
              "  <tbody>\n",
              "    <tr>\n",
              "      <th>2</th>\n",
              "      <td>comment</td>\n",
              "      <td>ievo646</td>\n",
              "      <td>2th52</td>\n",
              "      <td>wallstreetbets</td>\n",
              "      <td>False</td>\n",
              "      <td>https://old.reddit.com/r/wallstreetbets/commen...</td>\n",
              "      <td>TSLA 🚀🚀🚀🚀🚀🚀🚀</td>\n",
              "      <td>NaN</td>\n",
              "      <td>4</td>\n",
              "      <td>2022-07-04</td>\n",
              "    </tr>\n",
              "    <tr>\n",
              "      <th>19</th>\n",
              "      <td>comment</td>\n",
              "      <td>ievg3ss</td>\n",
              "      <td>2th52</td>\n",
              "      <td>wallstreetbets</td>\n",
              "      <td>False</td>\n",
              "      <td>https://old.reddit.com/r/wallstreetbets/commen...</td>\n",
              "      <td>!banbet tsla 420 25d</td>\n",
              "      <td>NaN</td>\n",
              "      <td>4</td>\n",
              "      <td>2022-07-04</td>\n",
              "    </tr>\n",
              "    <tr>\n",
              "      <th>23</th>\n",
              "      <td>comment</td>\n",
              "      <td>iev9ape</td>\n",
              "      <td>37kf9c</td>\n",
              "      <td>tslalounge</td>\n",
              "      <td>False</td>\n",
              "      <td>https://old.reddit.com/r/TSLALounge/comments/v...</td>\n",
              "      <td>Fuck yeah! Freeeeeedom!!!! RRRRRRRRREEEEEEEEEE...</td>\n",
              "      <td>NaN</td>\n",
              "      <td>3</td>\n",
              "      <td>2022-07-04</td>\n",
              "    </tr>\n",
              "    <tr>\n",
              "      <th>34</th>\n",
              "      <td>comment</td>\n",
              "      <td>ieuzdhc</td>\n",
              "      <td>2th52</td>\n",
              "      <td>wallstreetbets</td>\n",
              "      <td>False</td>\n",
              "      <td>https://old.reddit.com/r/wallstreetbets/commen...</td>\n",
              "      <td>TSLA is overvalued.</td>\n",
              "      <td>NaN</td>\n",
              "      <td>5</td>\n",
              "      <td>2022-07-04</td>\n",
              "    </tr>\n",
              "    <tr>\n",
              "      <th>42</th>\n",
              "      <td>comment</td>\n",
              "      <td>ieujzaw</td>\n",
              "      <td>2th52</td>\n",
              "      <td>wallstreetbets</td>\n",
              "      <td>False</td>\n",
              "      <td>https://old.reddit.com/r/wallstreetbets/commen...</td>\n",
              "      <td>Positions?\\n\\nMe: TSLA 650p, 605p 7/15, 8/17</td>\n",
              "      <td>NaN</td>\n",
              "      <td>1</td>\n",
              "      <td>2022-07-04</td>\n",
              "    </tr>\n",
              "    <tr>\n",
              "      <th>...</th>\n",
              "      <td>...</td>\n",
              "      <td>...</td>\n",
              "      <td>...</td>\n",
              "      <td>...</td>\n",
              "      <td>...</td>\n",
              "      <td>...</td>\n",
              "      <td>...</td>\n",
              "      <td>...</td>\n",
              "      <td>...</td>\n",
              "      <td>...</td>\n",
              "    </tr>\n",
              "    <tr>\n",
              "      <th>218698</th>\n",
              "      <td>comment</td>\n",
              "      <td>h43v0gu</td>\n",
              "      <td>2th52</td>\n",
              "      <td>wallstreetbets</td>\n",
              "      <td>False</td>\n",
              "      <td>https://old.reddit.com/r/wallstreetbets/commen...</td>\n",
              "      <td>Puts not on TSLA</td>\n",
              "      <td>NaN</td>\n",
              "      <td>1</td>\n",
              "      <td>2021-07-05</td>\n",
              "    </tr>\n",
              "    <tr>\n",
              "      <th>218707</th>\n",
              "      <td>comment</td>\n",
              "      <td>h43j3dp</td>\n",
              "      <td>2th52</td>\n",
              "      <td>wallstreetbets</td>\n",
              "      <td>False</td>\n",
              "      <td>https://old.reddit.com/r/wallstreetbets/commen...</td>\n",
              "      <td>TSLA of course</td>\n",
              "      <td>NaN</td>\n",
              "      <td>4</td>\n",
              "      <td>2021-07-05</td>\n",
              "    </tr>\n",
              "    <tr>\n",
              "      <th>218710</th>\n",
              "      <td>comment</td>\n",
              "      <td>h43he3z</td>\n",
              "      <td>2th52</td>\n",
              "      <td>wallstreetbets</td>\n",
              "      <td>False</td>\n",
              "      <td>https://old.reddit.com/r/wallstreetbets/commen...</td>\n",
              "      <td>TSLA</td>\n",
              "      <td>NaN</td>\n",
              "      <td>2</td>\n",
              "      <td>2021-07-05</td>\n",
              "    </tr>\n",
              "    <tr>\n",
              "      <th>218715</th>\n",
              "      <td>comment</td>\n",
              "      <td>h43gvfc</td>\n",
              "      <td>36z35</td>\n",
              "      <td>singaporefi</td>\n",
              "      <td>False</td>\n",
              "      <td>https://old.reddit.com/r/singaporefi/comments/...</td>\n",
              "      <td>\\nOtcm: GGII, UMAX, WSRC, QNTA HYSR\\n\\n\\nOther...</td>\n",
              "      <td>NaN</td>\n",
              "      <td>1</td>\n",
              "      <td>2021-07-05</td>\n",
              "    </tr>\n",
              "    <tr>\n",
              "      <th>218740</th>\n",
              "      <td>comment</td>\n",
              "      <td>h42xb2e</td>\n",
              "      <td>2th52</td>\n",
              "      <td>wallstreetbets</td>\n",
              "      <td>False</td>\n",
              "      <td>https://old.reddit.com/r/wallstreetbets/commen...</td>\n",
              "      <td>$CLF &amp;amp; $TSLA \\nGREEN AMERICAN STEEL FOR IN...</td>\n",
              "      <td>NaN</td>\n",
              "      <td>-1</td>\n",
              "      <td>2021-07-05</td>\n",
              "    </tr>\n",
              "  </tbody>\n",
              "</table>\n",
              "<p>21332 rows × 10 columns</p>\n",
              "</div>"
            ],
            "text/plain": [
              "           type       id subreddit.id  subreddit.name  subreddit.nsfw  \\\n",
              "2       comment  ievo646        2th52  wallstreetbets           False   \n",
              "19      comment  ievg3ss        2th52  wallstreetbets           False   \n",
              "23      comment  iev9ape       37kf9c      tslalounge           False   \n",
              "34      comment  ieuzdhc        2th52  wallstreetbets           False   \n",
              "42      comment  ieujzaw        2th52  wallstreetbets           False   \n",
              "...         ...      ...          ...             ...             ...   \n",
              "218698  comment  h43v0gu        2th52  wallstreetbets           False   \n",
              "218707  comment  h43j3dp        2th52  wallstreetbets           False   \n",
              "218710  comment  h43he3z        2th52  wallstreetbets           False   \n",
              "218715  comment  h43gvfc        36z35     singaporefi           False   \n",
              "218740  comment  h42xb2e        2th52  wallstreetbets           False   \n",
              "\n",
              "                                                permalink  \\\n",
              "2       https://old.reddit.com/r/wallstreetbets/commen...   \n",
              "19      https://old.reddit.com/r/wallstreetbets/commen...   \n",
              "23      https://old.reddit.com/r/TSLALounge/comments/v...   \n",
              "34      https://old.reddit.com/r/wallstreetbets/commen...   \n",
              "42      https://old.reddit.com/r/wallstreetbets/commen...   \n",
              "...                                                   ...   \n",
              "218698  https://old.reddit.com/r/wallstreetbets/commen...   \n",
              "218707  https://old.reddit.com/r/wallstreetbets/commen...   \n",
              "218710  https://old.reddit.com/r/wallstreetbets/commen...   \n",
              "218715  https://old.reddit.com/r/singaporefi/comments/...   \n",
              "218740  https://old.reddit.com/r/wallstreetbets/commen...   \n",
              "\n",
              "                                                     body  sentiment  score  \\\n",
              "2                                            TSLA 🚀🚀🚀🚀🚀🚀🚀        NaN      4   \n",
              "19                                   !banbet tsla 420 25d        NaN      4   \n",
              "23      Fuck yeah! Freeeeeedom!!!! RRRRRRRRREEEEEEEEEE...        NaN      3   \n",
              "34                                    TSLA is overvalued.        NaN      5   \n",
              "42           Positions?\\n\\nMe: TSLA 650p, 605p 7/15, 8/17        NaN      1   \n",
              "...                                                   ...        ...    ...   \n",
              "218698                                   Puts not on TSLA        NaN      1   \n",
              "218707                                     TSLA of course        NaN      4   \n",
              "218710                                               TSLA        NaN      2   \n",
              "218715  \\nOtcm: GGII, UMAX, WSRC, QNTA HYSR\\n\\n\\nOther...        NaN      1   \n",
              "218740  $CLF &amp; $TSLA \\nGREEN AMERICAN STEEL FOR IN...        NaN     -1   \n",
              "\n",
              "       date_posted  \n",
              "2       2022-07-04  \n",
              "19      2022-07-04  \n",
              "23      2022-07-04  \n",
              "34      2022-07-04  \n",
              "42      2022-07-04  \n",
              "...            ...  \n",
              "218698  2021-07-05  \n",
              "218707  2021-07-05  \n",
              "218710  2021-07-05  \n",
              "218715  2021-07-05  \n",
              "218740  2021-07-05  \n",
              "\n",
              "[21332 rows x 10 columns]"
            ]
          },
          "execution_count": 24,
          "metadata": {},
          "output_type": "execute_result"
        }
      ],
      "source": [
        "# show the null values and corresponding row data\n",
        "reddit_df.loc[reddit_df['sentiment'].isnull() == True]"
      ]
    },
    {
      "cell_type": "code",
      "execution_count": null,
      "id": "ef148b8e-fc23-4854-b47f-75e3f37b5c4f",
      "metadata": {
        "colab": {
          "base_uri": "https://localhost:8080/"
        },
        "id": "ef148b8e-fc23-4854-b47f-75e3f37b5c4f",
        "outputId": "6dc261fe-c8c6-4348-c510-f2b5a3e56c54"
      },
      "outputs": [
        {
          "name": "stdout",
          "output_type": "stream",
          "text": [
            "The percentage of null values in the data set is 10.8% of the entire dataset.\n"
          ]
        }
      ],
      "source": [
        "# check what percentage of the data contains null values\n",
        "print(f\"The percentage of null values in the data set is {round((reddit_df.sentiment.isnull().sum())/(reddit_df.sentiment.count())*100, 1)}% of the entire dataset.\")"
      ]
    },
    {
      "cell_type": "markdown",
      "id": "ca5b1e25-bd71-4e80-82b5-205af1b8965d",
      "metadata": {
        "id": "ca5b1e25-bd71-4e80-82b5-205af1b8965d"
      },
      "source": [
        "Only 10% of the data contains null values, this means dropping the nulls is a viable option. For this project we will not, we will adjust the values to correct the nulls."
      ]
    },
    {
      "cell_type": "code",
      "execution_count": null,
      "id": "w_G_3n2NNGJu",
      "metadata": {
        "colab": {
          "base_uri": "https://localhost:8080/",
          "height": 300
        },
        "id": "w_G_3n2NNGJu",
        "outputId": "dad7f266-4d11-444e-c603-72e59a6ace9a"
      },
      "outputs": [
        {
          "data": {
            "text/html": [
              "<div>\n",
              "<style scoped>\n",
              "    .dataframe tbody tr th:only-of-type {\n",
              "        vertical-align: middle;\n",
              "    }\n",
              "\n",
              "    .dataframe tbody tr th {\n",
              "        vertical-align: top;\n",
              "    }\n",
              "\n",
              "    .dataframe thead th {\n",
              "        text-align: right;\n",
              "    }\n",
              "</style>\n",
              "<table border=\"1\" class=\"dataframe\">\n",
              "  <thead>\n",
              "    <tr style=\"text-align: right;\">\n",
              "      <th></th>\n",
              "      <th>sentiment</th>\n",
              "    </tr>\n",
              "  </thead>\n",
              "  <tbody>\n",
              "    <tr>\n",
              "      <th>count</th>\n",
              "      <td>197413.000000</td>\n",
              "    </tr>\n",
              "    <tr>\n",
              "      <th>mean</th>\n",
              "      <td>0.165335</td>\n",
              "    </tr>\n",
              "    <tr>\n",
              "      <th>std</th>\n",
              "      <td>0.503514</td>\n",
              "    </tr>\n",
              "    <tr>\n",
              "      <th>min</th>\n",
              "      <td>-0.999300</td>\n",
              "    </tr>\n",
              "    <tr>\n",
              "      <th>25%</th>\n",
              "      <td>-0.077200</td>\n",
              "    </tr>\n",
              "    <tr>\n",
              "      <th>50%</th>\n",
              "      <td>0.000000</td>\n",
              "    </tr>\n",
              "    <tr>\n",
              "      <th>75%</th>\n",
              "      <td>0.585900</td>\n",
              "    </tr>\n",
              "    <tr>\n",
              "      <th>max</th>\n",
              "      <td>0.999900</td>\n",
              "    </tr>\n",
              "  </tbody>\n",
              "</table>\n",
              "</div>"
            ],
            "text/plain": [
              "           sentiment\n",
              "count  197413.000000\n",
              "mean        0.165335\n",
              "std         0.503514\n",
              "min        -0.999300\n",
              "25%        -0.077200\n",
              "50%         0.000000\n",
              "75%         0.585900\n",
              "max         0.999900"
            ]
          },
          "execution_count": 26,
          "metadata": {},
          "output_type": "execute_result"
        }
      ],
      "source": [
        "reddit_df[['sentiment']].describe()"
      ]
    },
    {
      "cell_type": "code",
      "execution_count": null,
      "id": "fYKjJEORNSvk",
      "metadata": {
        "colab": {
          "base_uri": "https://localhost:8080/"
        },
        "id": "fYKjJEORNSvk",
        "outputId": "52040f85-ed39-45ac-bd59-f37028d5ff9f"
      },
      "outputs": [
        {
          "data": {
            "text/plain": [
              " 0.0000    46943\n",
              " 0.4404     3127\n",
              " 0.3612     3091\n",
              " 0.2960     2225\n",
              " 0.4215     2168\n",
              "           ...  \n",
              "-0.2712        1\n",
              "-0.8373        1\n",
              "-0.7254        1\n",
              " 0.5345        1\n",
              "-0.3569        1\n",
              "Name: sentiment, Length: 13851, dtype: int64"
            ]
          },
          "execution_count": 27,
          "metadata": {},
          "output_type": "execute_result"
        }
      ],
      "source": [
        "reddit_df['sentiment'].value_counts()"
      ]
    },
    {
      "cell_type": "code",
      "execution_count": null,
      "id": "GCOyQSqoNdIA",
      "metadata": {
        "colab": {
          "base_uri": "https://localhost:8080/"
        },
        "id": "GCOyQSqoNdIA",
        "outputId": "c77bcb3c-688b-46a5-d296-6dcee537bc5a"
      },
      "outputs": [
        {
          "name": "stdout",
          "output_type": "stream",
          "text": [
            "In the dataset we see a total 98345 positive reviews\n",
            "In the dataset we see a total 99068 negative reviews\n",
            "There are 21332 null values in the data.\n"
          ]
        }
      ],
      "source": [
        "pos_sentiment_count = reddit_df[reddit_df['sentiment'].isnull() == False].query(\"sentiment > 0\").count()[0]\n",
        "neg_sentiment_count = reddit_df[reddit_df['sentiment'].isnull() == False].query(\"sentiment <= 0\").count()[0]\n",
        "\n",
        "print(f\"In the dataset we see a total {pos_sentiment_count} positive reviews\")\n",
        "print(f\"In the dataset we see a total {neg_sentiment_count} negative reviews\")\n",
        "print(f\"There are {reddit_df.isnull().sum().sum()} null values in the data.\")\n"
      ]
    },
    {
      "cell_type": "markdown",
      "id": "oMubQdsgOmXl",
      "metadata": {
        "id": "oMubQdsgOmXl"
      },
      "source": [
        "From the above we can see that the split from positive and negative reviews is already pretty even. If we are to fill the nulls with the median we will offset this amount and the sentiment will be heavily favored to negative. Since the null data is only 10% of the overall data we can drop these columns. But first we need to check if there is data stored for every day of the year from July 4 2021 to July 5 2022.\n",
        "\n",
        "This is essential as we will be using this as an average and merging it to the final stock dataset in Book 3. We want to have a sentiment associated with each day of the year."
      ]
    },
    {
      "cell_type": "code",
      "execution_count": null,
      "id": "OlC7HRY7QD88",
      "metadata": {
        "colab": {
          "base_uri": "https://localhost:8080/"
        },
        "id": "OlC7HRY7QD88",
        "outputId": "40f30af7-61aa-4514-99ed-13e99e56dc05"
      },
      "outputs": [
        {
          "data": {
            "text/plain": [
              "DatetimeIndex([], dtype='datetime64[ns]', freq=None)"
            ]
          },
          "execution_count": 29,
          "metadata": {},
          "output_type": "execute_result"
        }
      ],
      "source": [
        "# we want to create a variable to set the full range of the data to it\n",
        "first_day = reddit_comment_df['date_posted'].min()\n",
        "last_day = reddit_comment_df['date_posted'].max()\n",
        "\n",
        "full_range = pd.date_range(start=first_day, end=last_day, freq=\"D\")\n",
        "full_range.difference(reddit_df['date_posted'])"
      ]
    },
    {
      "cell_type": "markdown",
      "id": "lm2spXQASmRs",
      "metadata": {
        "id": "lm2spXQASmRs"
      },
      "source": [
        "We calculated the difference between the first day and last, we were able to determine that there is a post for every day of the year (July 2021 to July 2022). This is good, as we need this when merging the stock dataset in Book 3."
      ]
    },
    {
      "cell_type": "markdown",
      "id": "92cPzNMiVHQE",
      "metadata": {
        "id": "92cPzNMiVHQE"
      },
      "source": [
        "We can drop the null values, but when dropping we will want to run the date analysis again to make sure we did not lose any of the days."
      ]
    },
    {
      "cell_type": "code",
      "execution_count": null,
      "id": "RwYKUrefVGxU",
      "metadata": {
        "colab": {
          "base_uri": "https://localhost:8080/"
        },
        "id": "RwYKUrefVGxU",
        "outputId": "26fa9f89-d271-45b1-95a8-6f4c94385127"
      },
      "outputs": [
        {
          "name": "stdout",
          "output_type": "stream",
          "text": [
            "(197413, 10)\n",
            "(218745, 10)\n"
          ]
        },
        {
          "data": {
            "text/plain": [
              "DatetimeIndex([], dtype='datetime64[ns]', freq=None)"
            ]
          },
          "execution_count": 30,
          "metadata": {},
          "output_type": "execute_result"
        }
      ],
      "source": [
        "copy = reddit_df.copy()\n",
        "copy = copy.dropna()\n",
        "\n",
        "print(copy.shape)\n",
        "print(reddit_df.shape)\n",
        "\n",
        "# are we including all days from first and last\n",
        "full_range.difference(copy['date_posted'])"
      ]
    },
    {
      "cell_type": "markdown",
      "id": "HxMZLUCHWL25",
      "metadata": {
        "id": "HxMZLUCHWL25"
      },
      "source": [
        "We can see that even after dropping all null values, our data frame contains all days of the year (Jul-2021 to Jul-2022).\n",
        "\n",
        "Now complete the dropna to the original data set."
      ]
    },
    {
      "cell_type": "code",
      "execution_count": null,
      "id": "m33cCx0jWK8g",
      "metadata": {
        "colab": {
          "base_uri": "https://localhost:8080/"
        },
        "id": "m33cCx0jWK8g",
        "outputId": "c24448f1-7b74-4480-854c-4a02a8528369"
      },
      "outputs": [
        {
          "name": "stdout",
          "output_type": "stream",
          "text": [
            "The new dataset has 197413 rows and 10 columns.\n"
          ]
        }
      ],
      "source": [
        "reddit_df = reddit_df.dropna()\n",
        "print(f\"The new dataset has {reddit_df.shape[0]} rows and {reddit_df.shape[1]} columns.\")"
      ]
    },
    {
      "cell_type": "code",
      "execution_count": null,
      "id": "f3bdbd72-e794-4ffb-bcdd-750991b9f624",
      "metadata": {
        "colab": {
          "base_uri": "https://localhost:8080/",
          "height": 487
        },
        "id": "f3bdbd72-e794-4ffb-bcdd-750991b9f624",
        "outputId": "903778b9-5708-471f-b8dd-6301a29afe59"
      },
      "outputs": [
        {
          "data": {
            "image/png": "[encoded data removed]",
            "text/plain": [
              "<Figure size 800x500 with 1 Axes>"
            ]
          },
          "metadata": {},
          "output_type": "display_data"
        }
      ],
      "source": [
        "# Plot the sentiment distribution\n",
        "plt.figure(figsize=(8,5))\n",
        "reddit_df['sentiment'].plot(kind='hist', bins=10, color='cornflowerblue')\n",
        "plt.xlabel('Sentiment')\n",
        "plt.axvline(reddit_df['sentiment'].mean(), c='red', ls='--', label='mean')\n",
        "plt.axvline(reddit_df['sentiment'].median(), c='black', ls='--', label='median')\n",
        "\n",
        "plt.legend()\n",
        "plt.title(\"Distribution of Sentiment scores\")\n",
        "plt.show()"
      ]
    },
    {
      "cell_type": "markdown",
      "id": "53b5a061-edfd-41b4-8bf8-cef0f26cad72",
      "metadata": {
        "id": "53b5a061-edfd-41b4-8bf8-cef0f26cad72"
      },
      "source": [
        "The data does not follow a normal distribution, but we see majority of the data is at 0 (which is the median). This makes sense, as it is difficult to initially asses the sentiment of text -- that means most likely the pre trained model predicted overwhelmingly neutral. We will dig deeper into this once we complete out sentiment scoring."
      ]
    },
    {
      "cell_type": "code",
      "execution_count": null,
      "id": "35d4823a-b4ee-47dd-8682-16bd4c6058a6",
      "metadata": {
        "colab": {
          "base_uri": "https://localhost:8080/"
        },
        "id": "35d4823a-b4ee-47dd-8682-16bd4c6058a6",
        "outputId": "3bd0a1fe-6a24-496d-ca5d-ff5460a11bf7"
      },
      "outputs": [
        {
          "data": {
            "text/plain": [
              "0"
            ]
          },
          "execution_count": 33,
          "metadata": {},
          "output_type": "execute_result"
        }
      ],
      "source": [
        "# check for duplicated rows\n",
        "reddit_df.duplicated().sum()"
      ]
    },
    {
      "cell_type": "markdown",
      "id": "19736f36-0c9b-4283-8d4e-cdfbbfc9a0ac",
      "metadata": {
        "id": "19736f36-0c9b-4283-8d4e-cdfbbfc9a0ac"
      },
      "source": [
        "There are no duplicated records in the dataset.\n",
        "\n",
        "Now we can take care of the null/nan values in the data -- the best approach will be to fill the nulls using the data median value. This will work as the majority of the data is"
      ]
    },
    {
      "cell_type": "code",
      "execution_count": null,
      "id": "2466a6d5-13d1-4a77-b0ac-0327d1eb3a3a",
      "metadata": {
        "colab": {
          "base_uri": "https://localhost:8080/"
        },
        "id": "2466a6d5-13d1-4a77-b0ac-0327d1eb3a3a",
        "outputId": "b0901e0b-71b3-4a23-ab30-3cf99347bd7b"
      },
      "outputs": [
        {
          "data": {
            "text/plain": [
              "type              0\n",
              "id                0\n",
              "subreddit.id      0\n",
              "subreddit.name    0\n",
              "subreddit.nsfw    0\n",
              "permalink         0\n",
              "body              0\n",
              "sentiment         0\n",
              "score             0\n",
              "date_posted       0\n",
              "dtype: int64"
            ]
          },
          "execution_count": 34,
          "metadata": {},
          "output_type": "execute_result"
        }
      ],
      "source": [
        "reddit_df.isnull().sum()"
      ]
    },
    {
      "cell_type": "markdown",
      "id": "gcaKkNdSWxnj",
      "metadata": {
        "id": "gcaKkNdSWxnj"
      },
      "source": [
        "### Remove Features that are not needed"
      ]
    },
    {
      "cell_type": "code",
      "execution_count": null,
      "id": "prAkfkgzOf7b",
      "metadata": {
        "colab": {
          "base_uri": "https://localhost:8080/",
          "height": 206
        },
        "id": "prAkfkgzOf7b",
        "outputId": "52a0a843-bb3e-40d7-82ca-63908d934724"
      },
      "outputs": [
        {
          "data": {
            "text/html": [
              "<div>\n",
              "<style scoped>\n",
              "    .dataframe tbody tr th:only-of-type {\n",
              "        vertical-align: middle;\n",
              "    }\n",
              "\n",
              "    .dataframe tbody tr th {\n",
              "        vertical-align: top;\n",
              "    }\n",
              "\n",
              "    .dataframe thead th {\n",
              "        text-align: right;\n",
              "    }\n",
              "</style>\n",
              "<table border=\"1\" class=\"dataframe\">\n",
              "  <thead>\n",
              "    <tr style=\"text-align: right;\">\n",
              "      <th></th>\n",
              "      <th>type</th>\n",
              "      <th>id</th>\n",
              "      <th>subreddit.id</th>\n",
              "      <th>subreddit.name</th>\n",
              "      <th>subreddit.nsfw</th>\n",
              "      <th>permalink</th>\n",
              "      <th>body</th>\n",
              "      <th>sentiment</th>\n",
              "      <th>score</th>\n",
              "      <th>date_posted</th>\n",
              "    </tr>\n",
              "  </thead>\n",
              "  <tbody>\n",
              "    <tr>\n",
              "      <th>0</th>\n",
              "      <td>comment</td>\n",
              "      <td>ievql0n</td>\n",
              "      <td>2rndg</td>\n",
              "      <td>valueinvesting</td>\n",
              "      <td>False</td>\n",
              "      <td>https://old.reddit.com/r/ValueInvesting/commen...</td>\n",
              "      <td>When TSLA was at 1K share price :\\n\\n8B sales/...</td>\n",
              "      <td>0.2960</td>\n",
              "      <td>1</td>\n",
              "      <td>2022-07-04</td>\n",
              "    </tr>\n",
              "    <tr>\n",
              "      <th>1</th>\n",
              "      <td>comment</td>\n",
              "      <td>ievpqay</td>\n",
              "      <td>2qjfk</td>\n",
              "      <td>stocks</td>\n",
              "      <td>False</td>\n",
              "      <td>https://old.reddit.com/r/stocks/comments/vrje7...</td>\n",
              "      <td>$TSLA will go down because you own the stock… ...</td>\n",
              "      <td>0.2136</td>\n",
              "      <td>1</td>\n",
              "      <td>2022-07-04</td>\n",
              "    </tr>\n",
              "    <tr>\n",
              "      <th>3</th>\n",
              "      <td>comment</td>\n",
              "      <td>ievn2mn</td>\n",
              "      <td>2qstm</td>\n",
              "      <td>personalfinance</td>\n",
              "      <td>False</td>\n",
              "      <td>https://old.reddit.com/r/personalfinance/comme...</td>\n",
              "      <td>&amp;gt;What I mean is when I started investing, t...</td>\n",
              "      <td>0.7748</td>\n",
              "      <td>8</td>\n",
              "      <td>2022-07-04</td>\n",
              "    </tr>\n",
              "    <tr>\n",
              "      <th>4</th>\n",
              "      <td>comment</td>\n",
              "      <td>ievn0i7</td>\n",
              "      <td>2qstm</td>\n",
              "      <td>personalfinance</td>\n",
              "      <td>False</td>\n",
              "      <td>https://old.reddit.com/r/personalfinance/comme...</td>\n",
              "      <td>I do trade in some ETFs.. DIV, SDIV ; USOI (it...</td>\n",
              "      <td>-0.5062</td>\n",
              "      <td>-2</td>\n",
              "      <td>2022-07-04</td>\n",
              "    </tr>\n",
              "    <tr>\n",
              "      <th>5</th>\n",
              "      <td>comment</td>\n",
              "      <td>ievmj40</td>\n",
              "      <td>2th52</td>\n",
              "      <td>wallstreetbets</td>\n",
              "      <td>False</td>\n",
              "      <td>https://old.reddit.com/r/wallstreetbets/commen...</td>\n",
              "      <td>I think macro runs coming up. Sell and wait fo...</td>\n",
              "      <td>-0.1531</td>\n",
              "      <td>1</td>\n",
              "      <td>2022-07-04</td>\n",
              "    </tr>\n",
              "  </tbody>\n",
              "</table>\n",
              "</div>"
            ],
            "text/plain": [
              "      type       id subreddit.id   subreddit.name  subreddit.nsfw  \\\n",
              "0  comment  ievql0n        2rndg   valueinvesting           False   \n",
              "1  comment  ievpqay        2qjfk           stocks           False   \n",
              "3  comment  ievn2mn        2qstm  personalfinance           False   \n",
              "4  comment  ievn0i7        2qstm  personalfinance           False   \n",
              "5  comment  ievmj40        2th52   wallstreetbets           False   \n",
              "\n",
              "                                           permalink  \\\n",
              "0  https://old.reddit.com/r/ValueInvesting/commen...   \n",
              "1  https://old.reddit.com/r/stocks/comments/vrje7...   \n",
              "3  https://old.reddit.com/r/personalfinance/comme...   \n",
              "4  https://old.reddit.com/r/personalfinance/comme...   \n",
              "5  https://old.reddit.com/r/wallstreetbets/commen...   \n",
              "\n",
              "                                                body  sentiment  score  \\\n",
              "0  When TSLA was at 1K share price :\\n\\n8B sales/...     0.2960      1   \n",
              "1  $TSLA will go down because you own the stock… ...     0.2136      1   \n",
              "3  &gt;What I mean is when I started investing, t...     0.7748      8   \n",
              "4  I do trade in some ETFs.. DIV, SDIV ; USOI (it...    -0.5062     -2   \n",
              "5  I think macro runs coming up. Sell and wait fo...    -0.1531      1   \n",
              "\n",
              "  date_posted  \n",
              "0  2022-07-04  \n",
              "1  2022-07-04  \n",
              "3  2022-07-04  \n",
              "4  2022-07-04  \n",
              "5  2022-07-04  "
            ]
          },
          "execution_count": 35,
          "metadata": {},
          "output_type": "execute_result"
        }
      ],
      "source": [
        "reddit_df.head()"
      ]
    },
    {
      "cell_type": "code",
      "execution_count": null,
      "id": "DYGsfcSAW3mq",
      "metadata": {
        "colab": {
          "base_uri": "https://localhost:8080/"
        },
        "id": "DYGsfcSAW3mq",
        "outputId": "98e1b49c-8c4a-4520-c631-de561db0a543"
      },
      "outputs": [
        {
          "data": {
            "text/plain": [
              "comment    197413\n",
              "Name: type, dtype: int64"
            ]
          },
          "execution_count": 36,
          "metadata": {},
          "output_type": "execute_result"
        }
      ],
      "source": [
        "remove_col = []\n",
        "reddit_df.type.value_counts()"
      ]
    },
    {
      "cell_type": "markdown",
      "id": "o2IL6RCSXXnT",
      "metadata": {
        "id": "o2IL6RCSXXnT"
      },
      "source": [
        "The `type` feature gives us no information as all the rows are \"comment\". This will be removed."
      ]
    },
    {
      "cell_type": "code",
      "execution_count": null,
      "id": "_9LpjdUDXUfr",
      "metadata": {
        "id": "_9LpjdUDXUfr"
      },
      "outputs": [],
      "source": [
        "remove_col.append('type')"
      ]
    },
    {
      "cell_type": "code",
      "execution_count": null,
      "id": "rG9REKrGXrJP",
      "metadata": {
        "colab": {
          "base_uri": "https://localhost:8080/"
        },
        "id": "rG9REKrGXrJP",
        "outputId": "2ee63586-4b81-48fa-b145-52e5958f2c3d"
      },
      "outputs": [
        {
          "data": {
            "text/plain": [
              "ievql0n    1\n",
              "hk9uq2v    1\n",
              "hkahdz1    1\n",
              "hkahbfm    1\n",
              "hkahb2f    1\n",
              "          ..\n",
              "hysfv6d    1\n",
              "hysfmsk    1\n",
              "hysfgrr    1\n",
              "hysf9xn    1\n",
              "h42t9mb    1\n",
              "Name: id, Length: 197413, dtype: int64"
            ]
          },
          "execution_count": 38,
          "metadata": {},
          "output_type": "execute_result"
        }
      ],
      "source": [
        "# are the id's associated to a person or each comment\n",
        "reddit_df.id.value_counts()"
      ]
    },
    {
      "cell_type": "markdown",
      "id": "mhNFCOB2X71E",
      "metadata": {
        "id": "mhNFCOB2X71E"
      },
      "source": [
        "Each `id` is associated to a single comment, this means it is a identifier. This is not needed as we are associating each comment with the `index`."
      ]
    },
    {
      "cell_type": "code",
      "execution_count": null,
      "id": "bRnLDluBXx24",
      "metadata": {
        "id": "bRnLDluBXx24"
      },
      "outputs": [],
      "source": [
        "remove_col.append('id')"
      ]
    },
    {
      "cell_type": "code",
      "execution_count": null,
      "id": "HxYUJHiXYNhX",
      "metadata": {
        "colab": {
          "base_uri": "https://localhost:8080/",
          "height": 520
        },
        "id": "HxYUJHiXYNhX",
        "outputId": "e2470898-c6c8-40db-fa27-255767b16c1c"
      },
      "outputs": [
        {
          "name": "stdout",
          "output_type": "stream",
          "text": [
            "Subreddit ID Column\n"
          ]
        },
        {
          "data": {
            "text/plain": [
              "2th52     91856\n",
              "37kf9c    11810\n",
              "2qjfk      9523\n",
              "4weg82     7861\n",
              "n9evv      7749\n",
              "          ...  \n",
              "2qur9         1\n",
              "43rm4z        1\n",
              "4swokl        1\n",
              "ccr21         1\n",
              "4poik3        1\n",
              "Name: subreddit.id, Length: 2126, dtype: int64"
            ]
          },
          "metadata": {},
          "output_type": "display_data"
        },
        {
          "name": "stdout",
          "output_type": "stream",
          "text": [
            "\n",
            "\n",
            "\n",
            "Subreddit Name Column\n"
          ]
        },
        {
          "data": {
            "text/plain": [
              "wallstreetbets        91856\n",
              "tslalounge            11810\n",
              "stocks                 9523\n",
              "bizsmg                 7861\n",
              "teslainvestorsclub     7749\n",
              "                      ...  \n",
              "warmstocks                1\n",
              "chodi                     1\n",
              "fursuit                   1\n",
              "trumpvirus                1\n",
              "stockchoice               1\n",
              "Name: subreddit.name, Length: 2118, dtype: int64"
            ]
          },
          "metadata": {},
          "output_type": "display_data"
        }
      ],
      "source": [
        "print(\"Subreddit ID Column\")\n",
        "display(reddit_df['subreddit.id'].value_counts())\n",
        "\n",
        "print(\"\\n\\n\\nSubreddit Name Column\")\n",
        "display(reddit_df['subreddit.name'].value_counts())"
      ]
    },
    {
      "cell_type": "markdown",
      "id": "ttodu_XvYte9",
      "metadata": {
        "id": "ttodu_XvYte9"
      },
      "source": [
        "Columns `subreddit_id` and `subreddit_name` are providing the exact same information. Name can be referenced easier than id, drop subreddit_id."
      ]
    },
    {
      "cell_type": "code",
      "execution_count": null,
      "id": "1-KOWnIvYSoq",
      "metadata": {
        "id": "1-KOWnIvYSoq"
      },
      "outputs": [],
      "source": [
        "remove_col.append('subreddit.id')"
      ]
    },
    {
      "cell_type": "markdown",
      "id": "Yq7TMtBIZoQR",
      "metadata": {
        "id": "Yq7TMtBIZoQR"
      },
      "source": [
        "The `subreddit_nsfw` is not needed, drop. Same with the link, this is not useful to us for this sentiment scoring. All other columns can be kept."
      ]
    },
    {
      "cell_type": "markdown",
      "id": "rcV7lHRuewkM",
      "metadata": {
        "id": "rcV7lHRuewkM"
      },
      "source": [
        "The feature `score` is an interesting one. It takes into account upvotes, downvotes, the number of likes, and shares and clumps it into one compounding variable. This will be used to calculate the weight of the sentiment.\n",
        "\n",
        "***Note: we will be keeping sentiment as a continuous variable rather than a categorical.***"
      ]
    },
    {
      "cell_type": "code",
      "execution_count": null,
      "id": "V-nJo45rZAZB",
      "metadata": {
        "id": "V-nJo45rZAZB"
      },
      "outputs": [],
      "source": [
        "remove_col.append('subreddit.nsfw')"
      ]
    },
    {
      "cell_type": "code",
      "execution_count": null,
      "id": "0Qa9JrlcZuu9",
      "metadata": {
        "id": "0Qa9JrlcZuu9"
      },
      "outputs": [],
      "source": [
        "remove_col.append('permalink')"
      ]
    },
    {
      "cell_type": "code",
      "execution_count": null,
      "id": "jgTI4-ptZ_uk",
      "metadata": {
        "id": "jgTI4-ptZ_uk"
      },
      "outputs": [],
      "source": [
        "# remove_col and reset index\n",
        "reddit_df = reddit_df.drop(columns=remove_col, axis=1).reset_index()"
      ]
    },
    {
      "cell_type": "code",
      "execution_count": null,
      "id": "asvYpU7MaBD9",
      "metadata": {
        "id": "asvYpU7MaBD9"
      },
      "outputs": [],
      "source": [
        "# becasue we reset the index, need to drop the index col\n",
        "reddit_df.drop(columns='index', inplace=True)"
      ]
    },
    {
      "cell_type": "code",
      "execution_count": null,
      "id": "uPpORRaeaWKE",
      "metadata": {
        "colab": {
          "base_uri": "https://localhost:8080/",
          "height": 424
        },
        "id": "uPpORRaeaWKE",
        "outputId": "6623b6ae-3356-4072-a35e-bc39a4f8df2b"
      },
      "outputs": [
        {
          "data": {
            "text/html": [
              "<div>\n",
              "<style scoped>\n",
              "    .dataframe tbody tr th:only-of-type {\n",
              "        vertical-align: middle;\n",
              "    }\n",
              "\n",
              "    .dataframe tbody tr th {\n",
              "        vertical-align: top;\n",
              "    }\n",
              "\n",
              "    .dataframe thead th {\n",
              "        text-align: right;\n",
              "    }\n",
              "</style>\n",
              "<table border=\"1\" class=\"dataframe\">\n",
              "  <thead>\n",
              "    <tr style=\"text-align: right;\">\n",
              "      <th></th>\n",
              "      <th>subreddit.name</th>\n",
              "      <th>body</th>\n",
              "      <th>sentiment</th>\n",
              "      <th>score</th>\n",
              "      <th>date_posted</th>\n",
              "    </tr>\n",
              "  </thead>\n",
              "  <tbody>\n",
              "    <tr>\n",
              "      <th>0</th>\n",
              "      <td>valueinvesting</td>\n",
              "      <td>When TSLA was at 1K share price :\\n\\n8B sales/...</td>\n",
              "      <td>0.2960</td>\n",
              "      <td>1</td>\n",
              "      <td>2022-07-04</td>\n",
              "    </tr>\n",
              "    <tr>\n",
              "      <th>1</th>\n",
              "      <td>stocks</td>\n",
              "      <td>$TSLA will go down because you own the stock… ...</td>\n",
              "      <td>0.2136</td>\n",
              "      <td>1</td>\n",
              "      <td>2022-07-04</td>\n",
              "    </tr>\n",
              "    <tr>\n",
              "      <th>2</th>\n",
              "      <td>personalfinance</td>\n",
              "      <td>&amp;gt;What I mean is when I started investing, t...</td>\n",
              "      <td>0.7748</td>\n",
              "      <td>8</td>\n",
              "      <td>2022-07-04</td>\n",
              "    </tr>\n",
              "    <tr>\n",
              "      <th>3</th>\n",
              "      <td>personalfinance</td>\n",
              "      <td>I do trade in some ETFs.. DIV, SDIV ; USOI (it...</td>\n",
              "      <td>-0.5062</td>\n",
              "      <td>-2</td>\n",
              "      <td>2022-07-04</td>\n",
              "    </tr>\n",
              "    <tr>\n",
              "      <th>4</th>\n",
              "      <td>wallstreetbets</td>\n",
              "      <td>I think macro runs coming up. Sell and wait fo...</td>\n",
              "      <td>-0.1531</td>\n",
              "      <td>1</td>\n",
              "      <td>2022-07-04</td>\n",
              "    </tr>\n",
              "    <tr>\n",
              "      <th>...</th>\n",
              "      <td>...</td>\n",
              "      <td>...</td>\n",
              "      <td>...</td>\n",
              "      <td>...</td>\n",
              "      <td>...</td>\n",
              "    </tr>\n",
              "    <tr>\n",
              "      <th>197408</th>\n",
              "      <td>thetagang</td>\n",
              "      <td>Yeah like this week pretty much has nothing.  ...</td>\n",
              "      <td>0.9403</td>\n",
              "      <td>2</td>\n",
              "      <td>2021-07-05</td>\n",
              "    </tr>\n",
              "    <tr>\n",
              "      <th>197409</th>\n",
              "      <td>stocks</td>\n",
              "      <td>I invested with TSLA 2 years ago with this in ...</td>\n",
              "      <td>0.9239</td>\n",
              "      <td>34</td>\n",
              "      <td>2021-07-05</td>\n",
              "    </tr>\n",
              "    <tr>\n",
              "      <th>197410</th>\n",
              "      <td>valueinvesting</td>\n",
              "      <td>It was, at 1 point, $400/share. At $200, compa...</td>\n",
              "      <td>0.5544</td>\n",
              "      <td>4</td>\n",
              "      <td>2021-07-05</td>\n",
              "    </tr>\n",
              "    <tr>\n",
              "      <th>197411</th>\n",
              "      <td>wallstreetbets</td>\n",
              "      <td>Guy taking 2nd mortgage for MU 90 calls. Other...</td>\n",
              "      <td>-0.6486</td>\n",
              "      <td>19</td>\n",
              "      <td>2021-07-05</td>\n",
              "    </tr>\n",
              "    <tr>\n",
              "      <th>197412</th>\n",
              "      <td>personalfinancecanada</td>\n",
              "      <td>I think you're correct on the TCO still being ...</td>\n",
              "      <td>-0.2023</td>\n",
              "      <td>3</td>\n",
              "      <td>2021-07-05</td>\n",
              "    </tr>\n",
              "  </tbody>\n",
              "</table>\n",
              "<p>197413 rows × 5 columns</p>\n",
              "</div>"
            ],
            "text/plain": [
              "               subreddit.name  \\\n",
              "0              valueinvesting   \n",
              "1                      stocks   \n",
              "2             personalfinance   \n",
              "3             personalfinance   \n",
              "4              wallstreetbets   \n",
              "...                       ...   \n",
              "197408              thetagang   \n",
              "197409                 stocks   \n",
              "197410         valueinvesting   \n",
              "197411         wallstreetbets   \n",
              "197412  personalfinancecanada   \n",
              "\n",
              "                                                     body  sentiment  score  \\\n",
              "0       When TSLA was at 1K share price :\\n\\n8B sales/...     0.2960      1   \n",
              "1       $TSLA will go down because you own the stock… ...     0.2136      1   \n",
              "2       &gt;What I mean is when I started investing, t...     0.7748      8   \n",
              "3       I do trade in some ETFs.. DIV, SDIV ; USOI (it...    -0.5062     -2   \n",
              "4       I think macro runs coming up. Sell and wait fo...    -0.1531      1   \n",
              "...                                                   ...        ...    ...   \n",
              "197408  Yeah like this week pretty much has nothing.  ...     0.9403      2   \n",
              "197409  I invested with TSLA 2 years ago with this in ...     0.9239     34   \n",
              "197410  It was, at 1 point, $400/share. At $200, compa...     0.5544      4   \n",
              "197411  Guy taking 2nd mortgage for MU 90 calls. Other...    -0.6486     19   \n",
              "197412  I think you're correct on the TCO still being ...    -0.2023      3   \n",
              "\n",
              "       date_posted  \n",
              "0       2022-07-04  \n",
              "1       2022-07-04  \n",
              "2       2022-07-04  \n",
              "3       2022-07-04  \n",
              "4       2022-07-04  \n",
              "...            ...  \n",
              "197408  2021-07-05  \n",
              "197409  2021-07-05  \n",
              "197410  2021-07-05  \n",
              "197411  2021-07-05  \n",
              "197412  2021-07-05  \n",
              "\n",
              "[197413 rows x 5 columns]"
            ]
          },
          "execution_count": 46,
          "metadata": {},
          "output_type": "execute_result"
        }
      ],
      "source": [
        "reddit_df"
      ]
    },
    {
      "cell_type": "markdown",
      "id": "y2hzqJeSeCDK",
      "metadata": {
        "id": "y2hzqJeSeCDK"
      },
      "source": [
        "## Preprocess for VADER"
      ]
    },
    {
      "cell_type": "markdown",
      "id": "EE2PUrpSeGGF",
      "metadata": {
        "id": "EE2PUrpSeGGF"
      },
      "source": [
        "We will get the text data to the correct format prior to feeding it directly into VADER."
      ]
    },
    {
      "cell_type": "code",
      "execution_count": null,
      "id": "wNpwnEEbaZIn",
      "metadata": {
        "colab": {
          "base_uri": "https://localhost:8080/",
          "height": 206
        },
        "id": "wNpwnEEbaZIn",
        "outputId": "0b79b719-5bc2-4738-b66a-7e0879dd1820"
      },
      "outputs": [
        {
          "data": {
            "text/html": [
              "<div>\n",
              "<style scoped>\n",
              "    .dataframe tbody tr th:only-of-type {\n",
              "        vertical-align: middle;\n",
              "    }\n",
              "\n",
              "    .dataframe tbody tr th {\n",
              "        vertical-align: top;\n",
              "    }\n",
              "\n",
              "    .dataframe thead th {\n",
              "        text-align: right;\n",
              "    }\n",
              "</style>\n",
              "<table border=\"1\" class=\"dataframe\">\n",
              "  <thead>\n",
              "    <tr style=\"text-align: right;\">\n",
              "      <th></th>\n",
              "      <th>subreddit.name</th>\n",
              "      <th>body</th>\n",
              "      <th>sentiment</th>\n",
              "      <th>score</th>\n",
              "      <th>date_posted</th>\n",
              "      <th>cleaned_posts</th>\n",
              "    </tr>\n",
              "  </thead>\n",
              "  <tbody>\n",
              "    <tr>\n",
              "      <th>0</th>\n",
              "      <td>valueinvesting</td>\n",
              "      <td>When TSLA was at 1K share price :\\n\\n8B sales/...</td>\n",
              "      <td>0.2960</td>\n",
              "      <td>1</td>\n",
              "      <td>2022-07-04</td>\n",
              "      <td>When TSLA was at 1K share price :\\n\\n8B sales/...</td>\n",
              "    </tr>\n",
              "    <tr>\n",
              "      <th>1</th>\n",
              "      <td>stocks</td>\n",
              "      <td>$TSLA will go down because you own the stock… ...</td>\n",
              "      <td>0.2136</td>\n",
              "      <td>1</td>\n",
              "      <td>2022-07-04</td>\n",
              "      <td>$TSLA will go down because you own the stock… ...</td>\n",
              "    </tr>\n",
              "    <tr>\n",
              "      <th>2</th>\n",
              "      <td>personalfinance</td>\n",
              "      <td>&amp;gt;What I mean is when I started investing, t...</td>\n",
              "      <td>0.7748</td>\n",
              "      <td>8</td>\n",
              "      <td>2022-07-04</td>\n",
              "      <td>&amp;gt;What I mean is when I started investing, t...</td>\n",
              "    </tr>\n",
              "    <tr>\n",
              "      <th>3</th>\n",
              "      <td>personalfinance</td>\n",
              "      <td>I do trade in some ETFs.. DIV, SDIV ; USOI (it...</td>\n",
              "      <td>-0.5062</td>\n",
              "      <td>-2</td>\n",
              "      <td>2022-07-04</td>\n",
              "      <td>I do trade in some ETFs.. DIV, SDIV ; USOI (it...</td>\n",
              "    </tr>\n",
              "    <tr>\n",
              "      <th>4</th>\n",
              "      <td>wallstreetbets</td>\n",
              "      <td>I think macro runs coming up. Sell and wait fo...</td>\n",
              "      <td>-0.1531</td>\n",
              "      <td>1</td>\n",
              "      <td>2022-07-04</td>\n",
              "      <td>I think macro runs coming up. Sell and wait fo...</td>\n",
              "    </tr>\n",
              "  </tbody>\n",
              "</table>\n",
              "</div>"
            ],
            "text/plain": [
              "    subreddit.name                                               body  \\\n",
              "0   valueinvesting  When TSLA was at 1K share price :\\n\\n8B sales/...   \n",
              "1           stocks  $TSLA will go down because you own the stock… ...   \n",
              "2  personalfinance  &gt;What I mean is when I started investing, t...   \n",
              "3  personalfinance  I do trade in some ETFs.. DIV, SDIV ; USOI (it...   \n",
              "4   wallstreetbets  I think macro runs coming up. Sell and wait fo...   \n",
              "\n",
              "   sentiment  score date_posted  \\\n",
              "0     0.2960      1  2022-07-04   \n",
              "1     0.2136      1  2022-07-04   \n",
              "2     0.7748      8  2022-07-04   \n",
              "3    -0.5062     -2  2022-07-04   \n",
              "4    -0.1531      1  2022-07-04   \n",
              "\n",
              "                                       cleaned_posts  \n",
              "0  When TSLA was at 1K share price :\\n\\n8B sales/...  \n",
              "1  $TSLA will go down because you own the stock… ...  \n",
              "2  &gt;What I mean is when I started investing, t...  \n",
              "3  I do trade in some ETFs.. DIV, SDIV ; USOI (it...  \n",
              "4  I think macro runs coming up. Sell and wait fo...  "
            ]
          },
          "execution_count": 47,
          "metadata": {},
          "output_type": "execute_result"
        }
      ],
      "source": [
        "reddit_df['cleaned_posts'] = reddit_df['body']\n",
        "\n",
        "reddit_df.head()"
      ]
    },
    {
      "cell_type": "code",
      "execution_count": null,
      "id": "OcPW8jPQf_Lx",
      "metadata": {
        "id": "OcPW8jPQf_Lx"
      },
      "outputs": [],
      "source": [
        "example = reddit_df['cleaned_posts'][50]"
      ]
    },
    {
      "cell_type": "markdown",
      "id": "DtsRcdtih1p5",
      "metadata": {
        "id": "DtsRcdtih1p5"
      },
      "source": [
        "VADER takes all the words within the sentence/post and assigns a value to positive, negative and neutral. This is then compounded to get an overall sentiment score.\n",
        "- VADER will run this analysis on each word individually and then mathematically define the overall statement sentiment.\n",
        "- VADER is specifically designed for social media text and informal language -- it can handle emojiis as well."
      ]
    },
    {
      "cell_type": "code",
      "execution_count": null,
      "id": "vd0vVQTWaZNP",
      "metadata": {
        "colab": {
          "base_uri": "https://localhost:8080/"
        },
        "id": "vd0vVQTWaZNP",
        "outputId": "71af1e77-9918-446c-b87f-28d63ffbe335"
      },
      "outputs": [
        {
          "name": "stderr",
          "output_type": "stream",
          "text": [
            "[nltk_data] Downloading package vader_lexicon to\n",
            "[nltk_data]     C:\\Users\\DhimanS\\AppData\\Roaming\\nltk_data...\n",
            "[nltk_data]   Package vader_lexicon is already up-to-date!\n"
          ]
        },
        {
          "data": {
            "text/plain": [
              "True"
            ]
          },
          "execution_count": 49,
          "metadata": {},
          "output_type": "execute_result"
        }
      ],
      "source": [
        "# need to download the package to run VADER\n",
        "nltk.download('vader_lexicon')"
      ]
    },
    {
      "cell_type": "code",
      "execution_count": null,
      "id": "aGHuybRyjFjK",
      "metadata": {
        "id": "aGHuybRyjFjK"
      },
      "outputs": [],
      "source": [
        "# set up an intensity analyzer -- this will be used to determine the neutral/neg/pos/compound values for our text\n",
        "sentiment_intensity = SentimentIntensityAnalyzer()"
      ]
    },
    {
      "cell_type": "code",
      "execution_count": null,
      "id": "EGbhJkwMaZPO",
      "metadata": {
        "colab": {
          "base_uri": "https://localhost:8080/"
        },
        "id": "EGbhJkwMaZPO",
        "outputId": "5908c7a3-f027-485a-fbc0-29264bfd2c99"
      },
      "outputs": [
        {
          "name": "stdout",
          "output_type": "stream",
          "text": [
            "When TSLA was at 1K share price :\n",
            "\n",
            "8B sales/1B sales = $8/share \n",
            "$1000/$8= 125 \n",
            "\n",
            "The stocks in the link are under 5 and most under 1 if I remember correctly.\n"
          ]
        },
        {
          "data": {
            "text/plain": [
              "{'neg': 0.0, 'neu': 0.919, 'pos': 0.081, 'compound': 0.296}"
            ]
          },
          "execution_count": 51,
          "metadata": {},
          "output_type": "execute_result"
        }
      ],
      "source": [
        "# trial run of the sentiment analyzer\n",
        "print(reddit_df['cleaned_posts'][0])\n",
        "sentiment_intensity.polarity_scores(reddit_df['cleaned_posts'][0])"
      ]
    },
    {
      "cell_type": "markdown",
      "id": "pJfleyDbkqQi",
      "metadata": {
        "id": "pJfleyDbkqQi"
      },
      "source": [
        "We can see above the trial run of the sentiment analyzer. The trial seems to work really well. The text was overwhelmingly neutral -- as the statement is just about the breakdown of the stock share. The sentiment analyzer predicted correctly."
      ]
    },
    {
      "cell_type": "markdown",
      "id": "lAIGfYxinLXZ",
      "metadata": {
        "id": "lAIGfYxinLXZ"
      },
      "source": [
        "## Cleaning the text data in `cleaned_posts`\n",
        "Lets being with the text cleaning."
      ]
    },
    {
      "cell_type": "markdown",
      "id": "o8GQW8ZThtxe",
      "metadata": {
        "id": "o8GQW8ZThtxe"
      },
      "source": [
        "***Disclaimer: this cell takes some time.***"
      ]
    },
    {
      "cell_type": "code",
      "execution_count": null,
      "id": "QSGgxLu-nRDz",
      "metadata": {
        "id": "QSGgxLu-nRDz"
      },
      "outputs": [],
      "source": [
        "# Required preprocessing for analysis\n",
        "\n",
        "# lower case\n",
        "reddit_df['cleaned_posts'] = reddit_df['cleaned_posts'].str.lower()\n",
        "\n",
        "# replace '/' with empty spaces ' '\n",
        "reddit_df['cleaned_posts'] = reddit_df['cleaned_posts'].str.replace(\"/\", ' ', regex=False)\n",
        "\n",
        "# replace ' :' with empty string ''\n",
        "reddit_df['cleaned_posts'] = reddit_df['cleaned_posts'].str.replace(\" :\", '', regex=False)\n",
        "\n",
        "# replace ': ' with space ' '\n",
        "reddit_df['cleaned_posts'] = reddit_df['cleaned_posts'].str.replace(\": \", ' ', regex=False)\n",
        "\n",
        "#replace \"'\" with empty string ''\n",
        "reddit_df['cleaned_posts'] = reddit_df['cleaned_posts'].str.replace(\"'\", '', regex=False)\n",
        "\n",
        "# remove periods with empty string '' for end of sentences\n",
        "reddit_df['cleaned_posts'] = reddit_df['cleaned_posts'].str.replace(\".\", '', regex=False)\n",
        "\n",
        "# comma inbetween words\n",
        "reddit_df['cleaned_posts'] = reddit_df['cleaned_posts'].str.replace(r\"([a-z]),([a-z])\", r'\\1 \\2', regex=True)\n",
        "\n",
        "# remove periods with empty space ' ' for inbetween sentence\n",
        "reddit_df['cleaned_posts'] = reddit_df['cleaned_posts'].str.replace(r\"([a-z]),([0-9\\.])\", r'\\1 \\2', regex=True)\n",
        "\n",
        "# any numbers that contain ',' i.e. 1,000, etc. -- want to replace with empty string\n",
        "reddit_df['cleaned_posts'] = reddit_df['cleaned_posts'].str.replace(r'([0-9]),([0-9])', r'\\1\\2', regex=True)\n",
        "\n",
        "reddit_df['cleaned_posts'] = reddit_df['cleaned_posts'].str.replace(r'([a-z])\\'([a-z])', r'\\1\\2', regex=True)\n",
        "\n",
        "# replace the comma inbetween sentence with space\n",
        "reddit_df['cleaned_posts'] = reddit_df['cleaned_posts'].str.replace(\", \", ' ', regex=False)\n",
        "\n",
        "# replace the double comma with space\n",
        "reddit_df['cleaned_posts'] = reddit_df['cleaned_posts'].str.replace(\",, \", ' ', regex=False)\n",
        "\n",
        "# ,,,,,, replace with ' '\n",
        "reddit_df['cleaned_posts'] = reddit_df['cleaned_posts'].str.replace(\",,,,,,\", ' ', regex=False)\n",
        "\n",
        "# replace $ with empty\n",
        "reddit_df['cleaned_posts'] = reddit_df['cleaned_posts'].str.replace(\"$\", '', regex=False)\n",
        "\n",
        "# replace '= ' with ' '\n",
        "reddit_df['cleaned_posts'] = reddit_df['cleaned_posts'].str.replace(\"= \", ' ', regex=False)\n",
        "\n",
        "# replace '? ' with ' '\n",
        "reddit_df['cleaned_posts'] = reddit_df['cleaned_posts'].str.replace(\"? \", ' ', regex=False)\n",
        "\n",
        "# replace multiple periods\n",
        "reddit_df['cleaned_posts'] = reddit_df['cleaned_posts'].str.replace(r'(\\.){2,}', ' ', regex=True)\n",
        "\n",
        "#replace * with empty\n",
        "reddit_df['cleaned_posts'] = reddit_df['cleaned_posts'].str.replace(\"*\", '', regex=False)\n",
        "\n",
        "# replace % following number with empty\n",
        "reddit_df['cleaned_posts'] = reddit_df['cleaned_posts'].str.replace('[0-9]%', '', regex=True)\n",
        "\n",
        "# replace multiple spaces with single space\n",
        "reddit_df['cleaned_posts'] = reddit_df['cleaned_posts'].str.replace(' +', ' ', regex=True)\n",
        "\n",
        "# remove any punctuation at the end of statements\n",
        "reddit_df['cleaned_posts'] = reddit_df['cleaned_posts'].str.strip(' .!%()?-,')\n",
        "\n",
        "# remove paranthesis, and square brackets\n",
        "reddit_df['cleaned_posts'] = reddit_df['cleaned_posts'].str.replace(\"(\", ' ', regex=False)\n",
        "reddit_df['cleaned_posts'] = reddit_df['cleaned_posts'].str.replace(\")\", ' ', regex=False)\n",
        "reddit_df['cleaned_posts'] = reddit_df['cleaned_posts'].str.replace(\"[\", ' ', regex=False)\n",
        "reddit_df['cleaned_posts'] = reddit_df['cleaned_posts'].str.replace(\"]\", ' ', regex=False)\n",
        "\n",
        "# replace seperating hyphens\n",
        "reddit_df['cleaned_posts'] = reddit_df['cleaned_posts'].str.replace(' - ', ' ', regex=False)\n",
        "reddit_df['cleaned_posts'] = reddit_df['cleaned_posts'].str.replace(r'([a-z])-([a-z])', r'\\1 \\2', regex=True)\n",
        "reddit_df['cleaned_posts'] = reddit_df['cleaned_posts'].str.replace(r'([0-9])-([0-9])', r'\\1 to \\2', regex=True)\n",
        "\n",
        "# regex remove and '&' followed by text\n",
        "reddit_df['cleaned_posts'] = reddit_df['cleaned_posts'].str.replace(r'&([a-z])', r' and \\1', regex=True)\n",
        "\n",
        "# regex remove any '!' after text or numbers\n",
        "reddit_df['cleaned_posts'] = reddit_df['cleaned_posts'].str.replace(r'([a-z])!', r'\\1 ', regex=True)\n",
        "reddit_df['cleaned_posts'] = reddit_df['cleaned_posts'].str.replace(r'([0-9])!', r'\\1 ', regex=True)\n",
        "\n",
        "# remove '\\n' from text\n",
        "reddit_df['cleaned_posts'] = reddit_df['cleaned_posts'].str.replace(r'\\\\n([a-z])', r' \\1', regex=True)\n",
        "\n",
        "# remove ;n~ from text\n",
        "reddit_df['cleaned_posts'] = reddit_df['cleaned_posts'].str.replace('[;\\n~]', ' ', regex=True)\n",
        "\n",
        "# replace '#' '@' followed by number or text, and if it is anywhere else in the text\n",
        "reddit_df['cleaned_posts'] = reddit_df['cleaned_posts'].str.replace('#[a-z0-9]+', '', regex=True)\n",
        "reddit_df['cleaned_posts'] = reddit_df['cleaned_posts'].str.replace('@[a-z0-9]+', '', regex=True)\n",
        "reddit_df['cleaned_posts'] = reddit_df['cleaned_posts'].str.replace('#', '', regex=False)\n",
        "reddit_df['cleaned_posts'] = reddit_df['cleaned_posts'].str.replace('@', '', regex=False)\n",
        "\n",
        "# remove all major special characters\n",
        "reddit_df['cleaned_posts'] = reddit_df['cleaned_posts'].str.replace(r\"[\\\"\\'\\|\\?\\=\\.\\>\\<\\@\\#\\*\\,]\", '')\n",
        "\n",
        "# regex if there is a 'k' after a number, replace with 'thousand'\n",
        "reddit_df['cleaned_posts'] = reddit_df['cleaned_posts'].str.replace(r'([0-9])k ', r'\\1 thousand', regex=True)\n",
        "\n",
        "# regex if there is a 'b' after a number, replace with 'billion'\n",
        "reddit_df['cleaned_posts'] = reddit_df['cleaned_posts'].str.replace(r'([0-9])b ', r'\\1 billion', regex=True)\n",
        "\n",
        "# regex if there is a 'm' after a number, replace with 'million'\n",
        "reddit_df['cleaned_posts'] = reddit_df['cleaned_posts'].str.replace(r'([0-9])m ', r'\\1 million', regex=True)\n",
        "\n",
        "# replace backslash\n",
        "reddit_df['cleaned_posts'] = reddit_df['cleaned_posts'].str.replace(r\"[\\\\]\", '')"
      ]
    },
    {
      "cell_type": "code",
      "execution_count": null,
      "id": "ge1njzthnRIc",
      "metadata": {
        "colab": {
          "base_uri": "https://localhost:8080/"
        },
        "id": "ge1njzthnRIc",
        "outputId": "356719e5-d7f5-4a99-f959-3aa50b4838dd"
      },
      "outputs": [
        {
          "data": {
            "text/plain": [
              "119530    why does tsla ever moon seems to go up and dow...\n",
              "183913    dont think its as complicated as thatonly thin...\n",
              "78120                      tsla crashing into close lmaoooo\n",
              "146314    tesla stock has a 10-year cagr of 6 no way tsl...\n",
              "34017     paper hands rick strikes again dupped those ts...\n",
              "39674     this is my bear stance on tsla bulls love to r...\n",
              "87256     how tf can cathie wood say “value stocks are i...\n",
              "138472    nah this is what he wanted or else he wouldn’t...\n",
              "74046     thats a lot volatility always eats up my tsla ...\n",
              "184791    i like the tsla bike shorts for running i get ...\n",
              "Name: cleaned_posts, dtype: object"
            ]
          },
          "execution_count": 53,
          "metadata": {},
          "output_type": "execute_result"
        }
      ],
      "source": [
        "# just to get an overview of the changes made above\n",
        "reddit_df['cleaned_posts'].sample(10)"
      ]
    },
    {
      "cell_type": "code",
      "execution_count": null,
      "id": "VU4qwol4nRKt",
      "metadata": {
        "colab": {
          "base_uri": "https://localhost:8080/",
          "height": 206
        },
        "id": "VU4qwol4nRKt",
        "outputId": "ea06f54d-0441-4e35-ebec-c89a6fdb1e60"
      },
      "outputs": [
        {
          "data": {
            "text/html": [
              "<div>\n",
              "<style scoped>\n",
              "    .dataframe tbody tr th:only-of-type {\n",
              "        vertical-align: middle;\n",
              "    }\n",
              "\n",
              "    .dataframe tbody tr th {\n",
              "        vertical-align: top;\n",
              "    }\n",
              "\n",
              "    .dataframe thead th {\n",
              "        text-align: right;\n",
              "    }\n",
              "</style>\n",
              "<table border=\"1\" class=\"dataframe\">\n",
              "  <thead>\n",
              "    <tr style=\"text-align: right;\">\n",
              "      <th></th>\n",
              "      <th>subreddit.name</th>\n",
              "      <th>body</th>\n",
              "      <th>sentiment</th>\n",
              "      <th>score</th>\n",
              "      <th>date_posted</th>\n",
              "      <th>cleaned_posts</th>\n",
              "    </tr>\n",
              "  </thead>\n",
              "  <tbody>\n",
              "    <tr>\n",
              "      <th>0</th>\n",
              "      <td>valueinvesting</td>\n",
              "      <td>When TSLA was at 1K share price :\\n\\n8B sales/...</td>\n",
              "      <td>0.2960</td>\n",
              "      <td>1</td>\n",
              "      <td>2022-07-04</td>\n",
              "      <td>when tsla was at 1 thousandshare price  8 bill...</td>\n",
              "    </tr>\n",
              "    <tr>\n",
              "      <th>1</th>\n",
              "      <td>stocks</td>\n",
              "      <td>$TSLA will go down because you own the stock… ...</td>\n",
              "      <td>0.2136</td>\n",
              "      <td>1</td>\n",
              "      <td>2022-07-04</td>\n",
              "      <td>tsla will go down because you own the stock… t...</td>\n",
              "    </tr>\n",
              "    <tr>\n",
              "      <th>2</th>\n",
              "      <td>personalfinance</td>\n",
              "      <td>&amp;gt;What I mean is when I started investing, t...</td>\n",
              "      <td>0.7748</td>\n",
              "      <td>8</td>\n",
              "      <td>2022-07-04</td>\n",
              "      <td>and gt what i mean is when i started investin...</td>\n",
              "    </tr>\n",
              "    <tr>\n",
              "      <th>3</th>\n",
              "      <td>personalfinance</td>\n",
              "      <td>I do trade in some ETFs.. DIV, SDIV ; USOI (it...</td>\n",
              "      <td>-0.5062</td>\n",
              "      <td>-2</td>\n",
              "      <td>2022-07-04</td>\n",
              "      <td>i do trade in some etfs div sdiv   usoi  its a...</td>\n",
              "    </tr>\n",
              "    <tr>\n",
              "      <th>4</th>\n",
              "      <td>wallstreetbets</td>\n",
              "      <td>I think macro runs coming up. Sell and wait fo...</td>\n",
              "      <td>-0.1531</td>\n",
              "      <td>1</td>\n",
              "      <td>2022-07-04</td>\n",
              "      <td>i think macro runs coming up sell and wait for...</td>\n",
              "    </tr>\n",
              "  </tbody>\n",
              "</table>\n",
              "</div>"
            ],
            "text/plain": [
              "    subreddit.name                                               body  \\\n",
              "0   valueinvesting  When TSLA was at 1K share price :\\n\\n8B sales/...   \n",
              "1           stocks  $TSLA will go down because you own the stock… ...   \n",
              "2  personalfinance  &gt;What I mean is when I started investing, t...   \n",
              "3  personalfinance  I do trade in some ETFs.. DIV, SDIV ; USOI (it...   \n",
              "4   wallstreetbets  I think macro runs coming up. Sell and wait fo...   \n",
              "\n",
              "   sentiment  score date_posted  \\\n",
              "0     0.2960      1  2022-07-04   \n",
              "1     0.2136      1  2022-07-04   \n",
              "2     0.7748      8  2022-07-04   \n",
              "3    -0.5062     -2  2022-07-04   \n",
              "4    -0.1531      1  2022-07-04   \n",
              "\n",
              "                                       cleaned_posts  \n",
              "0  when tsla was at 1 thousandshare price  8 bill...  \n",
              "1  tsla will go down because you own the stock… t...  \n",
              "2   and gt what i mean is when i started investin...  \n",
              "3  i do trade in some etfs div sdiv   usoi  its a...  \n",
              "4  i think macro runs coming up sell and wait for...  "
            ]
          },
          "execution_count": 54,
          "metadata": {},
          "output_type": "execute_result"
        }
      ],
      "source": [
        "reddit_df.head()"
      ]
    },
    {
      "cell_type": "markdown",
      "id": "ajgYG4-oBZes",
      "metadata": {
        "id": "ajgYG4-oBZes"
      },
      "source": [
        "We can see the preprocessing looks good, the `cleaned_posts` feature is in good format for VADER sentiment analysis."
      ]
    },
    {
      "cell_type": "markdown",
      "id": "w7-PbiKPDULn",
      "metadata": {
        "id": "w7-PbiKPDULn"
      },
      "source": [
        "### Remove Stop Words"
      ]
    },
    {
      "cell_type": "markdown",
      "id": "AAV2a7VSRHX1",
      "metadata": {
        "id": "AAV2a7VSRHX1"
      },
      "source": [
        "---\n",
        "***Due to the excessively long compute time for the stop words removal, I will comment out this section and export the data to a .csv. Then read in to a new data frame. This will eliminate that long wait time.***"
      ]
    },
    {
      "cell_type": "code",
      "execution_count": null,
      "id": "uuopbwj3nRO8",
      "metadata": {
        "id": "uuopbwj3nRO8",
        "outputId": "ca73e04a-3378-4507-876b-5aa27548231c"
      },
      "outputs": [
        {
          "name": "stderr",
          "output_type": "stream",
          "text": [
            "[nltk_data] Downloading package stopwords to\n",
            "[nltk_data]     C:\\Users\\DhimanS\\AppData\\Roaming\\nltk_data...\n",
            "[nltk_data]   Package stopwords is already up-to-date!\n"
          ]
        },
        {
          "data": {
            "text/plain": [
              "True"
            ]
          },
          "execution_count": 55,
          "metadata": {},
          "output_type": "execute_result"
        }
      ],
      "source": [
        "# # need to download the package first\n",
        "\n",
        "nltk.download('stopwords')\n",
        "# stop_words = stopwords.words('english')\n",
        "# # stop_words"
      ]
    },
    {
      "cell_type": "code",
      "execution_count": null,
      "id": "wkRFH0uunRM0",
      "metadata": {
        "id": "wkRFH0uunRM0"
      },
      "outputs": [],
      "source": [
        "# # create a function that will remove the stop words in the dataframe\n",
        "\n",
        "# def remove_stop(post):\n",
        "#   words = nltk.word_tokenize(post)\n",
        "#   filter_words = [i for i in words if i.lower() not in stopwords.words('english')]\n",
        "#   return ' '.join(filter_words)\n"
      ]
    },
    {
      "cell_type": "markdown",
      "id": "kJPTIm_bDrHZ",
      "metadata": {
        "id": "kJPTIm_bDrHZ"
      },
      "source": [
        "***Disclaimer: this step will take a lot of time.***"
      ]
    },
    {
      "cell_type": "code",
      "execution_count": null,
      "id": "NBRI1AIznRRg",
      "metadata": {
        "id": "NBRI1AIznRRg"
      },
      "outputs": [],
      "source": [
        "# reddit_df['cleaned_posts'] = reddit_df['cleaned_posts'].apply(remove_stop)"
      ]
    },
    {
      "cell_type": "markdown",
      "id": "Yzoio3lpReO2",
      "metadata": {
        "id": "Yzoio3lpReO2"
      },
      "source": [
        "---"
      ]
    },
    {
      "cell_type": "code",
      "execution_count": null,
      "id": "99abb16d",
      "metadata": {
        "colab": {
          "base_uri": "https://localhost:8080/",
          "height": 206
        },
        "id": "99abb16d",
        "outputId": "ed1de537-55df-4dee-c042-8d76de380bab"
      },
      "outputs": [
        {
          "data": {
            "text/html": [
              "<div>\n",
              "<style scoped>\n",
              "    .dataframe tbody tr th:only-of-type {\n",
              "        vertical-align: middle;\n",
              "    }\n",
              "\n",
              "    .dataframe tbody tr th {\n",
              "        vertical-align: top;\n",
              "    }\n",
              "\n",
              "    .dataframe thead th {\n",
              "        text-align: right;\n",
              "    }\n",
              "</style>\n",
              "<table border=\"1\" class=\"dataframe\">\n",
              "  <thead>\n",
              "    <tr style=\"text-align: right;\">\n",
              "      <th></th>\n",
              "      <th>subreddit.name</th>\n",
              "      <th>body</th>\n",
              "      <th>sentiment</th>\n",
              "      <th>score</th>\n",
              "      <th>date_posted</th>\n",
              "      <th>cleaned_posts</th>\n",
              "    </tr>\n",
              "  </thead>\n",
              "  <tbody>\n",
              "    <tr>\n",
              "      <th>0</th>\n",
              "      <td>valueinvesting</td>\n",
              "      <td>When TSLA was at 1K share price :\\n\\n8B sales/...</td>\n",
              "      <td>0.2960</td>\n",
              "      <td>1</td>\n",
              "      <td>2022-07-04</td>\n",
              "      <td>when tsla was at 1 thousandshare price  8 bill...</td>\n",
              "    </tr>\n",
              "    <tr>\n",
              "      <th>1</th>\n",
              "      <td>stocks</td>\n",
              "      <td>$TSLA will go down because you own the stock… ...</td>\n",
              "      <td>0.2136</td>\n",
              "      <td>1</td>\n",
              "      <td>2022-07-04</td>\n",
              "      <td>tsla will go down because you own the stock… t...</td>\n",
              "    </tr>\n",
              "    <tr>\n",
              "      <th>2</th>\n",
              "      <td>personalfinance</td>\n",
              "      <td>&amp;gt;What I mean is when I started investing, t...</td>\n",
              "      <td>0.7748</td>\n",
              "      <td>8</td>\n",
              "      <td>2022-07-04</td>\n",
              "      <td>and gt what i mean is when i started investin...</td>\n",
              "    </tr>\n",
              "    <tr>\n",
              "      <th>3</th>\n",
              "      <td>personalfinance</td>\n",
              "      <td>I do trade in some ETFs.. DIV, SDIV ; USOI (it...</td>\n",
              "      <td>-0.5062</td>\n",
              "      <td>-2</td>\n",
              "      <td>2022-07-04</td>\n",
              "      <td>i do trade in some etfs div sdiv   usoi  its a...</td>\n",
              "    </tr>\n",
              "    <tr>\n",
              "      <th>4</th>\n",
              "      <td>wallstreetbets</td>\n",
              "      <td>I think macro runs coming up. Sell and wait fo...</td>\n",
              "      <td>-0.1531</td>\n",
              "      <td>1</td>\n",
              "      <td>2022-07-04</td>\n",
              "      <td>i think macro runs coming up sell and wait for...</td>\n",
              "    </tr>\n",
              "  </tbody>\n",
              "</table>\n",
              "</div>"
            ],
            "text/plain": [
              "    subreddit.name                                               body  \\\n",
              "0   valueinvesting  When TSLA was at 1K share price :\\n\\n8B sales/...   \n",
              "1           stocks  $TSLA will go down because you own the stock… ...   \n",
              "2  personalfinance  &gt;What I mean is when I started investing, t...   \n",
              "3  personalfinance  I do trade in some ETFs.. DIV, SDIV ; USOI (it...   \n",
              "4   wallstreetbets  I think macro runs coming up. Sell and wait fo...   \n",
              "\n",
              "   sentiment  score date_posted  \\\n",
              "0     0.2960      1  2022-07-04   \n",
              "1     0.2136      1  2022-07-04   \n",
              "2     0.7748      8  2022-07-04   \n",
              "3    -0.5062     -2  2022-07-04   \n",
              "4    -0.1531      1  2022-07-04   \n",
              "\n",
              "                                       cleaned_posts  \n",
              "0  when tsla was at 1 thousandshare price  8 bill...  \n",
              "1  tsla will go down because you own the stock… t...  \n",
              "2   and gt what i mean is when i started investin...  \n",
              "3  i do trade in some etfs div sdiv   usoi  its a...  \n",
              "4  i think macro runs coming up sell and wait for...  "
            ]
          },
          "execution_count": 58,
          "metadata": {},
          "output_type": "execute_result"
        }
      ],
      "source": [
        "reddit_df.head()"
      ]
    },
    {
      "cell_type": "markdown",
      "id": "6b5976e6",
      "metadata": {
        "id": "6b5976e6"
      },
      "source": [
        "## Sentiment Scoring using VADER"
      ]
    },
    {
      "cell_type": "code",
      "execution_count": null,
      "id": "T8lYchiVRiSv",
      "metadata": {
        "id": "T8lYchiVRiSv"
      },
      "outputs": [],
      "source": [
        "# # export the final dataframe to a csv to use in Book 3: Modeling\n",
        "# reddit_df.to_csv('data/reddit_stopwords_removed.csv')"
      ]
    },
    {
      "cell_type": "code",
      "execution_count": null,
      "id": "GdoxpWeUR8bW",
      "metadata": {
        "id": "GdoxpWeUR8bW"
      },
      "outputs": [],
      "source": [
        "# load in the saved data\n",
        "reddit = pd.read_csv('data/reddit_stopwords_removed.csv')"
      ]
    },
    {
      "cell_type": "code",
      "execution_count": null,
      "id": "FWEAhoheR8eK",
      "metadata": {
        "id": "FWEAhoheR8eK"
      },
      "outputs": [],
      "source": [
        "# need to drop this from the exported data, forgot to ignore the index when exporting\n",
        "reddit = reddit.drop(columns=['Unnamed: 0'])"
      ]
    },
    {
      "cell_type": "code",
      "execution_count": null,
      "id": "iun37LVMR8gw",
      "metadata": {
        "id": "iun37LVMR8gw"
      },
      "outputs": [],
      "source": [
        "# the date_posted column was type object -- convert\n",
        "reddit['date_posted'] = pd.to_datetime(reddit['date_posted'])"
      ]
    },
    {
      "cell_type": "code",
      "execution_count": null,
      "id": "JpyaE9HiR8jQ",
      "metadata": {
        "colab": {
          "base_uri": "https://localhost:8080/"
        },
        "id": "JpyaE9HiR8jQ",
        "outputId": "4afa55c3-7176-430b-b7b3-c4b8ae3ff83c"
      },
      "outputs": [
        {
          "name": "stdout",
          "output_type": "stream",
          "text": [
            "<class 'pandas.core.frame.DataFrame'>\n",
            "RangeIndex: 197420 entries, 0 to 197419\n",
            "Data columns (total 6 columns):\n",
            " #   Column          Non-Null Count   Dtype         \n",
            "---  ------          --------------   -----         \n",
            " 0   subreddit.name  197414 non-null  object        \n",
            " 1   body            197414 non-null  object        \n",
            " 2   sentiment       197413 non-null  object        \n",
            " 3   score           197413 non-null  object        \n",
            " 4   date_posted     197412 non-null  datetime64[ns]\n",
            " 5   cleaned_posts   197411 non-null  object        \n",
            "dtypes: datetime64[ns](1), object(5)\n",
            "memory usage: 9.0+ MB\n"
          ]
        }
      ],
      "source": [
        "# what data type is being stored in the new cleanted tewxt data\n",
        "reddit.info()"
      ]
    },
    {
      "cell_type": "code",
      "execution_count": null,
      "id": "A4_wSNHNR8lZ",
      "metadata": {
        "colab": {
          "base_uri": "https://localhost:8080/",
          "height": 206
        },
        "id": "A4_wSNHNR8lZ",
        "outputId": "6e47eb8e-b3aa-4602-c7fa-3d04280bffd2"
      },
      "outputs": [
        {
          "data": {
            "text/html": [
              "<div>\n",
              "<style scoped>\n",
              "    .dataframe tbody tr th:only-of-type {\n",
              "        vertical-align: middle;\n",
              "    }\n",
              "\n",
              "    .dataframe tbody tr th {\n",
              "        vertical-align: top;\n",
              "    }\n",
              "\n",
              "    .dataframe thead th {\n",
              "        text-align: right;\n",
              "    }\n",
              "</style>\n",
              "<table border=\"1\" class=\"dataframe\">\n",
              "  <thead>\n",
              "    <tr style=\"text-align: right;\">\n",
              "      <th></th>\n",
              "      <th>subreddit.name</th>\n",
              "      <th>body</th>\n",
              "      <th>sentiment</th>\n",
              "      <th>score</th>\n",
              "      <th>date_posted</th>\n",
              "      <th>cleaned_posts</th>\n",
              "    </tr>\n",
              "  </thead>\n",
              "  <tbody>\n",
              "    <tr>\n",
              "      <th>0</th>\n",
              "      <td>valueinvesting</td>\n",
              "      <td>When TSLA was at 1K share price :\\n\\n8B sales/...</td>\n",
              "      <td>0.296</td>\n",
              "      <td>1</td>\n",
              "      <td>2022-07-04</td>\n",
              "      <td>tsla 1 thousandshare price 8 billionsales 1 bi...</td>\n",
              "    </tr>\n",
              "    <tr>\n",
              "      <th>1</th>\n",
              "      <td>stocks</td>\n",
              "      <td>$TSLA will go down because you own the stock… ...</td>\n",
              "      <td>0.2136</td>\n",
              "      <td>1</td>\n",
              "      <td>2022-07-04</td>\n",
              "      <td>tsla go stock… best way make price go sell it…...</td>\n",
              "    </tr>\n",
              "    <tr>\n",
              "      <th>2</th>\n",
              "      <td>personalfinance</td>\n",
              "      <td>&amp;gt;What I mean is when I started investing, t...</td>\n",
              "      <td>0.7748</td>\n",
              "      <td>8</td>\n",
              "      <td>2022-07-04</td>\n",
              "      <td>gt mean started investing thats came highly re...</td>\n",
              "    </tr>\n",
              "    <tr>\n",
              "      <th>3</th>\n",
              "      <td>personalfinance</td>\n",
              "      <td>I do trade in some ETFs.. DIV, SDIV ; USOI (it...</td>\n",
              "      <td>-0.5062</td>\n",
              "      <td>-2</td>\n",
              "      <td>2022-07-04</td>\n",
              "      <td>trade etfs div sdiv usoi etn im real sure gut ...</td>\n",
              "    </tr>\n",
              "    <tr>\n",
              "      <th>4</th>\n",
              "      <td>wallstreetbets</td>\n",
              "      <td>I think macro runs coming up. Sell and wait fo...</td>\n",
              "      <td>-0.1531</td>\n",
              "      <td>1</td>\n",
              "      <td>2022-07-04</td>\n",
              "      <td>think macro runs coming sell wait big crash bu...</td>\n",
              "    </tr>\n",
              "  </tbody>\n",
              "</table>\n",
              "</div>"
            ],
            "text/plain": [
              "    subreddit.name                                               body  \\\n",
              "0   valueinvesting  When TSLA was at 1K share price :\\n\\n8B sales/...   \n",
              "1           stocks  $TSLA will go down because you own the stock… ...   \n",
              "2  personalfinance  &gt;What I mean is when I started investing, t...   \n",
              "3  personalfinance  I do trade in some ETFs.. DIV, SDIV ; USOI (it...   \n",
              "4   wallstreetbets  I think macro runs coming up. Sell and wait fo...   \n",
              "\n",
              "  sentiment score date_posted  \\\n",
              "0     0.296     1  2022-07-04   \n",
              "1    0.2136     1  2022-07-04   \n",
              "2    0.7748     8  2022-07-04   \n",
              "3   -0.5062    -2  2022-07-04   \n",
              "4   -0.1531     1  2022-07-04   \n",
              "\n",
              "                                       cleaned_posts  \n",
              "0  tsla 1 thousandshare price 8 billionsales 1 bi...  \n",
              "1  tsla go stock… best way make price go sell it…...  \n",
              "2  gt mean started investing thats came highly re...  \n",
              "3  trade etfs div sdiv usoi etn im real sure gut ...  \n",
              "4  think macro runs coming sell wait big crash bu...  "
            ]
          },
          "execution_count": 65,
          "metadata": {},
          "output_type": "execute_result"
        }
      ],
      "source": [
        "reddit.head()"
      ]
    },
    {
      "cell_type": "code",
      "execution_count": null,
      "id": "VHiSj169Ujoh",
      "metadata": {
        "id": "VHiSj169Ujoh"
      },
      "outputs": [],
      "source": [
        "# set up an intensity analyzer -- this will be used to determine the neutral/neg/pos/compound values for our text\n",
        "sia = SentimentIntensityAnalyzer()"
      ]
    },
    {
      "cell_type": "markdown",
      "id": "KZwkoXaDcZdV",
      "metadata": {
        "id": "KZwkoXaDcZdV"
      },
      "source": [
        "***Disclaimer: this will take roughly 3min to run***"
      ]
    },
    {
      "cell_type": "code",
      "execution_count": null,
      "id": "nCD3t6bAcdw9",
      "metadata": {
        "colab": {
          "base_uri": "https://localhost:8080/"
        },
        "id": "nCD3t6bAcdw9",
        "outputId": "16b44f22-2e31-4588-85f3-873bbcdfd2d0"
      },
      "outputs": [
        {
          "name": "stdout",
          "output_type": "stream",
          "text": [
            "CPU times: total: 2min 1s\n",
            "Wall time: 2min 1s\n"
          ]
        }
      ],
      "source": [
        "%%time\n",
        "# needed to use .astype(str) because there were some text data that was type float, so to run VADER analysis needed to convert to string\n",
        "reddit['vader'] = reddit['cleaned_posts'].astype(str).apply(lambda x: sia.polarity_scores(x))"
      ]
    },
    {
      "cell_type": "code",
      "execution_count": null,
      "id": "BiFfU9TbdFwy",
      "metadata": {
        "colab": {
          "base_uri": "https://localhost:8080/",
          "height": 206
        },
        "id": "BiFfU9TbdFwy",
        "outputId": "c13e0ff6-ba7c-4617-8ad5-673089aa6cef"
      },
      "outputs": [
        {
          "data": {
            "text/html": [
              "<div>\n",
              "<style scoped>\n",
              "    .dataframe tbody tr th:only-of-type {\n",
              "        vertical-align: middle;\n",
              "    }\n",
              "\n",
              "    .dataframe tbody tr th {\n",
              "        vertical-align: top;\n",
              "    }\n",
              "\n",
              "    .dataframe thead th {\n",
              "        text-align: right;\n",
              "    }\n",
              "</style>\n",
              "<table border=\"1\" class=\"dataframe\">\n",
              "  <thead>\n",
              "    <tr style=\"text-align: right;\">\n",
              "      <th></th>\n",
              "      <th>subreddit.name</th>\n",
              "      <th>body</th>\n",
              "      <th>sentiment</th>\n",
              "      <th>score</th>\n",
              "      <th>date_posted</th>\n",
              "      <th>cleaned_posts</th>\n",
              "      <th>vader</th>\n",
              "    </tr>\n",
              "  </thead>\n",
              "  <tbody>\n",
              "    <tr>\n",
              "      <th>0</th>\n",
              "      <td>valueinvesting</td>\n",
              "      <td>When TSLA was at 1K share price :\\n\\n8B sales/...</td>\n",
              "      <td>0.296</td>\n",
              "      <td>1</td>\n",
              "      <td>2022-07-04</td>\n",
              "      <td>tsla 1 thousandshare price 8 billionsales 1 bi...</td>\n",
              "      <td>{'neg': 0.0, 'neu': 0.833, 'pos': 0.167, 'comp...</td>\n",
              "    </tr>\n",
              "    <tr>\n",
              "      <th>1</th>\n",
              "      <td>stocks</td>\n",
              "      <td>$TSLA will go down because you own the stock… ...</td>\n",
              "      <td>0.2136</td>\n",
              "      <td>1</td>\n",
              "      <td>2022-07-04</td>\n",
              "      <td>tsla go stock… best way make price go sell it…...</td>\n",
              "      <td>{'neg': 0.048, 'neu': 0.655, 'pos': 0.296, 'co...</td>\n",
              "    </tr>\n",
              "    <tr>\n",
              "      <th>2</th>\n",
              "      <td>personalfinance</td>\n",
              "      <td>&amp;gt;What I mean is when I started investing, t...</td>\n",
              "      <td>0.7748</td>\n",
              "      <td>8</td>\n",
              "      <td>2022-07-04</td>\n",
              "      <td>gt mean started investing thats came highly re...</td>\n",
              "      <td>{'neg': 0.061, 'neu': 0.707, 'pos': 0.232, 'co...</td>\n",
              "    </tr>\n",
              "    <tr>\n",
              "      <th>3</th>\n",
              "      <td>personalfinance</td>\n",
              "      <td>I do trade in some ETFs.. DIV, SDIV ; USOI (it...</td>\n",
              "      <td>-0.5062</td>\n",
              "      <td>-2</td>\n",
              "      <td>2022-07-04</td>\n",
              "      <td>trade etfs div sdiv usoi etn im real sure gut ...</td>\n",
              "      <td>{'neg': 0.087, 'neu': 0.807, 'pos': 0.107, 'co...</td>\n",
              "    </tr>\n",
              "    <tr>\n",
              "      <th>4</th>\n",
              "      <td>wallstreetbets</td>\n",
              "      <td>I think macro runs coming up. Sell and wait fo...</td>\n",
              "      <td>-0.1531</td>\n",
              "      <td>1</td>\n",
              "      <td>2022-07-04</td>\n",
              "      <td>think macro runs coming sell wait big crash bu...</td>\n",
              "      <td>{'neg': 0.152, 'neu': 0.73, 'pos': 0.118, 'com...</td>\n",
              "    </tr>\n",
              "    <tr>\n",
              "      <th>...</th>\n",
              "      <td>...</td>\n",
              "      <td>...</td>\n",
              "      <td>...</td>\n",
              "      <td>...</td>\n",
              "      <td>...</td>\n",
              "      <td>...</td>\n",
              "      <td>...</td>\n",
              "    </tr>\n",
              "    <tr>\n",
              "      <th>197415</th>\n",
              "      <td>thetagang</td>\n",
              "      <td>Yeah like this week pretty much has nothing.  ...</td>\n",
              "      <td>0.9403</td>\n",
              "      <td>2</td>\n",
              "      <td>2021-07-05</td>\n",
              "      <td>yeah like week pretty much nothing cases try s...</td>\n",
              "      <td>{'neg': 0.069, 'neu': 0.494, 'pos': 0.437, 'co...</td>\n",
              "    </tr>\n",
              "    <tr>\n",
              "      <th>197416</th>\n",
              "      <td>stocks</td>\n",
              "      <td>I invested with TSLA 2 years ago with this in ...</td>\n",
              "      <td>0.9239</td>\n",
              "      <td>34</td>\n",
              "      <td>2021-07-05</td>\n",
              "      <td>invested tsla 2 years ago mind year year expon...</td>\n",
              "      <td>{'neg': 0.0, 'neu': 0.682, 'pos': 0.318, 'comp...</td>\n",
              "    </tr>\n",
              "    <tr>\n",
              "      <th>197417</th>\n",
              "      <td>valueinvesting</td>\n",
              "      <td>It was, at 1 point, $400/share. At $200, compa...</td>\n",
              "      <td>0.5544</td>\n",
              "      <td>4</td>\n",
              "      <td>2021-07-05</td>\n",
              "      <td>1 point 400 share 200 compared tsla outrageous...</td>\n",
              "      <td>{'neg': 0.114, 'neu': 0.722, 'pos': 0.163, 'co...</td>\n",
              "    </tr>\n",
              "    <tr>\n",
              "      <th>197418</th>\n",
              "      <td>wallstreetbets</td>\n",
              "      <td>Guy taking 2nd mortgage for MU 90 calls. Other...</td>\n",
              "      <td>-0.6486</td>\n",
              "      <td>19</td>\n",
              "      <td>2021-07-05</td>\n",
              "      <td>guy taking 2nd mortgage mu 90 calls degenerate...</td>\n",
              "      <td>{'neg': 0.202, 'neu': 0.798, 'pos': 0.0, 'comp...</td>\n",
              "    </tr>\n",
              "    <tr>\n",
              "      <th>197419</th>\n",
              "      <td>personalfinancecanada</td>\n",
              "      <td>I think you're correct on the TCO still being ...</td>\n",
              "      <td>-0.2023</td>\n",
              "      <td>3</td>\n",
              "      <td>2021-07-05</td>\n",
              "      <td>think youre correct tco still favour ice im go...</td>\n",
              "      <td>{'neg': 0.075, 'neu': 0.77, 'pos': 0.155, 'com...</td>\n",
              "    </tr>\n",
              "  </tbody>\n",
              "</table>\n",
              "<p>197420 rows × 7 columns</p>\n",
              "</div>"
            ],
            "text/plain": [
              "               subreddit.name  \\\n",
              "0              valueinvesting   \n",
              "1                      stocks   \n",
              "2             personalfinance   \n",
              "3             personalfinance   \n",
              "4              wallstreetbets   \n",
              "...                       ...   \n",
              "197415              thetagang   \n",
              "197416                 stocks   \n",
              "197417         valueinvesting   \n",
              "197418         wallstreetbets   \n",
              "197419  personalfinancecanada   \n",
              "\n",
              "                                                     body sentiment score  \\\n",
              "0       When TSLA was at 1K share price :\\n\\n8B sales/...     0.296     1   \n",
              "1       $TSLA will go down because you own the stock… ...    0.2136     1   \n",
              "2       &gt;What I mean is when I started investing, t...    0.7748     8   \n",
              "3       I do trade in some ETFs.. DIV, SDIV ; USOI (it...   -0.5062    -2   \n",
              "4       I think macro runs coming up. Sell and wait fo...   -0.1531     1   \n",
              "...                                                   ...       ...   ...   \n",
              "197415  Yeah like this week pretty much has nothing.  ...    0.9403     2   \n",
              "197416  I invested with TSLA 2 years ago with this in ...    0.9239    34   \n",
              "197417  It was, at 1 point, $400/share. At $200, compa...    0.5544     4   \n",
              "197418  Guy taking 2nd mortgage for MU 90 calls. Other...   -0.6486    19   \n",
              "197419  I think you're correct on the TCO still being ...   -0.2023     3   \n",
              "\n",
              "       date_posted                                      cleaned_posts  \\\n",
              "0       2022-07-04  tsla 1 thousandshare price 8 billionsales 1 bi...   \n",
              "1       2022-07-04  tsla go stock… best way make price go sell it…...   \n",
              "2       2022-07-04  gt mean started investing thats came highly re...   \n",
              "3       2022-07-04  trade etfs div sdiv usoi etn im real sure gut ...   \n",
              "4       2022-07-04  think macro runs coming sell wait big crash bu...   \n",
              "...            ...                                                ...   \n",
              "197415  2021-07-05  yeah like week pretty much nothing cases try s...   \n",
              "197416  2021-07-05  invested tsla 2 years ago mind year year expon...   \n",
              "197417  2021-07-05  1 point 400 share 200 compared tsla outrageous...   \n",
              "197418  2021-07-05  guy taking 2nd mortgage mu 90 calls degenerate...   \n",
              "197419  2021-07-05  think youre correct tco still favour ice im go...   \n",
              "\n",
              "                                                    vader  \n",
              "0       {'neg': 0.0, 'neu': 0.833, 'pos': 0.167, 'comp...  \n",
              "1       {'neg': 0.048, 'neu': 0.655, 'pos': 0.296, 'co...  \n",
              "2       {'neg': 0.061, 'neu': 0.707, 'pos': 0.232, 'co...  \n",
              "3       {'neg': 0.087, 'neu': 0.807, 'pos': 0.107, 'co...  \n",
              "4       {'neg': 0.152, 'neu': 0.73, 'pos': 0.118, 'com...  \n",
              "...                                                   ...  \n",
              "197415  {'neg': 0.069, 'neu': 0.494, 'pos': 0.437, 'co...  \n",
              "197416  {'neg': 0.0, 'neu': 0.682, 'pos': 0.318, 'comp...  \n",
              "197417  {'neg': 0.114, 'neu': 0.722, 'pos': 0.163, 'co...  \n",
              "197418  {'neg': 0.202, 'neu': 0.798, 'pos': 0.0, 'comp...  \n",
              "197419  {'neg': 0.075, 'neu': 0.77, 'pos': 0.155, 'com...  \n",
              "\n",
              "[197420 rows x 7 columns]"
            ]
          },
          "execution_count": 68,
          "metadata": {},
          "output_type": "execute_result"
        }
      ],
      "source": [
        "# the VADER polasrity scoring outputs a dictionary of negative, neutral, positive and compounded sentiment scores\n",
        "reddit"
      ]
    },
    {
      "cell_type": "markdown",
      "id": "LaEVCAeFdlS5",
      "metadata": {
        "id": "LaEVCAeFdlS5"
      },
      "source": [
        "We see that the VADER sentiment analysis gives us a dictionary of neg/pos/neu/compound sentiment. We want to expand these to their own columns. We can use the pandas method `.json_normalize()`."
      ]
    },
    {
      "cell_type": "code",
      "execution_count": null,
      "id": "6sYn59EVdFzU",
      "metadata": {
        "id": "6sYn59EVdFzU"
      },
      "outputs": [],
      "source": [
        "# expand the vader column of dictionaries -- use pandas method json.normalize\n",
        "sentiment_expanded = pd.json_normalize(reddit['vader'])"
      ]
    },
    {
      "cell_type": "code",
      "execution_count": null,
      "id": "u8K-R2sTdF36",
      "metadata": {
        "colab": {
          "base_uri": "https://localhost:8080/",
          "height": 424
        },
        "id": "u8K-R2sTdF36",
        "outputId": "67f255d1-31c1-46ba-eb25-96a986b113c0"
      },
      "outputs": [
        {
          "data": {
            "text/html": [
              "<div>\n",
              "<style scoped>\n",
              "    .dataframe tbody tr th:only-of-type {\n",
              "        vertical-align: middle;\n",
              "    }\n",
              "\n",
              "    .dataframe tbody tr th {\n",
              "        vertical-align: top;\n",
              "    }\n",
              "\n",
              "    .dataframe thead th {\n",
              "        text-align: right;\n",
              "    }\n",
              "</style>\n",
              "<table border=\"1\" class=\"dataframe\">\n",
              "  <thead>\n",
              "    <tr style=\"text-align: right;\">\n",
              "      <th></th>\n",
              "      <th>neg</th>\n",
              "      <th>neu</th>\n",
              "      <th>pos</th>\n",
              "      <th>compound</th>\n",
              "    </tr>\n",
              "  </thead>\n",
              "  <tbody>\n",
              "    <tr>\n",
              "      <th>0</th>\n",
              "      <td>0.000</td>\n",
              "      <td>0.833</td>\n",
              "      <td>0.167</td>\n",
              "      <td>0.2960</td>\n",
              "    </tr>\n",
              "    <tr>\n",
              "      <th>1</th>\n",
              "      <td>0.048</td>\n",
              "      <td>0.655</td>\n",
              "      <td>0.296</td>\n",
              "      <td>0.8658</td>\n",
              "    </tr>\n",
              "    <tr>\n",
              "      <th>2</th>\n",
              "      <td>0.061</td>\n",
              "      <td>0.707</td>\n",
              "      <td>0.232</td>\n",
              "      <td>0.6223</td>\n",
              "    </tr>\n",
              "    <tr>\n",
              "      <th>3</th>\n",
              "      <td>0.087</td>\n",
              "      <td>0.807</td>\n",
              "      <td>0.107</td>\n",
              "      <td>0.0772</td>\n",
              "    </tr>\n",
              "    <tr>\n",
              "      <th>4</th>\n",
              "      <td>0.152</td>\n",
              "      <td>0.730</td>\n",
              "      <td>0.118</td>\n",
              "      <td>-0.1531</td>\n",
              "    </tr>\n",
              "    <tr>\n",
              "      <th>...</th>\n",
              "      <td>...</td>\n",
              "      <td>...</td>\n",
              "      <td>...</td>\n",
              "      <td>...</td>\n",
              "    </tr>\n",
              "    <tr>\n",
              "      <th>197415</th>\n",
              "      <td>0.069</td>\n",
              "      <td>0.494</td>\n",
              "      <td>0.437</td>\n",
              "      <td>0.9169</td>\n",
              "    </tr>\n",
              "    <tr>\n",
              "      <th>197416</th>\n",
              "      <td>0.000</td>\n",
              "      <td>0.682</td>\n",
              "      <td>0.318</td>\n",
              "      <td>0.9793</td>\n",
              "    </tr>\n",
              "    <tr>\n",
              "      <th>197417</th>\n",
              "      <td>0.114</td>\n",
              "      <td>0.722</td>\n",
              "      <td>0.163</td>\n",
              "      <td>0.0772</td>\n",
              "    </tr>\n",
              "    <tr>\n",
              "      <th>197418</th>\n",
              "      <td>0.202</td>\n",
              "      <td>0.798</td>\n",
              "      <td>0.000</td>\n",
              "      <td>-0.6486</td>\n",
              "    </tr>\n",
              "    <tr>\n",
              "      <th>197419</th>\n",
              "      <td>0.075</td>\n",
              "      <td>0.770</td>\n",
              "      <td>0.155</td>\n",
              "      <td>0.7096</td>\n",
              "    </tr>\n",
              "  </tbody>\n",
              "</table>\n",
              "<p>197420 rows × 4 columns</p>\n",
              "</div>"
            ],
            "text/plain": [
              "          neg    neu    pos  compound\n",
              "0       0.000  0.833  0.167    0.2960\n",
              "1       0.048  0.655  0.296    0.8658\n",
              "2       0.061  0.707  0.232    0.6223\n",
              "3       0.087  0.807  0.107    0.0772\n",
              "4       0.152  0.730  0.118   -0.1531\n",
              "...       ...    ...    ...       ...\n",
              "197415  0.069  0.494  0.437    0.9169\n",
              "197416  0.000  0.682  0.318    0.9793\n",
              "197417  0.114  0.722  0.163    0.0772\n",
              "197418  0.202  0.798  0.000   -0.6486\n",
              "197419  0.075  0.770  0.155    0.7096\n",
              "\n",
              "[197420 rows x 4 columns]"
            ]
          },
          "execution_count": 70,
          "metadata": {},
          "output_type": "execute_result"
        }
      ],
      "source": [
        "#created a standalone sentiment dataframe\n",
        "sentiment_expanded"
      ]
    },
    {
      "cell_type": "markdown",
      "id": "SzCh95IAeAPe",
      "metadata": {
        "id": "SzCh95IAeAPe"
      },
      "source": [
        "We will now want to concatenate this data frame to the original."
      ]
    },
    {
      "cell_type": "code",
      "execution_count": null,
      "id": "uoLgWVHMbmhU",
      "metadata": {
        "id": "uoLgWVHMbmhU"
      },
      "outputs": [],
      "source": [
        "# concatenate the 2 dataframes, use axis=1 as we are merging with the columns -- this will work as the index matches\n",
        "reddit = pd.concat([reddit, sentiment_expanded], axis=1)"
      ]
    },
    {
      "cell_type": "code",
      "execution_count": null,
      "id": "z9eMTjkqbmjn",
      "metadata": {
        "colab": {
          "base_uri": "https://localhost:8080/",
          "height": 597
        },
        "id": "z9eMTjkqbmjn",
        "outputId": "0f41510c-882a-4a62-edfc-a1c43b8f96b3"
      },
      "outputs": [
        {
          "data": {
            "text/html": [
              "<div>\n",
              "<style scoped>\n",
              "    .dataframe tbody tr th:only-of-type {\n",
              "        vertical-align: middle;\n",
              "    }\n",
              "\n",
              "    .dataframe tbody tr th {\n",
              "        vertical-align: top;\n",
              "    }\n",
              "\n",
              "    .dataframe thead th {\n",
              "        text-align: right;\n",
              "    }\n",
              "</style>\n",
              "<table border=\"1\" class=\"dataframe\">\n",
              "  <thead>\n",
              "    <tr style=\"text-align: right;\">\n",
              "      <th></th>\n",
              "      <th>subreddit.name</th>\n",
              "      <th>body</th>\n",
              "      <th>sentiment</th>\n",
              "      <th>score</th>\n",
              "      <th>date_posted</th>\n",
              "      <th>cleaned_posts</th>\n",
              "      <th>vader</th>\n",
              "      <th>neg</th>\n",
              "      <th>neu</th>\n",
              "      <th>pos</th>\n",
              "      <th>compound</th>\n",
              "    </tr>\n",
              "  </thead>\n",
              "  <tbody>\n",
              "    <tr>\n",
              "      <th>0</th>\n",
              "      <td>valueinvesting</td>\n",
              "      <td>When TSLA was at 1K share price :\\n\\n8B sales/...</td>\n",
              "      <td>0.296</td>\n",
              "      <td>1</td>\n",
              "      <td>2022-07-04</td>\n",
              "      <td>tsla 1 thousandshare price 8 billionsales 1 bi...</td>\n",
              "      <td>{'neg': 0.0, 'neu': 0.833, 'pos': 0.167, 'comp...</td>\n",
              "      <td>0.000</td>\n",
              "      <td>0.833</td>\n",
              "      <td>0.167</td>\n",
              "      <td>0.2960</td>\n",
              "    </tr>\n",
              "    <tr>\n",
              "      <th>1</th>\n",
              "      <td>stocks</td>\n",
              "      <td>$TSLA will go down because you own the stock… ...</td>\n",
              "      <td>0.2136</td>\n",
              "      <td>1</td>\n",
              "      <td>2022-07-04</td>\n",
              "      <td>tsla go stock… best way make price go sell it…...</td>\n",
              "      <td>{'neg': 0.048, 'neu': 0.655, 'pos': 0.296, 'co...</td>\n",
              "      <td>0.048</td>\n",
              "      <td>0.655</td>\n",
              "      <td>0.296</td>\n",
              "      <td>0.8658</td>\n",
              "    </tr>\n",
              "    <tr>\n",
              "      <th>2</th>\n",
              "      <td>personalfinance</td>\n",
              "      <td>&amp;gt;What I mean is when I started investing, t...</td>\n",
              "      <td>0.7748</td>\n",
              "      <td>8</td>\n",
              "      <td>2022-07-04</td>\n",
              "      <td>gt mean started investing thats came highly re...</td>\n",
              "      <td>{'neg': 0.061, 'neu': 0.707, 'pos': 0.232, 'co...</td>\n",
              "      <td>0.061</td>\n",
              "      <td>0.707</td>\n",
              "      <td>0.232</td>\n",
              "      <td>0.6223</td>\n",
              "    </tr>\n",
              "    <tr>\n",
              "      <th>3</th>\n",
              "      <td>personalfinance</td>\n",
              "      <td>I do trade in some ETFs.. DIV, SDIV ; USOI (it...</td>\n",
              "      <td>-0.5062</td>\n",
              "      <td>-2</td>\n",
              "      <td>2022-07-04</td>\n",
              "      <td>trade etfs div sdiv usoi etn im real sure gut ...</td>\n",
              "      <td>{'neg': 0.087, 'neu': 0.807, 'pos': 0.107, 'co...</td>\n",
              "      <td>0.087</td>\n",
              "      <td>0.807</td>\n",
              "      <td>0.107</td>\n",
              "      <td>0.0772</td>\n",
              "    </tr>\n",
              "    <tr>\n",
              "      <th>4</th>\n",
              "      <td>wallstreetbets</td>\n",
              "      <td>I think macro runs coming up. Sell and wait fo...</td>\n",
              "      <td>-0.1531</td>\n",
              "      <td>1</td>\n",
              "      <td>2022-07-04</td>\n",
              "      <td>think macro runs coming sell wait big crash bu...</td>\n",
              "      <td>{'neg': 0.152, 'neu': 0.73, 'pos': 0.118, 'com...</td>\n",
              "      <td>0.152</td>\n",
              "      <td>0.730</td>\n",
              "      <td>0.118</td>\n",
              "      <td>-0.1531</td>\n",
              "    </tr>\n",
              "    <tr>\n",
              "      <th>...</th>\n",
              "      <td>...</td>\n",
              "      <td>...</td>\n",
              "      <td>...</td>\n",
              "      <td>...</td>\n",
              "      <td>...</td>\n",
              "      <td>...</td>\n",
              "      <td>...</td>\n",
              "      <td>...</td>\n",
              "      <td>...</td>\n",
              "      <td>...</td>\n",
              "      <td>...</td>\n",
              "    </tr>\n",
              "    <tr>\n",
              "      <th>197415</th>\n",
              "      <td>thetagang</td>\n",
              "      <td>Yeah like this week pretty much has nothing.  ...</td>\n",
              "      <td>0.9403</td>\n",
              "      <td>2</td>\n",
              "      <td>2021-07-05</td>\n",
              "      <td>yeah like week pretty much nothing cases try s...</td>\n",
              "      <td>{'neg': 0.069, 'neu': 0.494, 'pos': 0.437, 'co...</td>\n",
              "      <td>0.069</td>\n",
              "      <td>0.494</td>\n",
              "      <td>0.437</td>\n",
              "      <td>0.9169</td>\n",
              "    </tr>\n",
              "    <tr>\n",
              "      <th>197416</th>\n",
              "      <td>stocks</td>\n",
              "      <td>I invested with TSLA 2 years ago with this in ...</td>\n",
              "      <td>0.9239</td>\n",
              "      <td>34</td>\n",
              "      <td>2021-07-05</td>\n",
              "      <td>invested tsla 2 years ago mind year year expon...</td>\n",
              "      <td>{'neg': 0.0, 'neu': 0.682, 'pos': 0.318, 'comp...</td>\n",
              "      <td>0.000</td>\n",
              "      <td>0.682</td>\n",
              "      <td>0.318</td>\n",
              "      <td>0.9793</td>\n",
              "    </tr>\n",
              "    <tr>\n",
              "      <th>197417</th>\n",
              "      <td>valueinvesting</td>\n",
              "      <td>It was, at 1 point, $400/share. At $200, compa...</td>\n",
              "      <td>0.5544</td>\n",
              "      <td>4</td>\n",
              "      <td>2021-07-05</td>\n",
              "      <td>1 point 400 share 200 compared tsla outrageous...</td>\n",
              "      <td>{'neg': 0.114, 'neu': 0.722, 'pos': 0.163, 'co...</td>\n",
              "      <td>0.114</td>\n",
              "      <td>0.722</td>\n",
              "      <td>0.163</td>\n",
              "      <td>0.0772</td>\n",
              "    </tr>\n",
              "    <tr>\n",
              "      <th>197418</th>\n",
              "      <td>wallstreetbets</td>\n",
              "      <td>Guy taking 2nd mortgage for MU 90 calls. Other...</td>\n",
              "      <td>-0.6486</td>\n",
              "      <td>19</td>\n",
              "      <td>2021-07-05</td>\n",
              "      <td>guy taking 2nd mortgage mu 90 calls degenerate...</td>\n",
              "      <td>{'neg': 0.202, 'neu': 0.798, 'pos': 0.0, 'comp...</td>\n",
              "      <td>0.202</td>\n",
              "      <td>0.798</td>\n",
              "      <td>0.000</td>\n",
              "      <td>-0.6486</td>\n",
              "    </tr>\n",
              "    <tr>\n",
              "      <th>197419</th>\n",
              "      <td>personalfinancecanada</td>\n",
              "      <td>I think you're correct on the TCO still being ...</td>\n",
              "      <td>-0.2023</td>\n",
              "      <td>3</td>\n",
              "      <td>2021-07-05</td>\n",
              "      <td>think youre correct tco still favour ice im go...</td>\n",
              "      <td>{'neg': 0.075, 'neu': 0.77, 'pos': 0.155, 'com...</td>\n",
              "      <td>0.075</td>\n",
              "      <td>0.770</td>\n",
              "      <td>0.155</td>\n",
              "      <td>0.7096</td>\n",
              "    </tr>\n",
              "  </tbody>\n",
              "</table>\n",
              "<p>197420 rows × 11 columns</p>\n",
              "</div>"
            ],
            "text/plain": [
              "               subreddit.name  \\\n",
              "0              valueinvesting   \n",
              "1                      stocks   \n",
              "2             personalfinance   \n",
              "3             personalfinance   \n",
              "4              wallstreetbets   \n",
              "...                       ...   \n",
              "197415              thetagang   \n",
              "197416                 stocks   \n",
              "197417         valueinvesting   \n",
              "197418         wallstreetbets   \n",
              "197419  personalfinancecanada   \n",
              "\n",
              "                                                     body sentiment score  \\\n",
              "0       When TSLA was at 1K share price :\\n\\n8B sales/...     0.296     1   \n",
              "1       $TSLA will go down because you own the stock… ...    0.2136     1   \n",
              "2       &gt;What I mean is when I started investing, t...    0.7748     8   \n",
              "3       I do trade in some ETFs.. DIV, SDIV ; USOI (it...   -0.5062    -2   \n",
              "4       I think macro runs coming up. Sell and wait fo...   -0.1531     1   \n",
              "...                                                   ...       ...   ...   \n",
              "197415  Yeah like this week pretty much has nothing.  ...    0.9403     2   \n",
              "197416  I invested with TSLA 2 years ago with this in ...    0.9239    34   \n",
              "197417  It was, at 1 point, $400/share. At $200, compa...    0.5544     4   \n",
              "197418  Guy taking 2nd mortgage for MU 90 calls. Other...   -0.6486    19   \n",
              "197419  I think you're correct on the TCO still being ...   -0.2023     3   \n",
              "\n",
              "       date_posted                                      cleaned_posts  \\\n",
              "0       2022-07-04  tsla 1 thousandshare price 8 billionsales 1 bi...   \n",
              "1       2022-07-04  tsla go stock… best way make price go sell it…...   \n",
              "2       2022-07-04  gt mean started investing thats came highly re...   \n",
              "3       2022-07-04  trade etfs div sdiv usoi etn im real sure gut ...   \n",
              "4       2022-07-04  think macro runs coming sell wait big crash bu...   \n",
              "...            ...                                                ...   \n",
              "197415  2021-07-05  yeah like week pretty much nothing cases try s...   \n",
              "197416  2021-07-05  invested tsla 2 years ago mind year year expon...   \n",
              "197417  2021-07-05  1 point 400 share 200 compared tsla outrageous...   \n",
              "197418  2021-07-05  guy taking 2nd mortgage mu 90 calls degenerate...   \n",
              "197419  2021-07-05  think youre correct tco still favour ice im go...   \n",
              "\n",
              "                                                    vader    neg    neu  \\\n",
              "0       {'neg': 0.0, 'neu': 0.833, 'pos': 0.167, 'comp...  0.000  0.833   \n",
              "1       {'neg': 0.048, 'neu': 0.655, 'pos': 0.296, 'co...  0.048  0.655   \n",
              "2       {'neg': 0.061, 'neu': 0.707, 'pos': 0.232, 'co...  0.061  0.707   \n",
              "3       {'neg': 0.087, 'neu': 0.807, 'pos': 0.107, 'co...  0.087  0.807   \n",
              "4       {'neg': 0.152, 'neu': 0.73, 'pos': 0.118, 'com...  0.152  0.730   \n",
              "...                                                   ...    ...    ...   \n",
              "197415  {'neg': 0.069, 'neu': 0.494, 'pos': 0.437, 'co...  0.069  0.494   \n",
              "197416  {'neg': 0.0, 'neu': 0.682, 'pos': 0.318, 'comp...  0.000  0.682   \n",
              "197417  {'neg': 0.114, 'neu': 0.722, 'pos': 0.163, 'co...  0.114  0.722   \n",
              "197418  {'neg': 0.202, 'neu': 0.798, 'pos': 0.0, 'comp...  0.202  0.798   \n",
              "197419  {'neg': 0.075, 'neu': 0.77, 'pos': 0.155, 'com...  0.075  0.770   \n",
              "\n",
              "          pos  compound  \n",
              "0       0.167    0.2960  \n",
              "1       0.296    0.8658  \n",
              "2       0.232    0.6223  \n",
              "3       0.107    0.0772  \n",
              "4       0.118   -0.1531  \n",
              "...       ...       ...  \n",
              "197415  0.437    0.9169  \n",
              "197416  0.318    0.9793  \n",
              "197417  0.163    0.0772  \n",
              "197418  0.000   -0.6486  \n",
              "197419  0.155    0.7096  \n",
              "\n",
              "[197420 rows x 11 columns]"
            ]
          },
          "execution_count": 72,
          "metadata": {},
          "output_type": "execute_result"
        }
      ],
      "source": [
        "reddit"
      ]
    },
    {
      "cell_type": "code",
      "execution_count": null,
      "id": "9k2QMcTgbml7",
      "metadata": {
        "id": "9k2QMcTgbml7"
      },
      "outputs": [],
      "source": [
        "# drop the original vader column\n",
        "reddit = reddit.drop(columns = 'vader')"
      ]
    },
    {
      "cell_type": "code",
      "execution_count": null,
      "id": "Fe2K3UcibmoX",
      "metadata": {
        "colab": {
          "base_uri": "https://localhost:8080/",
          "height": 424
        },
        "id": "Fe2K3UcibmoX",
        "outputId": "09441413-fec7-4744-b98c-c87c3be07fa8"
      },
      "outputs": [
        {
          "data": {
            "text/html": [
              "<div>\n",
              "<style scoped>\n",
              "    .dataframe tbody tr th:only-of-type {\n",
              "        vertical-align: middle;\n",
              "    }\n",
              "\n",
              "    .dataframe tbody tr th {\n",
              "        vertical-align: top;\n",
              "    }\n",
              "\n",
              "    .dataframe thead th {\n",
              "        text-align: right;\n",
              "    }\n",
              "</style>\n",
              "<table border=\"1\" class=\"dataframe\">\n",
              "  <thead>\n",
              "    <tr style=\"text-align: right;\">\n",
              "      <th></th>\n",
              "      <th>subreddit.name</th>\n",
              "      <th>body</th>\n",
              "      <th>sentiment</th>\n",
              "      <th>score</th>\n",
              "      <th>date_posted</th>\n",
              "      <th>cleaned_posts</th>\n",
              "      <th>neg</th>\n",
              "      <th>neu</th>\n",
              "      <th>pos</th>\n",
              "      <th>compound</th>\n",
              "    </tr>\n",
              "  </thead>\n",
              "  <tbody>\n",
              "    <tr>\n",
              "      <th>0</th>\n",
              "      <td>valueinvesting</td>\n",
              "      <td>When TSLA was at 1K share price :\\n\\n8B sales/...</td>\n",
              "      <td>0.296</td>\n",
              "      <td>1</td>\n",
              "      <td>2022-07-04</td>\n",
              "      <td>tsla 1 thousandshare price 8 billionsales 1 bi...</td>\n",
              "      <td>0.000</td>\n",
              "      <td>0.833</td>\n",
              "      <td>0.167</td>\n",
              "      <td>0.2960</td>\n",
              "    </tr>\n",
              "    <tr>\n",
              "      <th>1</th>\n",
              "      <td>stocks</td>\n",
              "      <td>$TSLA will go down because you own the stock… ...</td>\n",
              "      <td>0.2136</td>\n",
              "      <td>1</td>\n",
              "      <td>2022-07-04</td>\n",
              "      <td>tsla go stock… best way make price go sell it…...</td>\n",
              "      <td>0.048</td>\n",
              "      <td>0.655</td>\n",
              "      <td>0.296</td>\n",
              "      <td>0.8658</td>\n",
              "    </tr>\n",
              "    <tr>\n",
              "      <th>2</th>\n",
              "      <td>personalfinance</td>\n",
              "      <td>&amp;gt;What I mean is when I started investing, t...</td>\n",
              "      <td>0.7748</td>\n",
              "      <td>8</td>\n",
              "      <td>2022-07-04</td>\n",
              "      <td>gt mean started investing thats came highly re...</td>\n",
              "      <td>0.061</td>\n",
              "      <td>0.707</td>\n",
              "      <td>0.232</td>\n",
              "      <td>0.6223</td>\n",
              "    </tr>\n",
              "    <tr>\n",
              "      <th>3</th>\n",
              "      <td>personalfinance</td>\n",
              "      <td>I do trade in some ETFs.. DIV, SDIV ; USOI (it...</td>\n",
              "      <td>-0.5062</td>\n",
              "      <td>-2</td>\n",
              "      <td>2022-07-04</td>\n",
              "      <td>trade etfs div sdiv usoi etn im real sure gut ...</td>\n",
              "      <td>0.087</td>\n",
              "      <td>0.807</td>\n",
              "      <td>0.107</td>\n",
              "      <td>0.0772</td>\n",
              "    </tr>\n",
              "    <tr>\n",
              "      <th>4</th>\n",
              "      <td>wallstreetbets</td>\n",
              "      <td>I think macro runs coming up. Sell and wait fo...</td>\n",
              "      <td>-0.1531</td>\n",
              "      <td>1</td>\n",
              "      <td>2022-07-04</td>\n",
              "      <td>think macro runs coming sell wait big crash bu...</td>\n",
              "      <td>0.152</td>\n",
              "      <td>0.730</td>\n",
              "      <td>0.118</td>\n",
              "      <td>-0.1531</td>\n",
              "    </tr>\n",
              "    <tr>\n",
              "      <th>...</th>\n",
              "      <td>...</td>\n",
              "      <td>...</td>\n",
              "      <td>...</td>\n",
              "      <td>...</td>\n",
              "      <td>...</td>\n",
              "      <td>...</td>\n",
              "      <td>...</td>\n",
              "      <td>...</td>\n",
              "      <td>...</td>\n",
              "      <td>...</td>\n",
              "    </tr>\n",
              "    <tr>\n",
              "      <th>197415</th>\n",
              "      <td>thetagang</td>\n",
              "      <td>Yeah like this week pretty much has nothing.  ...</td>\n",
              "      <td>0.9403</td>\n",
              "      <td>2</td>\n",
              "      <td>2021-07-05</td>\n",
              "      <td>yeah like week pretty much nothing cases try s...</td>\n",
              "      <td>0.069</td>\n",
              "      <td>0.494</td>\n",
              "      <td>0.437</td>\n",
              "      <td>0.9169</td>\n",
              "    </tr>\n",
              "    <tr>\n",
              "      <th>197416</th>\n",
              "      <td>stocks</td>\n",
              "      <td>I invested with TSLA 2 years ago with this in ...</td>\n",
              "      <td>0.9239</td>\n",
              "      <td>34</td>\n",
              "      <td>2021-07-05</td>\n",
              "      <td>invested tsla 2 years ago mind year year expon...</td>\n",
              "      <td>0.000</td>\n",
              "      <td>0.682</td>\n",
              "      <td>0.318</td>\n",
              "      <td>0.9793</td>\n",
              "    </tr>\n",
              "    <tr>\n",
              "      <th>197417</th>\n",
              "      <td>valueinvesting</td>\n",
              "      <td>It was, at 1 point, $400/share. At $200, compa...</td>\n",
              "      <td>0.5544</td>\n",
              "      <td>4</td>\n",
              "      <td>2021-07-05</td>\n",
              "      <td>1 point 400 share 200 compared tsla outrageous...</td>\n",
              "      <td>0.114</td>\n",
              "      <td>0.722</td>\n",
              "      <td>0.163</td>\n",
              "      <td>0.0772</td>\n",
              "    </tr>\n",
              "    <tr>\n",
              "      <th>197418</th>\n",
              "      <td>wallstreetbets</td>\n",
              "      <td>Guy taking 2nd mortgage for MU 90 calls. Other...</td>\n",
              "      <td>-0.6486</td>\n",
              "      <td>19</td>\n",
              "      <td>2021-07-05</td>\n",
              "      <td>guy taking 2nd mortgage mu 90 calls degenerate...</td>\n",
              "      <td>0.202</td>\n",
              "      <td>0.798</td>\n",
              "      <td>0.000</td>\n",
              "      <td>-0.6486</td>\n",
              "    </tr>\n",
              "    <tr>\n",
              "      <th>197419</th>\n",
              "      <td>personalfinancecanada</td>\n",
              "      <td>I think you're correct on the TCO still being ...</td>\n",
              "      <td>-0.2023</td>\n",
              "      <td>3</td>\n",
              "      <td>2021-07-05</td>\n",
              "      <td>think youre correct tco still favour ice im go...</td>\n",
              "      <td>0.075</td>\n",
              "      <td>0.770</td>\n",
              "      <td>0.155</td>\n",
              "      <td>0.7096</td>\n",
              "    </tr>\n",
              "  </tbody>\n",
              "</table>\n",
              "<p>197420 rows × 10 columns</p>\n",
              "</div>"
            ],
            "text/plain": [
              "               subreddit.name  \\\n",
              "0              valueinvesting   \n",
              "1                      stocks   \n",
              "2             personalfinance   \n",
              "3             personalfinance   \n",
              "4              wallstreetbets   \n",
              "...                       ...   \n",
              "197415              thetagang   \n",
              "197416                 stocks   \n",
              "197417         valueinvesting   \n",
              "197418         wallstreetbets   \n",
              "197419  personalfinancecanada   \n",
              "\n",
              "                                                     body sentiment score  \\\n",
              "0       When TSLA was at 1K share price :\\n\\n8B sales/...     0.296     1   \n",
              "1       $TSLA will go down because you own the stock… ...    0.2136     1   \n",
              "2       &gt;What I mean is when I started investing, t...    0.7748     8   \n",
              "3       I do trade in some ETFs.. DIV, SDIV ; USOI (it...   -0.5062    -2   \n",
              "4       I think macro runs coming up. Sell and wait fo...   -0.1531     1   \n",
              "...                                                   ...       ...   ...   \n",
              "197415  Yeah like this week pretty much has nothing.  ...    0.9403     2   \n",
              "197416  I invested with TSLA 2 years ago with this in ...    0.9239    34   \n",
              "197417  It was, at 1 point, $400/share. At $200, compa...    0.5544     4   \n",
              "197418  Guy taking 2nd mortgage for MU 90 calls. Other...   -0.6486    19   \n",
              "197419  I think you're correct on the TCO still being ...   -0.2023     3   \n",
              "\n",
              "       date_posted                                      cleaned_posts    neg  \\\n",
              "0       2022-07-04  tsla 1 thousandshare price 8 billionsales 1 bi...  0.000   \n",
              "1       2022-07-04  tsla go stock… best way make price go sell it…...  0.048   \n",
              "2       2022-07-04  gt mean started investing thats came highly re...  0.061   \n",
              "3       2022-07-04  trade etfs div sdiv usoi etn im real sure gut ...  0.087   \n",
              "4       2022-07-04  think macro runs coming sell wait big crash bu...  0.152   \n",
              "...            ...                                                ...    ...   \n",
              "197415  2021-07-05  yeah like week pretty much nothing cases try s...  0.069   \n",
              "197416  2021-07-05  invested tsla 2 years ago mind year year expon...  0.000   \n",
              "197417  2021-07-05  1 point 400 share 200 compared tsla outrageous...  0.114   \n",
              "197418  2021-07-05  guy taking 2nd mortgage mu 90 calls degenerate...  0.202   \n",
              "197419  2021-07-05  think youre correct tco still favour ice im go...  0.075   \n",
              "\n",
              "          neu    pos  compound  \n",
              "0       0.833  0.167    0.2960  \n",
              "1       0.655  0.296    0.8658  \n",
              "2       0.707  0.232    0.6223  \n",
              "3       0.807  0.107    0.0772  \n",
              "4       0.730  0.118   -0.1531  \n",
              "...       ...    ...       ...  \n",
              "197415  0.494  0.437    0.9169  \n",
              "197416  0.682  0.318    0.9793  \n",
              "197417  0.722  0.163    0.0772  \n",
              "197418  0.798  0.000   -0.6486  \n",
              "197419  0.770  0.155    0.7096  \n",
              "\n",
              "[197420 rows x 10 columns]"
            ]
          },
          "execution_count": 74,
          "metadata": {},
          "output_type": "execute_result"
        }
      ],
      "source": [
        "reddit"
      ]
    },
    {
      "cell_type": "code",
      "execution_count": null,
      "id": "f320e307",
      "metadata": {
        "id": "f320e307",
        "outputId": "79cb5eb3-988f-4810-840c-4283ca202cba"
      },
      "outputs": [
        {
          "name": "stdout",
          "output_type": "stream",
          "text": [
            "<class 'pandas.core.frame.DataFrame'>\n",
            "RangeIndex: 197420 entries, 0 to 197419\n",
            "Data columns (total 10 columns):\n",
            " #   Column          Non-Null Count   Dtype         \n",
            "---  ------          --------------   -----         \n",
            " 0   subreddit.name  197414 non-null  object        \n",
            " 1   body            197414 non-null  object        \n",
            " 2   sentiment       197413 non-null  object        \n",
            " 3   score           197413 non-null  object        \n",
            " 4   date_posted     197412 non-null  datetime64[ns]\n",
            " 5   cleaned_posts   197411 non-null  object        \n",
            " 6   neg             197420 non-null  float64       \n",
            " 7   neu             197420 non-null  float64       \n",
            " 8   pos             197420 non-null  float64       \n",
            " 9   compound        197420 non-null  float64       \n",
            "dtypes: datetime64[ns](1), float64(4), object(5)\n",
            "memory usage: 15.1+ MB\n"
          ]
        }
      ],
      "source": [
        "# check to see what the data stored in sentiment is?\n",
        "reddit.info()"
      ]
    },
    {
      "cell_type": "markdown",
      "id": "c29acf46",
      "metadata": {
        "id": "c29acf46"
      },
      "source": [
        "We can see that the sentiment is actually type object. This needs to be converted to float for comparisons.\\\n",
        "***Note:*** sentiment has a lot of different data stored, could not convert because it had a date stored."
      ]
    },
    {
      "cell_type": "code",
      "execution_count": null,
      "id": "94927fd9",
      "metadata": {
        "id": "94927fd9"
      },
      "outputs": [],
      "source": [
        "# to convert the column to numeric without errors, this is used if there is unsupported formats in the columns\n",
        "# errors='coerce' will convert those weird formats to NaN\n",
        "reddit['sentiment'] = pd.to_numeric(reddit['sentiment'], errors='coerce')\n",
        "\n",
        "# reddit['sentiment']=reddit['sentiment'].astype(float) -- error as there are differnt formats of text in the column"
      ]
    },
    {
      "cell_type": "code",
      "execution_count": null,
      "id": "01d0d869",
      "metadata": {
        "id": "01d0d869",
        "outputId": "c31eadfd-f05f-4f9c-bbfc-1a864378e7d8"
      },
      "outputs": [
        {
          "data": {
            "text/plain": [
              "subreddit.name    6\n",
              "body              6\n",
              "sentiment         8\n",
              "score             7\n",
              "date_posted       8\n",
              "cleaned_posts     9\n",
              "neg               0\n",
              "neu               0\n",
              "pos               0\n",
              "compound          0\n",
              "dtype: int64"
            ]
          },
          "execution_count": 77,
          "metadata": {},
          "output_type": "execute_result"
        }
      ],
      "source": [
        "reddit.isnull().sum()"
      ]
    },
    {
      "cell_type": "markdown",
      "id": "2d25999d",
      "metadata": {
        "id": "2d25999d"
      },
      "source": [
        "We can see there are several null values now. We are only interested in the sentiment for now, we will fill the nulls with the median value."
      ]
    },
    {
      "cell_type": "code",
      "execution_count": null,
      "id": "c57da3ef",
      "metadata": {
        "id": "c57da3ef",
        "outputId": "d22e0c47-9768-4f9c-832c-12ce73887365"
      },
      "outputs": [
        {
          "data": {
            "image/png": "[encoded data removed]",
            "text/plain": [
              "<Figure size 800x500 with 1 Axes>"
            ]
          },
          "metadata": {},
          "output_type": "display_data"
        }
      ],
      "source": [
        "# sentiment distribution\n",
        "plt.figure(figsize=(8,5))\n",
        "plt.axvline(reddit.sentiment.median(), c='red', ls='--')\n",
        "plt.hist(reddit['sentiment'])\n",
        "plt.title('Sentiment score Histogram')\n",
        "plt.show()"
      ]
    },
    {
      "cell_type": "code",
      "execution_count": null,
      "id": "eef64b11",
      "metadata": {
        "id": "eef64b11"
      },
      "outputs": [],
      "source": [
        "# fill the null values in teh sentiment score with median\n",
        "reddit.sentiment = reddit.sentiment.fillna(reddit.sentiment.median())"
      ]
    },
    {
      "cell_type": "code",
      "execution_count": null,
      "id": "486da9d1",
      "metadata": {
        "id": "486da9d1",
        "outputId": "1179025d-7a4d-41bd-ab46-176ec365ba6f"
      },
      "outputs": [
        {
          "data": {
            "text/plain": [
              "subreddit.name    6\n",
              "body              6\n",
              "sentiment         0\n",
              "score             7\n",
              "date_posted       8\n",
              "cleaned_posts     9\n",
              "neg               0\n",
              "neu               0\n",
              "pos               0\n",
              "compound          0\n",
              "dtype: int64"
            ]
          },
          "execution_count": 80,
          "metadata": {},
          "output_type": "execute_result"
        }
      ],
      "source": [
        "# check to see if the sentiment null values are filled.\n",
        "reddit.isnull().sum()"
      ]
    },
    {
      "cell_type": "markdown",
      "id": "7720841c",
      "metadata": {
        "id": "7720841c"
      },
      "source": [
        "We can compare how our new sentiment (VADER) scoring compares -- `compound`."
      ]
    },
    {
      "cell_type": "code",
      "execution_count": null,
      "id": "bb4fbcc5",
      "metadata": {
        "id": "bb4fbcc5",
        "outputId": "f907ea0a-919b-4576-be51-c93f038ba086"
      },
      "outputs": [
        {
          "data": {
            "text/plain": [
              "1    109459\n",
              "0     87961\n",
              "Name: compare_sentiment, dtype: int64"
            ]
          },
          "execution_count": 81,
          "metadata": {},
          "output_type": "execute_result"
        }
      ],
      "source": [
        "# create a new column to compare the new sentiment 'compound' to the pretrained sentiment\n",
        "reddit['compare_sentiment'] = np.where(reddit['sentiment'] == reddit['compound'], 1, 0)\n",
        "reddit['compare_sentiment'].value_counts()"
      ]
    },
    {
      "cell_type": "code",
      "execution_count": null,
      "id": "256b7a18",
      "metadata": {
        "id": "256b7a18",
        "outputId": "fff70ccd-58d7-4f82-d6f4-c22647691861"
      },
      "outputs": [
        {
          "data": {
            "image/png": "[encoded data removed]",
            "text/plain": [
              "<Figure size 640x480 with 1 Axes>"
            ]
          },
          "metadata": {},
          "output_type": "display_data"
        }
      ],
      "source": [
        "reddit['compare_sentiment'].value_counts(normalize=True).plot(kind='bar', color='cornflowerblue')\n",
        "plt.title(\"Compare VADER sentiment to Pre-trained Sentiment\")\n",
        "plt.ylabel('%')\n",
        "\n",
        "plt.show()"
      ]
    },
    {
      "cell_type": "markdown",
      "id": "e91ff0d4",
      "metadata": {
        "id": "e91ff0d4"
      },
      "source": [
        "We can see that the VADER model predicted well. More than 50% accurate to the pre-trained model. This variance can be from differing float values. We can run the analysis by binarizing the two columns and then re-run the check."
      ]
    },
    {
      "cell_type": "code",
      "execution_count": null,
      "id": "ad6a1555",
      "metadata": {
        "id": "ad6a1555",
        "outputId": "b01c74d5-4f3b-419e-f8a6-9f70829988a4"
      },
      "outputs": [
        {
          "data": {
            "text/plain": [
              "1    182119\n",
              "0     15301\n",
              "Name: compare_sentiment_test_2, dtype: int64"
            ]
          },
          "execution_count": 83,
          "metadata": {},
          "output_type": "execute_result"
        }
      ],
      "source": [
        "# re-run the test with integers\n",
        "# create new testing columns and binarize the compound and sentiment columns to compare their performance with eachother\n",
        "reddit['int_compound'] = np.where(reddit['compound']>0,1,0)\n",
        "reddit['int_sentiment'] = np.where(reddit['sentiment']>0,1,0)\n",
        "reddit['compare_sentiment_test_2'] = np.where(reddit['int_sentiment'] == reddit['int_compound'], 1, 0)\n",
        "reddit['compare_sentiment_test_2'].value_counts()"
      ]
    },
    {
      "cell_type": "code",
      "execution_count": null,
      "id": "9f2e012e",
      "metadata": {
        "id": "9f2e012e",
        "outputId": "cf8121ed-1954-4326-95e6-ce4973bf55cc"
      },
      "outputs": [
        {
          "data": {
            "image/png": "[encoded data removed]",
            "text/plain": [
              "<Figure size 640x480 with 1 Axes>"
            ]
          },
          "metadata": {},
          "output_type": "display_data"
        }
      ],
      "source": [
        "reddit['compare_sentiment_test_2'].value_counts(normalize=True).plot(kind='bar', color='cornflowerblue')\n",
        "plt.title(\"Compare VADER sentiment to Pre-trained Sentiment (Run 2)\")\n",
        "plt.ylabel('%')\n",
        "\n",
        "plt.show()"
      ]
    },
    {
      "cell_type": "markdown",
      "id": "4f13ebc8",
      "metadata": {
        "id": "4f13ebc8"
      },
      "source": [
        "When we take away the variance from floats -- we are comparing positive sentiment (>0) and negative (<=0). We binarized the columns and now we can see that our VADER model predicted very well. We can see we captured the positive and negative sentiment really well. Therefore we will keep the VADER scores and drop the `sentiment` column as they are essentially capturing the same data. We will also drop all the remaining unneeded columns."
      ]
    },
    {
      "cell_type": "code",
      "execution_count": null,
      "id": "fKTd6jF3en3W",
      "metadata": {
        "id": "fKTd6jF3en3W"
      },
      "outputs": [],
      "source": [
        "reddit.head(2)\n",
        "\n",
        "#drop columns that we are not interested in -- sentiment, body, compare_setiment, compare_sentiment_test_2, int_compound, int_sentiment\n",
        "reddit = reddit.drop(columns=['sentiment', 'body', 'compare_sentiment', 'compare_sentiment_test_2', 'int_compound', 'int_sentiment'])"
      ]
    },
    {
      "cell_type": "code",
      "execution_count": null,
      "id": "svSMSSBjen78",
      "metadata": {
        "colab": {
          "base_uri": "https://localhost:8080/",
          "height": 424
        },
        "id": "svSMSSBjen78",
        "outputId": "923b6a91-107d-4d12-f477-def87745008f"
      },
      "outputs": [
        {
          "data": {
            "text/html": [
              "<div>\n",
              "<style scoped>\n",
              "    .dataframe tbody tr th:only-of-type {\n",
              "        vertical-align: middle;\n",
              "    }\n",
              "\n",
              "    .dataframe tbody tr th {\n",
              "        vertical-align: top;\n",
              "    }\n",
              "\n",
              "    .dataframe thead th {\n",
              "        text-align: right;\n",
              "    }\n",
              "</style>\n",
              "<table border=\"1\" class=\"dataframe\">\n",
              "  <thead>\n",
              "    <tr style=\"text-align: right;\">\n",
              "      <th></th>\n",
              "      <th>subreddit.name</th>\n",
              "      <th>score</th>\n",
              "      <th>date_posted</th>\n",
              "      <th>cleaned_posts</th>\n",
              "      <th>neg</th>\n",
              "      <th>neu</th>\n",
              "      <th>pos</th>\n",
              "      <th>compound</th>\n",
              "    </tr>\n",
              "  </thead>\n",
              "  <tbody>\n",
              "    <tr>\n",
              "      <th>0</th>\n",
              "      <td>valueinvesting</td>\n",
              "      <td>1</td>\n",
              "      <td>2022-07-04</td>\n",
              "      <td>tsla 1 thousandshare price 8 billionsales 1 bi...</td>\n",
              "      <td>0.000</td>\n",
              "      <td>0.833</td>\n",
              "      <td>0.167</td>\n",
              "      <td>0.2960</td>\n",
              "    </tr>\n",
              "    <tr>\n",
              "      <th>1</th>\n",
              "      <td>stocks</td>\n",
              "      <td>1</td>\n",
              "      <td>2022-07-04</td>\n",
              "      <td>tsla go stock… best way make price go sell it…...</td>\n",
              "      <td>0.048</td>\n",
              "      <td>0.655</td>\n",
              "      <td>0.296</td>\n",
              "      <td>0.8658</td>\n",
              "    </tr>\n",
              "    <tr>\n",
              "      <th>2</th>\n",
              "      <td>personalfinance</td>\n",
              "      <td>8</td>\n",
              "      <td>2022-07-04</td>\n",
              "      <td>gt mean started investing thats came highly re...</td>\n",
              "      <td>0.061</td>\n",
              "      <td>0.707</td>\n",
              "      <td>0.232</td>\n",
              "      <td>0.6223</td>\n",
              "    </tr>\n",
              "    <tr>\n",
              "      <th>3</th>\n",
              "      <td>personalfinance</td>\n",
              "      <td>-2</td>\n",
              "      <td>2022-07-04</td>\n",
              "      <td>trade etfs div sdiv usoi etn im real sure gut ...</td>\n",
              "      <td>0.087</td>\n",
              "      <td>0.807</td>\n",
              "      <td>0.107</td>\n",
              "      <td>0.0772</td>\n",
              "    </tr>\n",
              "    <tr>\n",
              "      <th>4</th>\n",
              "      <td>wallstreetbets</td>\n",
              "      <td>1</td>\n",
              "      <td>2022-07-04</td>\n",
              "      <td>think macro runs coming sell wait big crash bu...</td>\n",
              "      <td>0.152</td>\n",
              "      <td>0.730</td>\n",
              "      <td>0.118</td>\n",
              "      <td>-0.1531</td>\n",
              "    </tr>\n",
              "    <tr>\n",
              "      <th>...</th>\n",
              "      <td>...</td>\n",
              "      <td>...</td>\n",
              "      <td>...</td>\n",
              "      <td>...</td>\n",
              "      <td>...</td>\n",
              "      <td>...</td>\n",
              "      <td>...</td>\n",
              "      <td>...</td>\n",
              "    </tr>\n",
              "    <tr>\n",
              "      <th>197415</th>\n",
              "      <td>thetagang</td>\n",
              "      <td>2</td>\n",
              "      <td>2021-07-05</td>\n",
              "      <td>yeah like week pretty much nothing cases try s...</td>\n",
              "      <td>0.069</td>\n",
              "      <td>0.494</td>\n",
              "      <td>0.437</td>\n",
              "      <td>0.9169</td>\n",
              "    </tr>\n",
              "    <tr>\n",
              "      <th>197416</th>\n",
              "      <td>stocks</td>\n",
              "      <td>34</td>\n",
              "      <td>2021-07-05</td>\n",
              "      <td>invested tsla 2 years ago mind year year expon...</td>\n",
              "      <td>0.000</td>\n",
              "      <td>0.682</td>\n",
              "      <td>0.318</td>\n",
              "      <td>0.9793</td>\n",
              "    </tr>\n",
              "    <tr>\n",
              "      <th>197417</th>\n",
              "      <td>valueinvesting</td>\n",
              "      <td>4</td>\n",
              "      <td>2021-07-05</td>\n",
              "      <td>1 point 400 share 200 compared tsla outrageous...</td>\n",
              "      <td>0.114</td>\n",
              "      <td>0.722</td>\n",
              "      <td>0.163</td>\n",
              "      <td>0.0772</td>\n",
              "    </tr>\n",
              "    <tr>\n",
              "      <th>197418</th>\n",
              "      <td>wallstreetbets</td>\n",
              "      <td>19</td>\n",
              "      <td>2021-07-05</td>\n",
              "      <td>guy taking 2nd mortgage mu 90 calls degenerate...</td>\n",
              "      <td>0.202</td>\n",
              "      <td>0.798</td>\n",
              "      <td>0.000</td>\n",
              "      <td>-0.6486</td>\n",
              "    </tr>\n",
              "    <tr>\n",
              "      <th>197419</th>\n",
              "      <td>personalfinancecanada</td>\n",
              "      <td>3</td>\n",
              "      <td>2021-07-05</td>\n",
              "      <td>think youre correct tco still favour ice im go...</td>\n",
              "      <td>0.075</td>\n",
              "      <td>0.770</td>\n",
              "      <td>0.155</td>\n",
              "      <td>0.7096</td>\n",
              "    </tr>\n",
              "  </tbody>\n",
              "</table>\n",
              "<p>197420 rows × 8 columns</p>\n",
              "</div>"
            ],
            "text/plain": [
              "               subreddit.name score date_posted  \\\n",
              "0              valueinvesting     1  2022-07-04   \n",
              "1                      stocks     1  2022-07-04   \n",
              "2             personalfinance     8  2022-07-04   \n",
              "3             personalfinance    -2  2022-07-04   \n",
              "4              wallstreetbets     1  2022-07-04   \n",
              "...                       ...   ...         ...   \n",
              "197415              thetagang     2  2021-07-05   \n",
              "197416                 stocks    34  2021-07-05   \n",
              "197417         valueinvesting     4  2021-07-05   \n",
              "197418         wallstreetbets    19  2021-07-05   \n",
              "197419  personalfinancecanada     3  2021-07-05   \n",
              "\n",
              "                                            cleaned_posts    neg    neu  \\\n",
              "0       tsla 1 thousandshare price 8 billionsales 1 bi...  0.000  0.833   \n",
              "1       tsla go stock… best way make price go sell it…...  0.048  0.655   \n",
              "2       gt mean started investing thats came highly re...  0.061  0.707   \n",
              "3       trade etfs div sdiv usoi etn im real sure gut ...  0.087  0.807   \n",
              "4       think macro runs coming sell wait big crash bu...  0.152  0.730   \n",
              "...                                                   ...    ...    ...   \n",
              "197415  yeah like week pretty much nothing cases try s...  0.069  0.494   \n",
              "197416  invested tsla 2 years ago mind year year expon...  0.000  0.682   \n",
              "197417  1 point 400 share 200 compared tsla outrageous...  0.114  0.722   \n",
              "197418  guy taking 2nd mortgage mu 90 calls degenerate...  0.202  0.798   \n",
              "197419  think youre correct tco still favour ice im go...  0.075  0.770   \n",
              "\n",
              "          pos  compound  \n",
              "0       0.167    0.2960  \n",
              "1       0.296    0.8658  \n",
              "2       0.232    0.6223  \n",
              "3       0.107    0.0772  \n",
              "4       0.118   -0.1531  \n",
              "...       ...       ...  \n",
              "197415  0.437    0.9169  \n",
              "197416  0.318    0.9793  \n",
              "197417  0.163    0.0772  \n",
              "197418  0.000   -0.6486  \n",
              "197419  0.155    0.7096  \n",
              "\n",
              "[197420 rows x 8 columns]"
            ]
          },
          "execution_count": 86,
          "metadata": {},
          "output_type": "execute_result"
        }
      ],
      "source": [
        "reddit"
      ]
    },
    {
      "cell_type": "markdown",
      "id": "k7MNuWR1erfk",
      "metadata": {
        "id": "k7MNuWR1erfk"
      },
      "source": [
        "It is interesting to see how the sentiment is added to create the compound score. We are interested in the compound and the score. The score will be used as a multiplier to weigh the sentiment based on how influential the comment/post was -- this will technically have a stronger predictive power on the stock movement."
      ]
    },
    {
      "cell_type": "code",
      "execution_count": null,
      "id": "P44CvYXBgsbl",
      "metadata": {
        "colab": {
          "base_uri": "https://localhost:8080/"
        },
        "id": "P44CvYXBgsbl",
        "outputId": "54656662-1db7-431e-be5d-05090e8a73bf"
      },
      "outputs": [
        {
          "data": {
            "text/plain": [
              "subreddit.name    6\n",
              "score             7\n",
              "date_posted       8\n",
              "cleaned_posts     9\n",
              "neg               0\n",
              "neu               0\n",
              "pos               0\n",
              "compound          0\n",
              "dtype: int64"
            ]
          },
          "execution_count": 87,
          "metadata": {},
          "output_type": "execute_result"
        }
      ],
      "source": [
        "# check for nulls\n",
        "reddit.isnull().sum()"
      ]
    },
    {
      "cell_type": "markdown",
      "id": "rNsiL-ACg4Jh",
      "metadata": {
        "id": "rNsiL-ACg4Jh"
      },
      "source": [
        "Looks like there are some null values. As this is a small amount, drop the records."
      ]
    },
    {
      "cell_type": "code",
      "execution_count": null,
      "id": "V2X-F_Y1en-L",
      "metadata": {
        "id": "V2X-F_Y1en-L"
      },
      "outputs": [],
      "source": [
        "# drop the records that contain null values\n",
        "reddit = reddit.dropna()"
      ]
    },
    {
      "cell_type": "code",
      "execution_count": null,
      "id": "WVsEC4Tci3n9",
      "metadata": {
        "colab": {
          "base_uri": "https://localhost:8080/"
        },
        "id": "WVsEC4Tci3n9",
        "outputId": "fe4b7d20-e5a4-4983-c70e-5fa3a6dcdb9e"
      },
      "outputs": [
        {
          "data": {
            "text/plain": [
              "subreddit.name    0\n",
              "score             0\n",
              "date_posted       0\n",
              "cleaned_posts     0\n",
              "neg               0\n",
              "neu               0\n",
              "pos               0\n",
              "compound          0\n",
              "dtype: int64"
            ]
          },
          "execution_count": 89,
          "metadata": {},
          "output_type": "execute_result"
        }
      ],
      "source": [
        "# recheck to make sure the nulls are all dropped.\n",
        "reddit.isnull().sum()"
      ]
    },
    {
      "cell_type": "markdown",
      "id": "d5c4f4a8",
      "metadata": {
        "id": "d5c4f4a8"
      },
      "source": [
        "### Weighted Sentiment"
      ]
    },
    {
      "cell_type": "markdown",
      "id": "ed3824b5",
      "metadata": {
        "id": "ed3824b5"
      },
      "source": [
        "We want to create a weighting for the sentiment scoring. This is important as not all comments are treated equally -- some have more \"power\" than others. Power is essentially how many views, shares, likes, upvotes, etc. This is implicated in the `score` column. The score is a conglomerate of all the important factors that are associated with the comment and how popular it is. We will multiply the sentiment and score to get a weighted sentiment score."
      ]
    },
    {
      "cell_type": "code",
      "execution_count": null,
      "id": "457eae8e",
      "metadata": {
        "id": "457eae8e",
        "outputId": "5ec5e3de-e5eb-4ed4-80ce-f6b1527bd1f6"
      },
      "outputs": [
        {
          "name": "stdout",
          "output_type": "stream",
          "text": [
            "<class 'pandas.core.frame.DataFrame'>\n",
            "Int64Index: 197411 entries, 0 to 197419\n",
            "Data columns (total 8 columns):\n",
            " #   Column          Non-Null Count   Dtype         \n",
            "---  ------          --------------   -----         \n",
            " 0   subreddit.name  197411 non-null  object        \n",
            " 1   score           197411 non-null  object        \n",
            " 2   date_posted     197411 non-null  datetime64[ns]\n",
            " 3   cleaned_posts   197411 non-null  object        \n",
            " 4   neg             197411 non-null  float64       \n",
            " 5   neu             197411 non-null  float64       \n",
            " 6   pos             197411 non-null  float64       \n",
            " 7   compound        197411 non-null  float64       \n",
            "dtypes: datetime64[ns](1), float64(4), object(3)\n",
            "memory usage: 13.6+ MB\n"
          ]
        }
      ],
      "source": [
        "# lets check to see if the data is correctly stored\n",
        "reddit.info()"
      ]
    },
    {
      "cell_type": "code",
      "execution_count": null,
      "id": "OmF8QuvOeoCZ",
      "metadata": {
        "id": "OmF8QuvOeoCZ"
      },
      "outputs": [],
      "source": [
        "# need to convert the score data to int.\n",
        "reddit['score'] = reddit['score'].astype(int)"
      ]
    },
    {
      "cell_type": "code",
      "execution_count": null,
      "id": "OxnCcWS4eoE1",
      "metadata": {
        "colab": {
          "base_uri": "https://localhost:8080/"
        },
        "id": "OxnCcWS4eoE1",
        "outputId": "8ad6b694-5611-4d56-be60-b41c14c24f7b"
      },
      "outputs": [
        {
          "name": "stdout",
          "output_type": "stream",
          "text": [
            "<class 'pandas.core.frame.DataFrame'>\n",
            "Int64Index: 197411 entries, 0 to 197419\n",
            "Data columns (total 8 columns):\n",
            " #   Column          Non-Null Count   Dtype         \n",
            "---  ------          --------------   -----         \n",
            " 0   subreddit.name  197411 non-null  object        \n",
            " 1   score           197411 non-null  int32         \n",
            " 2   date_posted     197411 non-null  datetime64[ns]\n",
            " 3   cleaned_posts   197411 non-null  object        \n",
            " 4   neg             197411 non-null  float64       \n",
            " 5   neu             197411 non-null  float64       \n",
            " 6   pos             197411 non-null  float64       \n",
            " 7   compound        197411 non-null  float64       \n",
            "dtypes: datetime64[ns](1), float64(4), int32(1), object(2)\n",
            "memory usage: 12.8+ MB\n"
          ]
        }
      ],
      "source": [
        "reddit.info()"
      ]
    },
    {
      "cell_type": "code",
      "execution_count": null,
      "id": "9210fd4d",
      "metadata": {
        "id": "9210fd4d",
        "outputId": "d9ab1077-d803-43de-8049-9254dfec521a"
      },
      "outputs": [
        {
          "data": {
            "text/html": [
              "<div>\n",
              "<style scoped>\n",
              "    .dataframe tbody tr th:only-of-type {\n",
              "        vertical-align: middle;\n",
              "    }\n",
              "\n",
              "    .dataframe tbody tr th {\n",
              "        vertical-align: top;\n",
              "    }\n",
              "\n",
              "    .dataframe thead th {\n",
              "        text-align: right;\n",
              "    }\n",
              "</style>\n",
              "<table border=\"1\" class=\"dataframe\">\n",
              "  <thead>\n",
              "    <tr style=\"text-align: right;\">\n",
              "      <th></th>\n",
              "      <th>score</th>\n",
              "    </tr>\n",
              "  </thead>\n",
              "  <tbody>\n",
              "    <tr>\n",
              "      <th>count</th>\n",
              "      <td>197411.000000</td>\n",
              "    </tr>\n",
              "    <tr>\n",
              "      <th>mean</th>\n",
              "      <td>5.550309</td>\n",
              "    </tr>\n",
              "    <tr>\n",
              "      <th>std</th>\n",
              "      <td>37.769603</td>\n",
              "    </tr>\n",
              "    <tr>\n",
              "      <th>min</th>\n",
              "      <td>-264.000000</td>\n",
              "    </tr>\n",
              "    <tr>\n",
              "      <th>25%</th>\n",
              "      <td>1.000000</td>\n",
              "    </tr>\n",
              "    <tr>\n",
              "      <th>50%</th>\n",
              "      <td>2.000000</td>\n",
              "    </tr>\n",
              "    <tr>\n",
              "      <th>75%</th>\n",
              "      <td>5.000000</td>\n",
              "    </tr>\n",
              "    <tr>\n",
              "      <th>max</th>\n",
              "      <td>5124.000000</td>\n",
              "    </tr>\n",
              "  </tbody>\n",
              "</table>\n",
              "</div>"
            ],
            "text/plain": [
              "               score\n",
              "count  197411.000000\n",
              "mean        5.550309\n",
              "std        37.769603\n",
              "min      -264.000000\n",
              "25%         1.000000\n",
              "50%         2.000000\n",
              "75%         5.000000\n",
              "max      5124.000000"
            ]
          },
          "execution_count": 93,
          "metadata": {},
          "output_type": "execute_result"
        }
      ],
      "source": [
        "# check to see how this data look for score\n",
        "reddit[['score']].describe()"
      ]
    },
    {
      "cell_type": "code",
      "execution_count": null,
      "id": "85df6567",
      "metadata": {
        "id": "85df6567",
        "outputId": "d56992cd-18ee-4ad4-ab66-8be411f37eff"
      },
      "outputs": [
        {
          "data": {
            "image/png": "[encoded data removed]",
            "text/plain": [
              "<Figure size 1200x600 with 1 Axes>"
            ]
          },
          "metadata": {},
          "output_type": "display_data"
        }
      ],
      "source": [
        "# distribution of the score metric\n",
        "plt.figure(figsize=(12,6))\n",
        "\n",
        "sns.boxplot(reddit['score'])\n",
        "plt.title('Boxplot distribution for Score column')\n",
        "plt.show()"
      ]
    },
    {
      "cell_type": "markdown",
      "id": "e3aaa20f",
      "metadata": {
        "id": "e3aaa20f"
      },
      "source": [
        "The distribution is heavily skewed."
      ]
    },
    {
      "cell_type": "code",
      "execution_count": null,
      "id": "Mats9hp3eoHH",
      "metadata": {
        "colab": {
          "base_uri": "https://localhost:8080/",
          "height": 424
        },
        "id": "Mats9hp3eoHH",
        "outputId": "89704f9d-037c-4381-826d-39b68593043f"
      },
      "outputs": [
        {
          "data": {
            "text/html": [
              "<div>\n",
              "<style scoped>\n",
              "    .dataframe tbody tr th:only-of-type {\n",
              "        vertical-align: middle;\n",
              "    }\n",
              "\n",
              "    .dataframe tbody tr th {\n",
              "        vertical-align: top;\n",
              "    }\n",
              "\n",
              "    .dataframe thead th {\n",
              "        text-align: right;\n",
              "    }\n",
              "</style>\n",
              "<table border=\"1\" class=\"dataframe\">\n",
              "  <thead>\n",
              "    <tr style=\"text-align: right;\">\n",
              "      <th></th>\n",
              "      <th>subreddit.name</th>\n",
              "      <th>score</th>\n",
              "      <th>date_posted</th>\n",
              "      <th>cleaned_posts</th>\n",
              "      <th>neg</th>\n",
              "      <th>neu</th>\n",
              "      <th>pos</th>\n",
              "      <th>compound</th>\n",
              "      <th>weighted_sentiment</th>\n",
              "    </tr>\n",
              "  </thead>\n",
              "  <tbody>\n",
              "    <tr>\n",
              "      <th>0</th>\n",
              "      <td>valueinvesting</td>\n",
              "      <td>1</td>\n",
              "      <td>2022-07-04</td>\n",
              "      <td>tsla 1 thousandshare price 8 billionsales 1 bi...</td>\n",
              "      <td>0.000</td>\n",
              "      <td>0.833</td>\n",
              "      <td>0.167</td>\n",
              "      <td>0.2960</td>\n",
              "      <td>0.2960</td>\n",
              "    </tr>\n",
              "    <tr>\n",
              "      <th>1</th>\n",
              "      <td>stocks</td>\n",
              "      <td>1</td>\n",
              "      <td>2022-07-04</td>\n",
              "      <td>tsla go stock… best way make price go sell it…...</td>\n",
              "      <td>0.048</td>\n",
              "      <td>0.655</td>\n",
              "      <td>0.296</td>\n",
              "      <td>0.8658</td>\n",
              "      <td>0.8658</td>\n",
              "    </tr>\n",
              "    <tr>\n",
              "      <th>2</th>\n",
              "      <td>personalfinance</td>\n",
              "      <td>8</td>\n",
              "      <td>2022-07-04</td>\n",
              "      <td>gt mean started investing thats came highly re...</td>\n",
              "      <td>0.061</td>\n",
              "      <td>0.707</td>\n",
              "      <td>0.232</td>\n",
              "      <td>0.6223</td>\n",
              "      <td>4.9784</td>\n",
              "    </tr>\n",
              "    <tr>\n",
              "      <th>3</th>\n",
              "      <td>personalfinance</td>\n",
              "      <td>-2</td>\n",
              "      <td>2022-07-04</td>\n",
              "      <td>trade etfs div sdiv usoi etn im real sure gut ...</td>\n",
              "      <td>0.087</td>\n",
              "      <td>0.807</td>\n",
              "      <td>0.107</td>\n",
              "      <td>0.0772</td>\n",
              "      <td>-0.1544</td>\n",
              "    </tr>\n",
              "    <tr>\n",
              "      <th>4</th>\n",
              "      <td>wallstreetbets</td>\n",
              "      <td>1</td>\n",
              "      <td>2022-07-04</td>\n",
              "      <td>think macro runs coming sell wait big crash bu...</td>\n",
              "      <td>0.152</td>\n",
              "      <td>0.730</td>\n",
              "      <td>0.118</td>\n",
              "      <td>-0.1531</td>\n",
              "      <td>-0.1531</td>\n",
              "    </tr>\n",
              "    <tr>\n",
              "      <th>...</th>\n",
              "      <td>...</td>\n",
              "      <td>...</td>\n",
              "      <td>...</td>\n",
              "      <td>...</td>\n",
              "      <td>...</td>\n",
              "      <td>...</td>\n",
              "      <td>...</td>\n",
              "      <td>...</td>\n",
              "      <td>...</td>\n",
              "    </tr>\n",
              "    <tr>\n",
              "      <th>197415</th>\n",
              "      <td>thetagang</td>\n",
              "      <td>2</td>\n",
              "      <td>2021-07-05</td>\n",
              "      <td>yeah like week pretty much nothing cases try s...</td>\n",
              "      <td>0.069</td>\n",
              "      <td>0.494</td>\n",
              "      <td>0.437</td>\n",
              "      <td>0.9169</td>\n",
              "      <td>1.8338</td>\n",
              "    </tr>\n",
              "    <tr>\n",
              "      <th>197416</th>\n",
              "      <td>stocks</td>\n",
              "      <td>34</td>\n",
              "      <td>2021-07-05</td>\n",
              "      <td>invested tsla 2 years ago mind year year expon...</td>\n",
              "      <td>0.000</td>\n",
              "      <td>0.682</td>\n",
              "      <td>0.318</td>\n",
              "      <td>0.9793</td>\n",
              "      <td>33.2962</td>\n",
              "    </tr>\n",
              "    <tr>\n",
              "      <th>197417</th>\n",
              "      <td>valueinvesting</td>\n",
              "      <td>4</td>\n",
              "      <td>2021-07-05</td>\n",
              "      <td>1 point 400 share 200 compared tsla outrageous...</td>\n",
              "      <td>0.114</td>\n",
              "      <td>0.722</td>\n",
              "      <td>0.163</td>\n",
              "      <td>0.0772</td>\n",
              "      <td>0.3088</td>\n",
              "    </tr>\n",
              "    <tr>\n",
              "      <th>197418</th>\n",
              "      <td>wallstreetbets</td>\n",
              "      <td>19</td>\n",
              "      <td>2021-07-05</td>\n",
              "      <td>guy taking 2nd mortgage mu 90 calls degenerate...</td>\n",
              "      <td>0.202</td>\n",
              "      <td>0.798</td>\n",
              "      <td>0.000</td>\n",
              "      <td>-0.6486</td>\n",
              "      <td>-12.3234</td>\n",
              "    </tr>\n",
              "    <tr>\n",
              "      <th>197419</th>\n",
              "      <td>personalfinancecanada</td>\n",
              "      <td>3</td>\n",
              "      <td>2021-07-05</td>\n",
              "      <td>think youre correct tco still favour ice im go...</td>\n",
              "      <td>0.075</td>\n",
              "      <td>0.770</td>\n",
              "      <td>0.155</td>\n",
              "      <td>0.7096</td>\n",
              "      <td>2.1288</td>\n",
              "    </tr>\n",
              "  </tbody>\n",
              "</table>\n",
              "<p>197411 rows × 9 columns</p>\n",
              "</div>"
            ],
            "text/plain": [
              "               subreddit.name  score date_posted  \\\n",
              "0              valueinvesting      1  2022-07-04   \n",
              "1                      stocks      1  2022-07-04   \n",
              "2             personalfinance      8  2022-07-04   \n",
              "3             personalfinance     -2  2022-07-04   \n",
              "4              wallstreetbets      1  2022-07-04   \n",
              "...                       ...    ...         ...   \n",
              "197415              thetagang      2  2021-07-05   \n",
              "197416                 stocks     34  2021-07-05   \n",
              "197417         valueinvesting      4  2021-07-05   \n",
              "197418         wallstreetbets     19  2021-07-05   \n",
              "197419  personalfinancecanada      3  2021-07-05   \n",
              "\n",
              "                                            cleaned_posts    neg    neu  \\\n",
              "0       tsla 1 thousandshare price 8 billionsales 1 bi...  0.000  0.833   \n",
              "1       tsla go stock… best way make price go sell it…...  0.048  0.655   \n",
              "2       gt mean started investing thats came highly re...  0.061  0.707   \n",
              "3       trade etfs div sdiv usoi etn im real sure gut ...  0.087  0.807   \n",
              "4       think macro runs coming sell wait big crash bu...  0.152  0.730   \n",
              "...                                                   ...    ...    ...   \n",
              "197415  yeah like week pretty much nothing cases try s...  0.069  0.494   \n",
              "197416  invested tsla 2 years ago mind year year expon...  0.000  0.682   \n",
              "197417  1 point 400 share 200 compared tsla outrageous...  0.114  0.722   \n",
              "197418  guy taking 2nd mortgage mu 90 calls degenerate...  0.202  0.798   \n",
              "197419  think youre correct tco still favour ice im go...  0.075  0.770   \n",
              "\n",
              "          pos  compound  weighted_sentiment  \n",
              "0       0.167    0.2960              0.2960  \n",
              "1       0.296    0.8658              0.8658  \n",
              "2       0.232    0.6223              4.9784  \n",
              "3       0.107    0.0772             -0.1544  \n",
              "4       0.118   -0.1531             -0.1531  \n",
              "...       ...       ...                 ...  \n",
              "197415  0.437    0.9169              1.8338  \n",
              "197416  0.318    0.9793             33.2962  \n",
              "197417  0.163    0.0772              0.3088  \n",
              "197418  0.000   -0.6486            -12.3234  \n",
              "197419  0.155    0.7096              2.1288  \n",
              "\n",
              "[197411 rows x 9 columns]"
            ]
          },
          "execution_count": 95,
          "metadata": {},
          "output_type": "execute_result"
        }
      ],
      "source": [
        "# create the weighted_sentiment score\n",
        "reddit['weighted_sentiment'] = reddit['compound']*reddit['score']\n",
        "reddit"
      ]
    },
    {
      "cell_type": "code",
      "execution_count": null,
      "id": "xrLy6clrjJ3E",
      "metadata": {
        "colab": {
          "base_uri": "https://localhost:8080/",
          "height": 300
        },
        "id": "xrLy6clrjJ3E",
        "outputId": "53155095-77d4-4ce0-d172-45d06dbcaf81"
      },
      "outputs": [
        {
          "data": {
            "text/html": [
              "<div>\n",
              "<style scoped>\n",
              "    .dataframe tbody tr th:only-of-type {\n",
              "        vertical-align: middle;\n",
              "    }\n",
              "\n",
              "    .dataframe tbody tr th {\n",
              "        vertical-align: top;\n",
              "    }\n",
              "\n",
              "    .dataframe thead th {\n",
              "        text-align: right;\n",
              "    }\n",
              "</style>\n",
              "<table border=\"1\" class=\"dataframe\">\n",
              "  <thead>\n",
              "    <tr style=\"text-align: right;\">\n",
              "      <th></th>\n",
              "      <th>score</th>\n",
              "      <th>neg</th>\n",
              "      <th>neu</th>\n",
              "      <th>pos</th>\n",
              "      <th>compound</th>\n",
              "      <th>weighted_sentiment</th>\n",
              "    </tr>\n",
              "  </thead>\n",
              "  <tbody>\n",
              "    <tr>\n",
              "      <th>count</th>\n",
              "      <td>197411.000000</td>\n",
              "      <td>197411.000000</td>\n",
              "      <td>197411.000000</td>\n",
              "      <td>197411.000000</td>\n",
              "      <td>197411.000000</td>\n",
              "      <td>197411.000000</td>\n",
              "    </tr>\n",
              "    <tr>\n",
              "      <th>mean</th>\n",
              "      <td>5.550309</td>\n",
              "      <td>0.095589</td>\n",
              "      <td>0.751654</td>\n",
              "      <td>0.152761</td>\n",
              "      <td>0.183994</td>\n",
              "      <td>0.900089</td>\n",
              "    </tr>\n",
              "    <tr>\n",
              "      <th>std</th>\n",
              "      <td>37.769603</td>\n",
              "      <td>0.136327</td>\n",
              "      <td>0.187923</td>\n",
              "      <td>0.155252</td>\n",
              "      <td>0.491010</td>\n",
              "      <td>17.768752</td>\n",
              "    </tr>\n",
              "    <tr>\n",
              "      <th>min</th>\n",
              "      <td>-264.000000</td>\n",
              "      <td>0.000000</td>\n",
              "      <td>0.000000</td>\n",
              "      <td>0.000000</td>\n",
              "      <td>-0.999000</td>\n",
              "      <td>-1289.301600</td>\n",
              "    </tr>\n",
              "    <tr>\n",
              "      <th>25%</th>\n",
              "      <td>1.000000</td>\n",
              "      <td>0.000000</td>\n",
              "      <td>0.625000</td>\n",
              "      <td>0.000000</td>\n",
              "      <td>0.000000</td>\n",
              "      <td>0.000000</td>\n",
              "    </tr>\n",
              "    <tr>\n",
              "      <th>50%</th>\n",
              "      <td>2.000000</td>\n",
              "      <td>0.000000</td>\n",
              "      <td>0.748000</td>\n",
              "      <td>0.131000</td>\n",
              "      <td>0.077200</td>\n",
              "      <td>0.000000</td>\n",
              "    </tr>\n",
              "    <tr>\n",
              "      <th>75%</th>\n",
              "      <td>5.000000</td>\n",
              "      <td>0.156000</td>\n",
              "      <td>0.920000</td>\n",
              "      <td>0.249000</td>\n",
              "      <td>0.598400</td>\n",
              "      <td>0.998900</td>\n",
              "    </tr>\n",
              "    <tr>\n",
              "      <th>max</th>\n",
              "      <td>5124.000000</td>\n",
              "      <td>1.000000</td>\n",
              "      <td>1.000000</td>\n",
              "      <td>0.960000</td>\n",
              "      <td>0.999800</td>\n",
              "      <td>3224.190600</td>\n",
              "    </tr>\n",
              "  </tbody>\n",
              "</table>\n",
              "</div>"
            ],
            "text/plain": [
              "               score            neg            neu            pos  \\\n",
              "count  197411.000000  197411.000000  197411.000000  197411.000000   \n",
              "mean        5.550309       0.095589       0.751654       0.152761   \n",
              "std        37.769603       0.136327       0.187923       0.155252   \n",
              "min      -264.000000       0.000000       0.000000       0.000000   \n",
              "25%         1.000000       0.000000       0.625000       0.000000   \n",
              "50%         2.000000       0.000000       0.748000       0.131000   \n",
              "75%         5.000000       0.156000       0.920000       0.249000   \n",
              "max      5124.000000       1.000000       1.000000       0.960000   \n",
              "\n",
              "            compound  weighted_sentiment  \n",
              "count  197411.000000       197411.000000  \n",
              "mean        0.183994            0.900089  \n",
              "std         0.491010           17.768752  \n",
              "min        -0.999000        -1289.301600  \n",
              "25%         0.000000            0.000000  \n",
              "50%         0.077200            0.000000  \n",
              "75%         0.598400            0.998900  \n",
              "max         0.999800         3224.190600  "
            ]
          },
          "execution_count": 96,
          "metadata": {},
          "output_type": "execute_result"
        }
      ],
      "source": [
        "reddit.describe()"
      ]
    },
    {
      "cell_type": "markdown",
      "id": "7SJzq_IyjN7k",
      "metadata": {
        "id": "7SJzq_IyjN7k"
      },
      "source": [
        "We can see that the weighted sentiment ranges from -1289 to 3224; whereas the compound ranges from -1 to 1."
      ]
    },
    {
      "cell_type": "markdown",
      "id": "rkGCPranj_Ti",
      "metadata": {
        "id": "rkGCPranj_Ti"
      },
      "source": [
        "Finally, we want to group the posts by date and take the average of the sentiment (compound and weighted_sentiment)."
      ]
    },
    {
      "cell_type": "code",
      "execution_count": null,
      "id": "ITCK7spwjM5L",
      "metadata": {
        "colab": {
          "base_uri": "https://localhost:8080/",
          "height": 455
        },
        "id": "ITCK7spwjM5L",
        "outputId": "32ed880a-8dde-44fa-c1cb-573faefac449"
      },
      "outputs": [
        {
          "data": {
            "text/html": [
              "<div>\n",
              "<style scoped>\n",
              "    .dataframe tbody tr th:only-of-type {\n",
              "        vertical-align: middle;\n",
              "    }\n",
              "\n",
              "    .dataframe tbody tr th {\n",
              "        vertical-align: top;\n",
              "    }\n",
              "\n",
              "    .dataframe thead th {\n",
              "        text-align: right;\n",
              "    }\n",
              "</style>\n",
              "<table border=\"1\" class=\"dataframe\">\n",
              "  <thead>\n",
              "    <tr style=\"text-align: right;\">\n",
              "      <th></th>\n",
              "      <th>score</th>\n",
              "      <th>neg</th>\n",
              "      <th>neu</th>\n",
              "      <th>pos</th>\n",
              "      <th>compound</th>\n",
              "      <th>weighted_sentiment</th>\n",
              "    </tr>\n",
              "    <tr>\n",
              "      <th>date_posted</th>\n",
              "      <th></th>\n",
              "      <th></th>\n",
              "      <th></th>\n",
              "      <th></th>\n",
              "      <th></th>\n",
              "      <th></th>\n",
              "    </tr>\n",
              "  </thead>\n",
              "  <tbody>\n",
              "    <tr>\n",
              "      <th>2021-07-05</th>\n",
              "      <td>4.600000</td>\n",
              "      <td>0.070193</td>\n",
              "      <td>0.734697</td>\n",
              "      <td>0.195124</td>\n",
              "      <td>0.294246</td>\n",
              "      <td>1.578406</td>\n",
              "    </tr>\n",
              "    <tr>\n",
              "      <th>2021-07-06</th>\n",
              "      <td>4.055276</td>\n",
              "      <td>0.098229</td>\n",
              "      <td>0.742857</td>\n",
              "      <td>0.158899</td>\n",
              "      <td>0.159091</td>\n",
              "      <td>0.720461</td>\n",
              "    </tr>\n",
              "    <tr>\n",
              "      <th>2021-07-07</th>\n",
              "      <td>4.123324</td>\n",
              "      <td>0.100220</td>\n",
              "      <td>0.730684</td>\n",
              "      <td>0.169102</td>\n",
              "      <td>0.223818</td>\n",
              "      <td>1.499726</td>\n",
              "    </tr>\n",
              "    <tr>\n",
              "      <th>2021-07-08</th>\n",
              "      <td>3.215159</td>\n",
              "      <td>0.089870</td>\n",
              "      <td>0.742621</td>\n",
              "      <td>0.167494</td>\n",
              "      <td>0.158081</td>\n",
              "      <td>0.810678</td>\n",
              "    </tr>\n",
              "    <tr>\n",
              "      <th>2021-07-09</th>\n",
              "      <td>2.822981</td>\n",
              "      <td>0.090798</td>\n",
              "      <td>0.753494</td>\n",
              "      <td>0.155717</td>\n",
              "      <td>0.161809</td>\n",
              "      <td>0.284380</td>\n",
              "    </tr>\n",
              "    <tr>\n",
              "      <th>...</th>\n",
              "      <td>...</td>\n",
              "      <td>...</td>\n",
              "      <td>...</td>\n",
              "      <td>...</td>\n",
              "      <td>...</td>\n",
              "      <td>...</td>\n",
              "    </tr>\n",
              "    <tr>\n",
              "      <th>2022-06-30</th>\n",
              "      <td>3.334218</td>\n",
              "      <td>0.119790</td>\n",
              "      <td>0.737374</td>\n",
              "      <td>0.142844</td>\n",
              "      <td>0.107938</td>\n",
              "      <td>0.346758</td>\n",
              "    </tr>\n",
              "    <tr>\n",
              "      <th>2022-07-01</th>\n",
              "      <td>4.423611</td>\n",
              "      <td>0.120368</td>\n",
              "      <td>0.739153</td>\n",
              "      <td>0.140493</td>\n",
              "      <td>0.070402</td>\n",
              "      <td>0.165937</td>\n",
              "    </tr>\n",
              "    <tr>\n",
              "      <th>2022-07-02</th>\n",
              "      <td>6.173252</td>\n",
              "      <td>0.106751</td>\n",
              "      <td>0.739353</td>\n",
              "      <td>0.153881</td>\n",
              "      <td>0.162170</td>\n",
              "      <td>0.269290</td>\n",
              "    </tr>\n",
              "    <tr>\n",
              "      <th>2022-07-03</th>\n",
              "      <td>2.964126</td>\n",
              "      <td>0.102695</td>\n",
              "      <td>0.735341</td>\n",
              "      <td>0.161942</td>\n",
              "      <td>0.182233</td>\n",
              "      <td>0.267852</td>\n",
              "    </tr>\n",
              "    <tr>\n",
              "      <th>2022-07-04</th>\n",
              "      <td>3.597315</td>\n",
              "      <td>0.085698</td>\n",
              "      <td>0.753671</td>\n",
              "      <td>0.160644</td>\n",
              "      <td>0.222813</td>\n",
              "      <td>0.877358</td>\n",
              "    </tr>\n",
              "  </tbody>\n",
              "</table>\n",
              "<p>365 rows × 6 columns</p>\n",
              "</div>"
            ],
            "text/plain": [
              "                score       neg       neu       pos  compound  \\\n",
              "date_posted                                                     \n",
              "2021-07-05   4.600000  0.070193  0.734697  0.195124  0.294246   \n",
              "2021-07-06   4.055276  0.098229  0.742857  0.158899  0.159091   \n",
              "2021-07-07   4.123324  0.100220  0.730684  0.169102  0.223818   \n",
              "2021-07-08   3.215159  0.089870  0.742621  0.167494  0.158081   \n",
              "2021-07-09   2.822981  0.090798  0.753494  0.155717  0.161809   \n",
              "...               ...       ...       ...       ...       ...   \n",
              "2022-06-30   3.334218  0.119790  0.737374  0.142844  0.107938   \n",
              "2022-07-01   4.423611  0.120368  0.739153  0.140493  0.070402   \n",
              "2022-07-02   6.173252  0.106751  0.739353  0.153881  0.162170   \n",
              "2022-07-03   2.964126  0.102695  0.735341  0.161942  0.182233   \n",
              "2022-07-04   3.597315  0.085698  0.753671  0.160644  0.222813   \n",
              "\n",
              "             weighted_sentiment  \n",
              "date_posted                      \n",
              "2021-07-05             1.578406  \n",
              "2021-07-06             0.720461  \n",
              "2021-07-07             1.499726  \n",
              "2021-07-08             0.810678  \n",
              "2021-07-09             0.284380  \n",
              "...                         ...  \n",
              "2022-06-30             0.346758  \n",
              "2022-07-01             0.165937  \n",
              "2022-07-02             0.269290  \n",
              "2022-07-03             0.267852  \n",
              "2022-07-04             0.877358  \n",
              "\n",
              "[365 rows x 6 columns]"
            ]
          },
          "execution_count": 97,
          "metadata": {},
          "output_type": "execute_result"
        }
      ],
      "source": [
        "# test the groupby method before saving to the reddit dataframe\n",
        "test = reddit.groupby('date_posted').mean()\n",
        "test"
      ]
    },
    {
      "cell_type": "code",
      "execution_count": null,
      "id": "-Tm1EqrvjM7w",
      "metadata": {
        "colab": {
          "base_uri": "https://localhost:8080/",
          "height": 300
        },
        "id": "-Tm1EqrvjM7w",
        "outputId": "ea642bde-7230-4892-fafb-71e6db6e7115"
      },
      "outputs": [
        {
          "data": {
            "text/html": [
              "<div>\n",
              "<style scoped>\n",
              "    .dataframe tbody tr th:only-of-type {\n",
              "        vertical-align: middle;\n",
              "    }\n",
              "\n",
              "    .dataframe tbody tr th {\n",
              "        vertical-align: top;\n",
              "    }\n",
              "\n",
              "    .dataframe thead th {\n",
              "        text-align: right;\n",
              "    }\n",
              "</style>\n",
              "<table border=\"1\" class=\"dataframe\">\n",
              "  <thead>\n",
              "    <tr style=\"text-align: right;\">\n",
              "      <th></th>\n",
              "      <th>score</th>\n",
              "      <th>neg</th>\n",
              "      <th>neu</th>\n",
              "      <th>pos</th>\n",
              "      <th>compound</th>\n",
              "      <th>weighted_sentiment</th>\n",
              "    </tr>\n",
              "  </thead>\n",
              "  <tbody>\n",
              "    <tr>\n",
              "      <th>count</th>\n",
              "      <td>365.000000</td>\n",
              "      <td>365.000000</td>\n",
              "      <td>365.000000</td>\n",
              "      <td>365.000000</td>\n",
              "      <td>365.000000</td>\n",
              "      <td>365.000000</td>\n",
              "    </tr>\n",
              "    <tr>\n",
              "      <th>mean</th>\n",
              "      <td>5.341318</td>\n",
              "      <td>0.093948</td>\n",
              "      <td>0.751015</td>\n",
              "      <td>0.155041</td>\n",
              "      <td>0.207996</td>\n",
              "      <td>0.951410</td>\n",
              "    </tr>\n",
              "    <tr>\n",
              "      <th>std</th>\n",
              "      <td>2.291044</td>\n",
              "      <td>0.011798</td>\n",
              "      <td>0.012618</td>\n",
              "      <td>0.011642</td>\n",
              "      <td>0.072416</td>\n",
              "      <td>0.961428</td>\n",
              "    </tr>\n",
              "    <tr>\n",
              "      <th>min</th>\n",
              "      <td>2.506311</td>\n",
              "      <td>0.038223</td>\n",
              "      <td>0.713844</td>\n",
              "      <td>0.122243</td>\n",
              "      <td>0.058862</td>\n",
              "      <td>-2.843788</td>\n",
              "    </tr>\n",
              "    <tr>\n",
              "      <th>25%</th>\n",
              "      <td>4.050485</td>\n",
              "      <td>0.086448</td>\n",
              "      <td>0.742752</td>\n",
              "      <td>0.147023</td>\n",
              "      <td>0.157325</td>\n",
              "      <td>0.489391</td>\n",
              "    </tr>\n",
              "    <tr>\n",
              "      <th>50%</th>\n",
              "      <td>4.735568</td>\n",
              "      <td>0.093485</td>\n",
              "      <td>0.750046</td>\n",
              "      <td>0.154821</td>\n",
              "      <td>0.198117</td>\n",
              "      <td>0.772545</td>\n",
              "    </tr>\n",
              "    <tr>\n",
              "      <th>75%</th>\n",
              "      <td>5.809793</td>\n",
              "      <td>0.102134</td>\n",
              "      <td>0.759265</td>\n",
              "      <td>0.162524</td>\n",
              "      <td>0.251206</td>\n",
              "      <td>1.292469</td>\n",
              "    </tr>\n",
              "    <tr>\n",
              "      <th>max</th>\n",
              "      <td>23.508591</td>\n",
              "      <td>0.131562</td>\n",
              "      <td>0.802345</td>\n",
              "      <td>0.203851</td>\n",
              "      <td>0.496966</td>\n",
              "      <td>7.043988</td>\n",
              "    </tr>\n",
              "  </tbody>\n",
              "</table>\n",
              "</div>"
            ],
            "text/plain": [
              "            score         neg         neu         pos    compound  \\\n",
              "count  365.000000  365.000000  365.000000  365.000000  365.000000   \n",
              "mean     5.341318    0.093948    0.751015    0.155041    0.207996   \n",
              "std      2.291044    0.011798    0.012618    0.011642    0.072416   \n",
              "min      2.506311    0.038223    0.713844    0.122243    0.058862   \n",
              "25%      4.050485    0.086448    0.742752    0.147023    0.157325   \n",
              "50%      4.735568    0.093485    0.750046    0.154821    0.198117   \n",
              "75%      5.809793    0.102134    0.759265    0.162524    0.251206   \n",
              "max     23.508591    0.131562    0.802345    0.203851    0.496966   \n",
              "\n",
              "       weighted_sentiment  \n",
              "count          365.000000  \n",
              "mean             0.951410  \n",
              "std              0.961428  \n",
              "min             -2.843788  \n",
              "25%              0.489391  \n",
              "50%              0.772545  \n",
              "75%              1.292469  \n",
              "max              7.043988  "
            ]
          },
          "execution_count": 98,
          "metadata": {},
          "output_type": "execute_result"
        }
      ],
      "source": [
        "test.describe()"
      ]
    },
    {
      "cell_type": "markdown",
      "id": "2aOHRRD1khSz",
      "metadata": {
        "id": "2aOHRRD1khSz"
      },
      "source": [
        "After applying the groupby method to the date_posted feature, we can see that the range of the weighted_sentiment has change drastically --- ranges from -2.8 to 7.\n",
        "\n",
        "The data is now ready to collectively be used with the stock data to perform some ML modeling (Book 3)."
      ]
    },
    {
      "cell_type": "code",
      "execution_count": null,
      "id": "BnOy3m7ZjNAx",
      "metadata": {
        "id": "BnOy3m7ZjNAx"
      },
      "outputs": [],
      "source": [
        "# now apply the same to the main dataset\n",
        "reddit = reddit.groupby('date_posted').mean()"
      ]
    },
    {
      "cell_type": "markdown",
      "id": "a-REpXkIlFb0",
      "metadata": {
        "id": "a-REpXkIlFb0"
      },
      "source": [
        "### Export the final reddit data to a csv file."
      ]
    },
    {
      "cell_type": "code",
      "execution_count": null,
      "id": "4vOGCrpek-L_",
      "metadata": {
        "id": "4vOGCrpek-L_"
      },
      "outputs": [],
      "source": [
        "reddit.to_csv('data/final_reddit.csv')"
      ]
    }
  ],
  "metadata": {
    "colab": {
      "provenance": []
    },
    "kernelspec": {
      "display_name": "capstone",
      "language": "python",
      "name": "capstone"
    },
    "language_info": {
      "codemirror_mode": {
        "name": "ipython",
        "version": 3
      },
      "file_extension": ".py",
      "mimetype": "text/x-python",
      "name": "python",
      "nbconvert_exporter": "python",
      "pygments_lexer": "ipython3",
      "version": "3.10.9"
    }
  },
  "nbformat": 4,
  "nbformat_minor": 5
}